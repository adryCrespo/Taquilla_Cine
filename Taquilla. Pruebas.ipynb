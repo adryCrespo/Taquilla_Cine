{
 "cells": [
  {
   "cell_type": "markdown",
   "id": "bae94d6c",
   "metadata": {
    "toc": true
   },
   "source": [
    "<h1>Table of Contents<span class=\"tocSkip\"></span></h1>\n",
    "<div class=\"toc\"><ul class=\"toc-item\"><li><span><a href=\"#FUNCIONES\" data-toc-modified-id=\"FUNCIONES-1\"><span class=\"toc-item-num\">1&nbsp;&nbsp;</span>FUNCIONES</a></span></li><li><span><a href=\"#IMPORTAR-DATOS\" data-toc-modified-id=\"IMPORTAR-DATOS-2\"><span class=\"toc-item-num\">2&nbsp;&nbsp;</span>IMPORTAR DATOS</a></span></li><li><span><a href=\"#Feature-engineer\" data-toc-modified-id=\"Feature-engineer-3\"><span class=\"toc-item-num\">3&nbsp;&nbsp;</span>Feature engineer</a></span><ul class=\"toc-item\"><li><ul class=\"toc-item\"><li><span><a href=\"#Funciones\" data-toc-modified-id=\"Funciones-3.0.1\"><span class=\"toc-item-num\">3.0.1&nbsp;&nbsp;</span>Funciones</a></span></li></ul></li><li><span><a href=\"#No-funciono\" data-toc-modified-id=\"No-funciono-3.1\"><span class=\"toc-item-num\">3.1&nbsp;&nbsp;</span>No funciono</a></span></li><li><span><a href=\"#No-probado\" data-toc-modified-id=\"No-probado-3.2\"><span class=\"toc-item-num\">3.2&nbsp;&nbsp;</span>No probado</a></span><ul class=\"toc-item\"><li><span><a href=\"#belongs_to_collection\" data-toc-modified-id=\"belongs_to_collection-3.2.1\"><span class=\"toc-item-num\">3.2.1&nbsp;&nbsp;</span>belongs_to_collection</a></span></li><li><span><a href=\"#Generos\" data-toc-modified-id=\"Generos-3.2.2\"><span class=\"toc-item-num\">3.2.2&nbsp;&nbsp;</span>Generos</a></span></li><li><span><a href=\"#cast:-numero-de-actores-famosos\" data-toc-modified-id=\"cast:-numero-de-actores-famosos-3.2.3\"><span class=\"toc-item-num\">3.2.3&nbsp;&nbsp;</span>cast: numero de actores famosos</a></span></li></ul></li></ul></li><li><span><a href=\"#UNIR\" data-toc-modified-id=\"UNIR-4\"><span class=\"toc-item-num\">4&nbsp;&nbsp;</span>UNIR</a></span></li><li><span><a href=\"#Seleccion-de-variables\" data-toc-modified-id=\"Seleccion-de-variables-5\"><span class=\"toc-item-num\">5&nbsp;&nbsp;</span>Seleccion de variables</a></span><ul class=\"toc-item\"><li><span><a href=\"#Permutation-information\" data-toc-modified-id=\"Permutation-information-5.1\"><span class=\"toc-item-num\">5.1&nbsp;&nbsp;</span>Permutation information</a></span></li><li><span><a href=\"#Correlacion\" data-toc-modified-id=\"Correlacion-5.2\"><span class=\"toc-item-num\">5.2&nbsp;&nbsp;</span>Correlacion</a></span></li></ul></li><li><span><a href=\"#Grid-search\" data-toc-modified-id=\"Grid-search-6\"><span class=\"toc-item-num\">6&nbsp;&nbsp;</span>Grid search</a></span><ul class=\"toc-item\"><li><span><a href=\"#Intento-0\" data-toc-modified-id=\"Intento-0-6.1\"><span class=\"toc-item-num\">6.1&nbsp;&nbsp;</span>Intento 0</a></span></li><li><span><a href=\"#Intento-1\" data-toc-modified-id=\"Intento-1-6.2\"><span class=\"toc-item-num\">6.2&nbsp;&nbsp;</span>Intento 1</a></span></li><li><span><a href=\"#Intento-2\" data-toc-modified-id=\"Intento-2-6.3\"><span class=\"toc-item-num\">6.3&nbsp;&nbsp;</span>Intento 2</a></span></li><li><span><a href=\"#Intento-3\" data-toc-modified-id=\"Intento-3-6.4\"><span class=\"toc-item-num\">6.4&nbsp;&nbsp;</span>Intento 3</a></span></li></ul></li><li><span><a href=\"#cv\" data-toc-modified-id=\"cv-7\"><span class=\"toc-item-num\">7&nbsp;&nbsp;</span>cv</a></span><ul class=\"toc-item\"><li><ul class=\"toc-item\"><li><span><a href=\"#base\" data-toc-modified-id=\"base-7.0.1\"><span class=\"toc-item-num\">7.0.1&nbsp;&nbsp;</span>base</a></span></li><li><span><a href=\"#intento-1\" data-toc-modified-id=\"intento-1-7.0.2\"><span class=\"toc-item-num\">7.0.2&nbsp;&nbsp;</span>intento 1</a></span></li><li><span><a href=\"#Intento2\" data-toc-modified-id=\"Intento2-7.0.3\"><span class=\"toc-item-num\">7.0.3&nbsp;&nbsp;</span>Intento2</a></span></li><li><span><a href=\"#Intento-3\" data-toc-modified-id=\"Intento-3-7.0.4\"><span class=\"toc-item-num\">7.0.4&nbsp;&nbsp;</span>Intento 3</a></span></li><li><span><a href=\"#Intento-4\" data-toc-modified-id=\"Intento-4-7.0.5\"><span class=\"toc-item-num\">7.0.5&nbsp;&nbsp;</span>Intento 4</a></span></li><li><span><a href=\"#intento-5\" data-toc-modified-id=\"intento-5-7.0.6\"><span class=\"toc-item-num\">7.0.6&nbsp;&nbsp;</span>intento 5</a></span></li><li><span><a href=\"#Intento-6\" data-toc-modified-id=\"Intento-6-7.0.7\"><span class=\"toc-item-num\">7.0.7&nbsp;&nbsp;</span>Intento 6</a></span></li></ul></li></ul></li><li><span><a href=\"#Test\" data-toc-modified-id=\"Test-8\"><span class=\"toc-item-num\">8&nbsp;&nbsp;</span>Test</a></span></li></ul></div>"
   ]
  },
  {
   "cell_type": "code",
   "execution_count": 1,
   "id": "421e7ddd",
   "metadata": {},
   "outputs": [
    {
     "name": "stderr",
     "output_type": "stream",
     "text": [
      "C:\\Users\\acrespod\\Anaconda3\\lib\\site-packages\\scipy\\__init__.py:146: UserWarning: A NumPy version >=1.16.5 and <1.23.0 is required for this version of SciPy (detected version 1.23.1\n",
      "  warnings.warn(f\"A NumPy version >={np_minversion} and <{np_maxversion}\"\n"
     ]
    }
   ],
   "source": [
    "import numpy as np\n",
    "import pandas as pd\n",
    "import matplotlib.pyplot as plt\n",
    "%matplotlib inline\n",
    "\n",
    "from sklearn.preprocessing import OneHotEncoder\n",
    "from sklearn.preprocessing import OrdinalEncoder\n",
    "\n",
    "from sklearn.preprocessing import KBinsDiscretizer\n",
    "from sklearn.preprocessing import Binarizer\n",
    "\n",
    "from sklearn.feature_extraction.text import TfidfVectorizer\n",
    "\n",
    "from sklearn.preprocessing import RobustScaler\n",
    "# from sklearn.preprocessing import MinMaxScaler\n",
    "from sklearn.model_selection import train_test_split\n",
    "#Automcompletar rápido\n",
    "%config IPCompleter.greedy=True\n",
    "\n",
    "#Desactivar la notación científica\n",
    "pd.options.display.float_format = '{:.2f}'.format\n",
    "\n",
    "#Desactivar los warnings\n",
    "import warnings\n",
    "warnings.filterwarnings(\"ignore\")\n",
    "\n",
    "from sklearn.inspection import permutation_importance\n",
    "\n",
    "from sklearn.experimental import enable_hist_gradient_boosting\n",
    "from xgboost import XGBRegressor\n",
    "from sklearn.ensemble import HistGradientBoostingRegressor\n",
    "from sklearn.ensemble import RandomForestRegressor\n",
    "\n",
    "\n",
    "\n",
    "\n",
    "from sklearn.pipeline import Pipeline\n",
    "from sklearn.preprocessing import FunctionTransformer\n",
    "from sklearn.compose import make_column_transformer\n",
    "from sklearn.pipeline import make_pipeline"
   ]
  },
  {
   "cell_type": "code",
   "execution_count": 2,
   "id": "8ba34036",
   "metadata": {},
   "outputs": [],
   "source": [
    "import seaborn as sns\n",
    "from sklearn.metrics import mean_squared_error"
   ]
  },
  {
   "cell_type": "markdown",
   "id": "b99b4dd9",
   "metadata": {},
   "source": [
    "# FUNCIONES"
   ]
  },
  {
   "cell_type": "code",
   "execution_count": 3,
   "id": "71a5c97f",
   "metadata": {},
   "outputs": [],
   "source": [
    "def frecuencias_series(series, lista_posible, grafico=False):\n",
    "    \"\"\"series: serie con elementos en string separados por comas\n",
    "        lista_posible: todas las posibles strings en series\n",
    "        \"\"\"\n",
    "    aux = pd.Series( dtype='float64')\n",
    "    for elemento in list(lista_posible):\n",
    "    \n",
    "        n = series.apply(lambda x:  elemento in x).sum()/2100*100\n",
    "        aux = pd.concat([aux,pd.Series({elemento:n})] )\n",
    "    if grafico:\n",
    "        aux.sort_values().plot.barh()\n",
    "    return aux.sort_values()\n",
    "\n",
    "\n",
    "def lista_posibles(series):\n",
    "    aux = series.map(lambda x: sorted([d['name'] for d in get_dictionary(x)]))\n",
    "    generos = set()\n",
    "    for f in aux:\n",
    "        generos.update(f)\n",
    "    return generos\n",
    "\n",
    "\n",
    "\n",
    "def get_dictionary(s):\n",
    "    try:\n",
    "        d = eval(s)\n",
    "    except:\n",
    "        d = {}\n",
    "    return d\n",
    "\n",
    "def get_temp_var(df_cat):\n",
    "    a = df_cat.release_date.dt.year\n",
    "    b = df_cat.release_date.dt.month\n",
    "    c = df_cat.release_date.dt.dayofweek\n",
    "    d = df_cat.release_date.dt.quarter\n",
    "    x = pd.concat([a,b,c,d],axis=1)\n",
    "    x.columns = ['rd_year', 'rd_mes', 'rd_dia_semana', 'rd_cuatrimestre']\n",
    "    return x\n",
    "\n",
    "\n",
    "def conteo_genero(serie):\n",
    "    aux = []\n",
    "    for numero in [0,1,2]:\n",
    "        x = serie.apply(lambda lista: lista.count(numero))\n",
    "        aux.append(x)\n",
    "    df_aux = pd.concat(aux,axis=1)\n",
    "    df_aux.columns = ['cast_genero_0','cast_genero_1','cast_genero_2']\n",
    "    return df_aux\n",
    "\n"
   ]
  },
  {
   "cell_type": "code",
   "execution_count": 4,
   "id": "6864c277",
   "metadata": {},
   "outputs": [],
   "source": [
    "def procesamiento(cat):\n",
    "    cat = cat.copy()\n",
    "    #ELIMINAR\n",
    "    a_eliminar = ['belongs_to_collection','homepage','imdb_id','poster_path','tagline','spoken_languages',]\n",
    "    cat.drop(columns=a_eliminar,inplace=True)\n",
    "\n",
    "    #IMPUTACION\n",
    "    cat.genres.fillna('OTRO', inplace=True)\n",
    "    cat.production_companies.fillna('OTRO',inplace=True)\n",
    "    cat.production_countries.fillna('OTRO',inplace=True)\n",
    "    cat.Keywords.fillna('OTRO',inplace=True)\n",
    "    cat.cast.fillna('OTRO',inplace=True)\n",
    "    cat.crew.fillna('OTRO',inplace=True)\n",
    "\n",
    "    cat.release_date = pd.to_datetime(cat.release_date)\n",
    "\n",
    "\n",
    "\n",
    "    # LISTA VARIABLES\n",
    "    lista_vars =['genres','production_companies','production_countries','Keywords','cast','crew']\n",
    "    no_transformadas = [v for v in cat.columns.tolist() if v not in lista_vars]\n",
    "    no_transformadas\n",
    "\n",
    "    #DF VARIABLES SIN JSONS\n",
    "    aux = []\n",
    "    for var in lista_vars:\n",
    "        z = cat[var].map(lambda x: sorted([d['name'] for d in get_dictionary(x)])).map(lambda x: ','.join(map(str, x)))\n",
    "        aux.append(z)\n",
    "\n",
    "\n",
    "    df_limpios = pd.concat(aux,axis=1)\n",
    "\n",
    "\n",
    "\n",
    "    #DF FRECUENCIAS DE VARIABLES LIMPIAS\n",
    "    aux = []\n",
    "    for column in df_limpios.columns:\n",
    "        z = df_limpios[column].map(lambda x: len(x.split(',')))\n",
    "        aux.append(z)\n",
    "    df_freq = pd.concat(aux,axis=1)\n",
    "    df_freq.columns = [var+\"_freq\" for var in df_freq.columns]\n",
    "    df_freq\n",
    "\n",
    "    # VARIABLES TIEMPO\n",
    "    df_temp = get_temp_var(cat)\n",
    "    df_temp['rd_year'] = np.where(df_temp['rd_year']>2020,df_temp['rd_year']-100,df_temp['rd_year'])\n",
    "\n",
    "    # frecuencia genero\n",
    "    z = cat['cast'].map(lambda x: sorted([d['gender'] for d in get_dictionary(x)]))\n",
    "    df_cast_genero_freq = conteo_genero(z)    \n",
    "    \n",
    "    \n",
    "    # UNIR TODOS LOS DATASETS\n",
    "    df_cat = pd.concat([cat[no_transformadas],df_temp,df_limpios,df_freq,df_cast_genero_freq],axis=1)\n",
    "\n",
    "\n",
    "    # VARIABLES NUEVA WINSORIZADO\n",
    "    df_cat['bin_english'] = np.where(df_cat.original_language=='en',1,0) \n",
    "    df_cat['genres_freq'] = np.where(df_cat['genres_freq']>4,4,df_cat['genres_freq'])\n",
    "    df_cat['production_companies_freq'] = np.where(df_cat['production_companies_freq']>4,4,df_cat['production_companies_freq'])\n",
    "    df_cat['production_countries_freq'] = np.where(df_cat['production_countries_freq']>1,1,0)\n",
    "\n",
    "\n",
    "    variable = 'Keywords_freq'\n",
    "    minimo = 0\n",
    "    maximo = 35\n",
    "    df_cat[variable].clip(minimo,maximo, inplace=True)\n",
    "\n",
    "    variable = 'cast_freq'\n",
    "    minimo = 0\n",
    "    maximo = 85\n",
    "    df_cat[variable].clip(minimo,maximo, inplace=True)\n",
    "\n",
    "    variable = 'crew_freq'\n",
    "    minimo = 0\n",
    "    maximo = 135\n",
    "    df_cat[variable].clip(minimo,maximo, inplace=True)\n",
    "    return df_cat"
   ]
  },
  {
   "cell_type": "code",
   "execution_count": 5,
   "id": "d7426846",
   "metadata": {},
   "outputs": [],
   "source": [
    "def get_ohe_var_series(series,elemento):\n",
    "    \"\"\"series : series\n",
    "        elemento :str\n",
    "    \"\"\"\n",
    "    \n",
    "    series_ohe = series.apply(lambda x: 1  if  elemento in x else 0 )\n",
    "    series_ohe.name = series.name +\"_\"+elemento\n",
    "    return series_ohe\n",
    "\n",
    "def post_procesamiento_m1(_df_cat):\n",
    "    \n",
    "#     #ELIMINAR COLUMNAS\n",
    "#     df_cat.drop(columns={'status','original_language'},inplace=True)\n",
    "    \n",
    "#     # DF_OBJETOS\n",
    "#     df_object = df_cat.select_dtypes(include = 'object').copy()\n",
    "    \n",
    "#     # VARIABLES NUMERICAS DE DF_CAT\n",
    "#     df_cat2 = df_cat.select_dtypes(exclude = 'object').copy()\n",
    "#     df_cat2.drop(columns=['release_date'],inplace=True)\n",
    "\n",
    "#     df_prod_country = top_ohe_uniques(df_cat1['production_countries'],numero_top=10)\n",
    "#     [('production_countries','United States of America')]\n",
    "    \n",
    "#      [('production_countries','United States of America')]\n",
    "    diccionario_variables = {\n",
    "        'production_countries':['United States of America'],\n",
    "        'production_companies'  :['Paramount Pictures'],\n",
    "        'Keywords':['freq_rs', 'independent film', 'murder']\n",
    "        \n",
    "    }\n",
    "\n",
    "    aux = []\n",
    "    for variable, terminos in diccionario_variables.items():\n",
    "\n",
    "        for termino in terminos:\n",
    "            z= get_ohe_var_series( _df_cat[variable],termino)\n",
    "            aux.append(z)\n",
    "            \n",
    "    df_fei2 = pd.concat(aux,axis=1)\n",
    "    df_cat2 = pd.concat([_df_cat,df_fei2],axis=1)\n",
    "\n",
    "\n",
    "    return df_cat2"
   ]
  },
  {
   "cell_type": "code",
   "execution_count": 6,
   "id": "1ab980cf",
   "metadata": {},
   "outputs": [],
   "source": [
    "def pre_procesamiento(df):\n",
    "    df = df.copy()\n",
    "    \n",
    "    mean = df.runtime.mean()\n",
    "    df.runtime.fillna(mean,inplace=True)\n",
    "    \n",
    "    variable = 'runtime'\n",
    "    minimo = 70\n",
    "    maximo = 200\n",
    "\n",
    "    df[variable].clip(minimo,maximo, inplace=True)\n",
    "\n",
    "    variable = 'budget'\n",
    "    minimo = 0\n",
    "    maximo = 200000000\n",
    "\n",
    "    df[variable].clip(minimo,maximo, inplace=True)\n",
    "\n",
    "    variable = 'popularity'\n",
    "    minimo = 0\n",
    "    maximo = 50\n",
    "\n",
    "    df[variable].clip(minimo,maximo, inplace=True)\n",
    "    \n",
    "    return df"
   ]
  },
  {
   "cell_type": "markdown",
   "id": "48fb0f65",
   "metadata": {},
   "source": [
    "# IMPORTAR DATOS"
   ]
  },
  {
   "cell_type": "code",
   "execution_count": 109,
   "id": "a4234588",
   "metadata": {},
   "outputs": [],
   "source": [
    "# DATOS ENTRENAMIENTO\n",
    "ruta_proyecto =  'C:/proyectos/03_PREDICCION_TAQUILLA'\n",
    "# nombre_fichero_datos = 'train.csv'\n",
    "# ruta_completa = ruta_proyecto + '/02_Datos/01_Originales/' + nombre_fichero_datos\n",
    "# datos_train = pd.read_csv(ruta_completa)\n",
    "\n",
    "nombre_fichero_datos = 'trabajo.csv'\n",
    "ruta_completa = ruta_proyecto + '/02_Datos/03_Trabajo/' + nombre_fichero_datos\n",
    "datos = pd.read_csv(ruta_completa)"
   ]
  },
  {
   "cell_type": "code",
   "execution_count": 110,
   "id": "59f42878",
   "metadata": {},
   "outputs": [],
   "source": [
    "stop = pd.read_csv(ruta_proyecto + '/01_Documentos/stop_words_english.txt',names = ['termino'])\n",
    "\n",
    "def quitar_tildes(palabra):\n",
    "    #Definimos la versión con tildes y símbolos y la sin\n",
    "    con = 'áéíóúüñÁÉÍÓÚÜÑ'\n",
    "    sin = 'aeiouunAEIOUUN'\n",
    "    #Creamos un traductor\n",
    "    traductor = str.maketrans(con,sin)\n",
    "    #Aplicamos el traductor y devolvemos la palabra limpia\n",
    "    return(palabra.translate(traductor))\n",
    "\n",
    "stop['limpias'] = stop.termino.transform(quitar_tildes)"
   ]
  },
  {
   "cell_type": "code",
   "execution_count": 111,
   "id": "96b2aa80",
   "metadata": {},
   "outputs": [],
   "source": [
    "cat = pre_procesamiento(datos)\n",
    "# cat = pre_procesamiento(datos_train)\n",
    "df_cat =  procesamiento(cat)\n",
    "df_cat2 = post_procesamiento_m1(df_cat)"
   ]
  },
  {
   "cell_type": "code",
   "execution_count": 112,
   "id": "a178d1a4",
   "metadata": {},
   "outputs": [],
   "source": [
    "df_cat2['log_revenue']=np.log1p(df_cat2['revenue'])"
   ]
  },
  {
   "cell_type": "code",
   "execution_count": 113,
   "id": "b6c3e51c",
   "metadata": {},
   "outputs": [],
   "source": [
    "y  = df_cat2['log_revenue']\n",
    "x = df_cat2.drop(columns=['revenue','log_revenue'])\n",
    "x['overview'].fillna('',inplace=True)"
   ]
  },
  {
   "cell_type": "code",
   "execution_count": 12,
   "id": "b54005b8",
   "metadata": {},
   "outputs": [
    {
     "name": "stdout",
     "output_type": "stream",
     "text": [
      "<class 'pandas.core.frame.DataFrame'>\n",
      "RangeIndex: 2100 entries, 0 to 2099\n",
      "Data columns (total 36 columns):\n",
      " #   Column                                         Non-Null Count  Dtype         \n",
      "---  ------                                         --------------  -----         \n",
      " 0   Unnamed: 0                                     2100 non-null   int64         \n",
      " 1   id                                             2100 non-null   int64         \n",
      " 2   budget                                         2100 non-null   int64         \n",
      " 3   original_language                              2100 non-null   object        \n",
      " 4   original_title                                 2100 non-null   object        \n",
      " 5   overview                                       2100 non-null   object        \n",
      " 6   popularity                                     2100 non-null   float64       \n",
      " 7   release_date                                   2100 non-null   datetime64[ns]\n",
      " 8   runtime                                        2100 non-null   float64       \n",
      " 9   status                                         2100 non-null   object        \n",
      " 10  title                                          2100 non-null   object        \n",
      " 11  rd_year                                        2100 non-null   int64         \n",
      " 12  rd_mes                                         2100 non-null   int64         \n",
      " 13  rd_dia_semana                                  2100 non-null   int64         \n",
      " 14  rd_cuatrimestre                                2100 non-null   int64         \n",
      " 15  genres                                         2100 non-null   object        \n",
      " 16  production_companies                           2100 non-null   object        \n",
      " 17  production_countries                           2100 non-null   object        \n",
      " 18  Keywords                                       2100 non-null   object        \n",
      " 19  cast                                           2100 non-null   object        \n",
      " 20  crew                                           2100 non-null   object        \n",
      " 21  genres_freq                                    2100 non-null   int64         \n",
      " 22  production_companies_freq                      2100 non-null   int64         \n",
      " 23  production_countries_freq                      2100 non-null   int32         \n",
      " 24  Keywords_freq                                  2100 non-null   int64         \n",
      " 25  cast_freq                                      2100 non-null   int64         \n",
      " 26  crew_freq                                      2100 non-null   int64         \n",
      " 27  cast_genero_0                                  2100 non-null   int64         \n",
      " 28  cast_genero_1                                  2100 non-null   int64         \n",
      " 29  cast_genero_2                                  2100 non-null   int64         \n",
      " 30  bin_english                                    2100 non-null   int32         \n",
      " 31  production_countries_United States of America  2100 non-null   int64         \n",
      " 32  production_companies_Paramount Pictures        2100 non-null   int64         \n",
      " 33  Keywords_freq_rs                               2100 non-null   int64         \n",
      " 34  Keywords_independent film                      2100 non-null   int64         \n",
      " 35  Keywords_murder                                2100 non-null   int64         \n",
      "dtypes: datetime64[ns](1), float64(2), int32(2), int64(20), object(11)\n",
      "memory usage: 574.3+ KB\n"
     ]
    }
   ],
   "source": [
    "x.info()"
   ]
  },
  {
   "cell_type": "code",
   "execution_count": null,
   "id": "e0b87070",
   "metadata": {},
   "outputs": [],
   "source": []
  },
  {
   "cell_type": "code",
   "execution_count": 13,
   "id": "d997c8d9",
   "metadata": {},
   "outputs": [],
   "source": [
    "var_reescalado_robusto = ['budget','popularity','rd_year','runtime',\n",
    "         'crew_freq','rd_mes','cast_genero_1','cast_genero_2',\n",
    "         'rd_dia_semana','cast_genero_0']\n",
    "reescalado_robusto = RobustScaler(quantile_range=(10.0, 90.0))\n",
    "\n",
    "tfidf = TfidfVectorizer(strip_accents = 'unicode',\n",
    "                     stop_words = stop.limpias.to_list(),\n",
    "                     max_df = 0.7,\n",
    "                     min_df = 50,\n",
    "                     ngram_range = (1,3),\n",
    "                     max_features = 50)\n",
    "\n",
    "\n",
    "def seleccionar_variables_tdidf(df_tfidf_i):\n",
    "    df_tfidf = pd.DataFrame.sparse.from_spmatrix(df_tfidf_i,columns = tfidf.get_feature_names())\n",
    "\n",
    "    palabras_elegidas = ['man',\n",
    " 'secret',\n",
    " 'family',\n",
    " 'time',\n",
    " 'police',\n",
    " 'woman',\n",
    " 'small',\n",
    " 'life',\n",
    " 'friend',\n",
    " 'war',\n",
    " 'years',\n",
    " 'friends',\n",
    " 'lives',\n",
    " 'love',\n",
    " 'mother',\n",
    " 'day',\n",
    " 'aos',\n",
    " 'team',\n",
    " 'boy',\n",
    " 'school',\n",
    " 'finds']\n",
    "    palabras_que_no_estan =[column for column in palabras_elegidas if column not in df_tfidf.columns]\n",
    "    for palabra in palabras_que_no_estan:\n",
    "        df_tfidf[palabra]=0\n",
    "    return df_tfidf[palabras_elegidas].sparse.to_dense()\n",
    "\n",
    "def selector_variables(df):\n",
    "    return df\n",
    "\n",
    "# FUNCIONES A TRANSFORMERS\n",
    "seleccionar_variables_tdidf_pipe=FunctionTransformer(seleccionar_variables_tdidf)\n",
    "selector_variables_pipe=FunctionTransformer(selector_variables)"
   ]
  },
  {
   "cell_type": "code",
   "execution_count": 14,
   "id": "001304f7",
   "metadata": {},
   "outputs": [],
   "source": [
    "#PIPELINE TEXTO\n",
    "text_features_pipe = make_pipeline(tfidf,seleccionar_variables_tdidf_pipe)\n",
    "\n",
    "text_features_pipe.fit_transform(x['overview'])\n",
    "text_features_pipe.named_steps.tfidfvectorizer.get_feature_names()\n",
    "\n",
    "variables_ohe=[ 'Keywords_freq',\n",
    "     'Keywords_independent film',\n",
    "     'Keywords_murder',\n",
    "     'production_companies_Paramount Pictures',\n",
    "     'production_countries_United States of America']\n",
    "\n",
    "# COLUMN TRANSFORM\n",
    "column_transformer_total = make_column_transformer(\n",
    "    (reescalado_robusto, var_reescalado_robusto),\n",
    "    (text_features_pipe,'overview'),\n",
    "    (selector_variables_pipe,variables_ohe),\n",
    "    remainder='drop')\n",
    "\n",
    "# variables tfidf\n",
    "palabras_elegidas = ['man',\n",
    " 'secret',\n",
    " 'family',\n",
    " 'time',\n",
    " 'police',\n",
    " 'woman',\n",
    " 'small',\n",
    " 'life',\n",
    " 'friend',\n",
    " 'war',\n",
    " 'years',\n",
    " 'friends',\n",
    " 'lives',\n",
    " 'love',\n",
    " 'mother',\n",
    " 'day',\n",
    " 'aos',\n",
    " 'team',\n",
    " 'boy',\n",
    " 'school',\n",
    " 'finds']\n",
    "\n",
    "\n",
    "variables = var_reescalado_robusto + palabras_elegidas +variables_ohe"
   ]
  },
  {
   "cell_type": "code",
   "execution_count": 16,
   "id": "4c6c62a4",
   "metadata": {},
   "outputs": [
    {
     "data": {
      "text/plain": [
       "(2100, 36)"
      ]
     },
     "execution_count": 16,
     "metadata": {},
     "output_type": "execute_result"
    }
   ],
   "source": [
    "df = pd.DataFrame(column_transformer_total.fit_transform(x), columns=variables) \n",
    "df.shape"
   ]
  },
  {
   "cell_type": "code",
   "execution_count": 17,
   "id": "825422ee",
   "metadata": {},
   "outputs": [
    {
     "data": {
      "text/plain": [
       "['budget',\n",
       " 'popularity',\n",
       " 'rd_year',\n",
       " 'runtime',\n",
       " 'crew_freq',\n",
       " 'rd_mes',\n",
       " 'cast_genero_1',\n",
       " 'cast_genero_2',\n",
       " 'rd_dia_semana',\n",
       " 'cast_genero_0',\n",
       " 'man',\n",
       " 'secret',\n",
       " 'family',\n",
       " 'time',\n",
       " 'police',\n",
       " 'woman',\n",
       " 'small',\n",
       " 'life',\n",
       " 'friend',\n",
       " 'war',\n",
       " 'years',\n",
       " 'friends',\n",
       " 'lives',\n",
       " 'love',\n",
       " 'mother',\n",
       " 'day',\n",
       " 'aos',\n",
       " 'team',\n",
       " 'boy',\n",
       " 'school',\n",
       " 'finds',\n",
       " 'Keywords_freq',\n",
       " 'Keywords_independent film',\n",
       " 'Keywords_murder',\n",
       " 'production_companies_Paramount Pictures',\n",
       " 'production_countries_United States of America']"
      ]
     },
     "execution_count": 17,
     "metadata": {},
     "output_type": "execute_result"
    }
   ],
   "source": [
    "variables"
   ]
  },
  {
   "cell_type": "markdown",
   "id": "bdb49b59",
   "metadata": {
    "heading_collapsed": true
   },
   "source": [
    "# Feature engineer"
   ]
  },
  {
   "cell_type": "markdown",
   "id": "30c6a9e2",
   "metadata": {
    "heading_collapsed": true,
    "hidden": true
   },
   "source": [
    "### Funciones "
   ]
  },
  {
   "cell_type": "code",
   "execution_count": 18,
   "id": "de270eb0",
   "metadata": {
    "hidden": true
   },
   "outputs": [],
   "source": [
    "from collections import Counter\n",
    "\n",
    "def top_ohe_uniques(series, numero_top = 10):\n",
    "    \"\"\"devuelve variable binarias de valores unicos\n",
    "    series: serie\n",
    "    \"\"\"\n",
    "    \n",
    "    aux = []\n",
    "    \n",
    "    # Top items\n",
    "    top_items = show_top_items_unique(series,numero_top=10)\n",
    "    \n",
    "    for g in top_items:\n",
    "        x = series.apply(lambda x: 1  if  g in x else 0 )\n",
    "        x.name = series.name +\"_\"+g\n",
    "        aux.append(x)\n",
    "    \n",
    "    return pd.concat(aux,axis=1)\n",
    "\n",
    "def show_top_items_unique(series,numero_top=10, freq=False):\n",
    "    \"\"\" devuelven los elementos unicos mas frecuentes\"\"\"\n",
    "    \n",
    "    #mas comunes\n",
    "    mas_comunes = Counter([i for j in series for i in j.split(',')]).most_common(10+numero_top)\n",
    "    \n",
    "    #cogemos los el indice\n",
    "    top_items = [m[0] for m in mas_comunes]\n",
    "    \n",
    "    if freq:\n",
    "        return mas_comunes\n",
    "    \n",
    "    if \"\" in top_items:\n",
    "        top_items.remove(\"\")\n",
    "    top_items = top_items[:numero_top]\n",
    "    top_items = [i.replace(',','_') for i in top_items ]\n",
    "    return top_items"
   ]
  },
  {
   "cell_type": "markdown",
   "id": "b4036831",
   "metadata": {
    "heading_collapsed": true,
    "hidden": true
   },
   "source": [
    "## No funciono"
   ]
  },
  {
   "cell_type": "code",
   "execution_count": 19,
   "id": "6ea5fb71",
   "metadata": {
    "hidden": true
   },
   "outputs": [],
   "source": [
    "# BUDGET \n",
    "# aux = num.groupby('rd_year')['budget'].agg(['median'])\n",
    "# mapa_year_budget = aux.to_dict()['median']\n",
    "\n",
    "\n",
    "def replace_low_budget_values(x, mapa_year_budget, valor_limite=0):\n",
    "    \"\"\"\n",
    "    x: dataframe\n",
    "    mapa_year_budget: diccionario año-budget\n",
    "    valor_limite: int\n",
    "    \"\"\"\n",
    "    \n",
    "    condiciones = [(x['budget'] <= valor_limite),(x['budget'] > valor_limite) ]\n",
    "\n",
    "    resultados = [x['rd_year'].map(mapa_year_budget),x['budget']]\n",
    "    \n",
    "    return  np.select(condiciones,resultados, default = -999)\n",
    "\n",
    "# replace_low_budget_values(x=df_cat, mapa_year_budget=mapa_year_budget, valor_limite=0)"
   ]
  },
  {
   "cell_type": "markdown",
   "id": "f9b66e97",
   "metadata": {
    "hidden": true
   },
   "source": [
    "## No probado"
   ]
  },
  {
   "cell_type": "markdown",
   "id": "74fb0c4f",
   "metadata": {
    "heading_collapsed": true,
    "hidden": true
   },
   "source": [
    "### belongs_to_collection"
   ]
  },
  {
   "cell_type": "code",
   "execution_count": 20,
   "id": "9965a9e9",
   "metadata": {
    "hidden": true
   },
   "outputs": [],
   "source": [
    "\n",
    "is_from_collection = cat['belongs_to_collection'].fillna('').map(lambda x: sorted([d['name'] for d in get_dictionary(x)])).map(lambda x: 1 if len(x)>0 else 0)\n"
   ]
  },
  {
   "cell_type": "code",
   "execution_count": 21,
   "id": "5f5c5766",
   "metadata": {
    "hidden": true
   },
   "outputs": [
    {
     "data": {
      "text/plain": [
       "0"
      ]
     },
     "execution_count": 21,
     "metadata": {},
     "output_type": "execute_result"
    }
   ],
   "source": [
    "is_from_collection.isna().sum()"
   ]
  },
  {
   "cell_type": "markdown",
   "id": "ba90919b",
   "metadata": {
    "heading_collapsed": true,
    "hidden": true
   },
   "source": [
    "### Generos"
   ]
  },
  {
   "cell_type": "code",
   "execution_count": 22,
   "id": "fbea92b0",
   "metadata": {
    "hidden": true
   },
   "outputs": [
    {
     "data": {
      "text/plain": [
       "0                              Comedy\n",
       "1         Comedy,Drama,Family,Romance\n",
       "2                               Drama\n",
       "3                      Drama,Thriller\n",
       "4          Adventure,Animation,Family\n",
       "                    ...              \n",
       "2095                     Comedy,Drama\n",
       "2096                            Drama\n",
       "2097                      Drama,Music\n",
       "2098    Action,Crime,Mystery,Thriller\n",
       "2099                   Comedy,Romance\n",
       "Name: genres, Length: 2100, dtype: object"
      ]
     },
     "execution_count": 22,
     "metadata": {},
     "output_type": "execute_result"
    }
   ],
   "source": [
    "df_cat['genres']"
   ]
  },
  {
   "cell_type": "code",
   "execution_count": 23,
   "id": "dec3ffb1",
   "metadata": {
    "hidden": true
   },
   "outputs": [
    {
     "data": {
      "text/plain": [
       "['Drama',\n",
       " 'Comedy',\n",
       " 'Thriller',\n",
       " 'Action',\n",
       " 'Romance',\n",
       " 'Crime',\n",
       " 'Adventure',\n",
       " 'Horror',\n",
       " 'Science Fiction',\n",
       " 'Family']"
      ]
     },
     "execution_count": 23,
     "metadata": {},
     "output_type": "execute_result"
    }
   ],
   "source": [
    "show_top_items_unique(df_cat['genres'])"
   ]
  },
  {
   "cell_type": "code",
   "execution_count": 24,
   "id": "c01d9bd1",
   "metadata": {
    "hidden": true
   },
   "outputs": [
    {
     "data": {
      "text/html": [
       "<div>\n",
       "<style scoped>\n",
       "    .dataframe tbody tr th:only-of-type {\n",
       "        vertical-align: middle;\n",
       "    }\n",
       "\n",
       "    .dataframe tbody tr th {\n",
       "        vertical-align: top;\n",
       "    }\n",
       "\n",
       "    .dataframe thead th {\n",
       "        text-align: right;\n",
       "    }\n",
       "</style>\n",
       "<table border=\"1\" class=\"dataframe\">\n",
       "  <thead>\n",
       "    <tr style=\"text-align: right;\">\n",
       "      <th></th>\n",
       "      <th>genres_Drama</th>\n",
       "      <th>genres_Comedy</th>\n",
       "      <th>genres_Thriller</th>\n",
       "      <th>genres_Action</th>\n",
       "      <th>genres_Romance</th>\n",
       "      <th>genres_Crime</th>\n",
       "      <th>genres_Adventure</th>\n",
       "      <th>genres_Horror</th>\n",
       "      <th>genres_Science Fiction</th>\n",
       "      <th>genres_Family</th>\n",
       "    </tr>\n",
       "  </thead>\n",
       "  <tbody>\n",
       "    <tr>\n",
       "      <th>0</th>\n",
       "      <td>0</td>\n",
       "      <td>1</td>\n",
       "      <td>0</td>\n",
       "      <td>0</td>\n",
       "      <td>0</td>\n",
       "      <td>0</td>\n",
       "      <td>0</td>\n",
       "      <td>0</td>\n",
       "      <td>0</td>\n",
       "      <td>0</td>\n",
       "    </tr>\n",
       "    <tr>\n",
       "      <th>1</th>\n",
       "      <td>1</td>\n",
       "      <td>1</td>\n",
       "      <td>0</td>\n",
       "      <td>0</td>\n",
       "      <td>1</td>\n",
       "      <td>0</td>\n",
       "      <td>0</td>\n",
       "      <td>0</td>\n",
       "      <td>0</td>\n",
       "      <td>1</td>\n",
       "    </tr>\n",
       "    <tr>\n",
       "      <th>2</th>\n",
       "      <td>1</td>\n",
       "      <td>0</td>\n",
       "      <td>0</td>\n",
       "      <td>0</td>\n",
       "      <td>0</td>\n",
       "      <td>0</td>\n",
       "      <td>0</td>\n",
       "      <td>0</td>\n",
       "      <td>0</td>\n",
       "      <td>0</td>\n",
       "    </tr>\n",
       "    <tr>\n",
       "      <th>3</th>\n",
       "      <td>1</td>\n",
       "      <td>0</td>\n",
       "      <td>1</td>\n",
       "      <td>0</td>\n",
       "      <td>0</td>\n",
       "      <td>0</td>\n",
       "      <td>0</td>\n",
       "      <td>0</td>\n",
       "      <td>0</td>\n",
       "      <td>0</td>\n",
       "    </tr>\n",
       "    <tr>\n",
       "      <th>4</th>\n",
       "      <td>0</td>\n",
       "      <td>0</td>\n",
       "      <td>0</td>\n",
       "      <td>0</td>\n",
       "      <td>0</td>\n",
       "      <td>0</td>\n",
       "      <td>1</td>\n",
       "      <td>0</td>\n",
       "      <td>0</td>\n",
       "      <td>1</td>\n",
       "    </tr>\n",
       "  </tbody>\n",
       "</table>\n",
       "</div>"
      ],
      "text/plain": [
       "   genres_Drama  genres_Comedy  genres_Thriller  genres_Action  \\\n",
       "0             0              1                0              0   \n",
       "1             1              1                0              0   \n",
       "2             1              0                0              0   \n",
       "3             1              0                1              0   \n",
       "4             0              0                0              0   \n",
       "\n",
       "   genres_Romance  genres_Crime  genres_Adventure  genres_Horror  \\\n",
       "0               0             0                 0              0   \n",
       "1               1             0                 0              0   \n",
       "2               0             0                 0              0   \n",
       "3               0             0                 0              0   \n",
       "4               0             0                 1              0   \n",
       "\n",
       "   genres_Science Fiction  genres_Family  \n",
       "0                       0              0  \n",
       "1                       0              1  \n",
       "2                       0              0  \n",
       "3                       0              0  \n",
       "4                       0              1  "
      ]
     },
     "execution_count": 24,
     "metadata": {},
     "output_type": "execute_result"
    }
   ],
   "source": [
    "df_generos_top = top_ohe_uniques(df_cat['genres'])\n",
    "df_generos_top.head()"
   ]
  },
  {
   "cell_type": "markdown",
   "id": "70078fb9",
   "metadata": {
    "hidden": true
   },
   "source": [
    "###  cast: numero de actores famosos"
   ]
  },
  {
   "cell_type": "code",
   "execution_count": 25,
   "id": "52dec796",
   "metadata": {
    "hidden": true
   },
   "outputs": [
    {
     "name": "stdout",
     "output_type": "stream",
     "text": [
      "<class 'pandas.core.frame.DataFrame'>\n",
      "RangeIndex: 2100 entries, 0 to 2099\n",
      "Data columns (total 32 columns):\n",
      " #   Column                     Non-Null Count  Dtype         \n",
      "---  ------                     --------------  -----         \n",
      " 0   Unnamed: 0                 2100 non-null   int64         \n",
      " 1   id                         2100 non-null   int64         \n",
      " 2   budget                     2100 non-null   int64         \n",
      " 3   original_language          2100 non-null   object        \n",
      " 4   original_title             2100 non-null   object        \n",
      " 5   overview                   2096 non-null   object        \n",
      " 6   popularity                 2100 non-null   float64       \n",
      " 7   release_date               2100 non-null   datetime64[ns]\n",
      " 8   runtime                    2100 non-null   float64       \n",
      " 9   status                     2100 non-null   object        \n",
      " 10  title                      2100 non-null   object        \n",
      " 11  revenue                    2100 non-null   int64         \n",
      " 12  rd_year                    2100 non-null   int64         \n",
      " 13  rd_mes                     2100 non-null   int64         \n",
      " 14  rd_dia_semana              2100 non-null   int64         \n",
      " 15  rd_cuatrimestre            2100 non-null   int64         \n",
      " 16  genres                     2100 non-null   object        \n",
      " 17  production_companies       2100 non-null   object        \n",
      " 18  production_countries       2100 non-null   object        \n",
      " 19  Keywords                   2100 non-null   object        \n",
      " 20  cast                       2100 non-null   object        \n",
      " 21  crew                       2100 non-null   object        \n",
      " 22  genres_freq                2100 non-null   int64         \n",
      " 23  production_companies_freq  2100 non-null   int64         \n",
      " 24  production_countries_freq  2100 non-null   int32         \n",
      " 25  Keywords_freq              2100 non-null   int64         \n",
      " 26  cast_freq                  2100 non-null   int64         \n",
      " 27  crew_freq                  2100 non-null   int64         \n",
      " 28  cast_genero_0              2100 non-null   int64         \n",
      " 29  cast_genero_1              2100 non-null   int64         \n",
      " 30  cast_genero_2              2100 non-null   int64         \n",
      " 31  bin_english                2100 non-null   int32         \n",
      "dtypes: datetime64[ns](1), float64(2), int32(2), int64(16), object(11)\n",
      "memory usage: 508.7+ KB\n"
     ]
    }
   ],
   "source": [
    "df_cat.info()"
   ]
  },
  {
   "cell_type": "code",
   "execution_count": 26,
   "id": "59dd1ada",
   "metadata": {
    "hidden": true
   },
   "outputs": [],
   "source": [
    "data_aux = df_cat.cast.map(lambda x: x.split(',')) \n",
    "\n",
    "contador_actores = Counter([ elemento for fila in data_aux for elemento in fila if elemento not in  ['',' Jr.'] ]).most_common(50)\n"
   ]
  },
  {
   "cell_type": "code",
   "execution_count": 27,
   "id": "55ce8488",
   "metadata": {
    "hidden": true
   },
   "outputs": [],
   "source": [
    "def get_series_stars( _df_cat,variable,lista_elementos):\n",
    "    \"\"\"INPUT\n",
    "       OUTPUT\"\"\"\n",
    "    series = _df_cat[variable].copy()\n",
    "    \n",
    "    \n",
    "    aux = []\n",
    "    for termino in lista_elementos:\n",
    "        z= get_ohe_var_series( series,termino)\n",
    "        aux.append(z)\n",
    "    return pd.concat(aux,axis=1).apply(lambda x: x.sum(), axis=1)\n",
    "\n",
    "def get_most_common_elements(_df_cat,variable,mas_comunes=50):\n",
    "    \n",
    "    series = _df_cat[variable].copy()\n",
    "    \n",
    "    data_aux = series.map(lambda x: x.split(',')) \n",
    "\n",
    "    contador = Counter([ elemento for fila in data_aux for elemento in fila if elemento not in  ['',' Jr.'] ]).most_common(mas_comunes)\n",
    "    lista_elementos = [a for a,b in contador]\n",
    "    return lista_elementos"
   ]
  },
  {
   "cell_type": "code",
   "execution_count": 28,
   "id": "5f1ad794",
   "metadata": {
    "hidden": true
   },
   "outputs": [],
   "source": [
    "lista_actores = get_most_common_elements(df_cat,variable='cast',mas_comunes=100)\n",
    "df_stars_100=get_series_stars( df_cat,variable='cast',lista_elementos=lista_actores)"
   ]
  },
  {
   "cell_type": "code",
   "execution_count": 29,
   "id": "b8ca1f61",
   "metadata": {
    "hidden": true
   },
   "outputs": [],
   "source": [
    "df_stars_100.name ='numero_estrellas'"
   ]
  },
  {
   "cell_type": "code",
   "execution_count": 31,
   "id": "5aa1e141",
   "metadata": {
    "hidden": true
   },
   "outputs": [
    {
     "data": {
      "text/plain": [
       "<AxesSubplot:xlabel='numero_estrellas', ylabel='log_revenue'>"
      ]
     },
     "execution_count": 31,
     "metadata": {},
     "output_type": "execute_result"
    },
    {
     "data": {
      "image/png": "[encoded data removed]",
      "text/plain": [
       "<Figure size 432x288 with 1 Axes>"
      ]
     },
     "metadata": {
      "needs_background": "light"
     },
     "output_type": "display_data"
    }
   ],
   "source": [
    "sns.boxenplot(x=df_stars_100,y=y)"
   ]
  },
  {
   "cell_type": "markdown",
   "id": "89ada6dd",
   "metadata": {
    "heading_collapsed": true
   },
   "source": [
    "# UNIR"
   ]
  },
  {
   "cell_type": "code",
   "execution_count": 54,
   "id": "bd2ef183",
   "metadata": {
    "hidden": true
   },
   "outputs": [
    {
     "data": {
      "text/plain": [
       "-0.12307692307692308"
      ]
     },
     "execution_count": 54,
     "metadata": {},
     "output_type": "execute_result"
    }
   ],
   "source": [
    "df.budget.min()"
   ]
  },
  {
   "cell_type": "code",
   "execution_count": 35,
   "id": "a6450562",
   "metadata": {
    "hidden": true
   },
   "outputs": [
    {
     "name": "stdout",
     "output_type": "stream",
     "text": [
      "<class 'pandas.core.frame.DataFrame'>\n",
      "RangeIndex: 2100 entries, 0 to 2099\n",
      "Data columns (total 36 columns):\n",
      " #   Column                                         Non-Null Count  Dtype  \n",
      "---  ------                                         --------------  -----  \n",
      " 0   budget                                         2100 non-null   float64\n",
      " 1   popularity                                     2100 non-null   float64\n",
      " 2   rd_year                                        2100 non-null   float64\n",
      " 3   runtime                                        2100 non-null   float64\n",
      " 4   crew_freq                                      2100 non-null   float64\n",
      " 5   rd_mes                                         2100 non-null   float64\n",
      " 6   cast_genero_1                                  2100 non-null   float64\n",
      " 7   cast_genero_2                                  2100 non-null   float64\n",
      " 8   rd_dia_semana                                  2100 non-null   float64\n",
      " 9   cast_genero_0                                  2100 non-null   float64\n",
      " 10  man                                            2100 non-null   float64\n",
      " 11  secret                                         2100 non-null   float64\n",
      " 12  family                                         2100 non-null   float64\n",
      " 13  time                                           2100 non-null   float64\n",
      " 14  police                                         2100 non-null   float64\n",
      " 15  woman                                          2100 non-null   float64\n",
      " 16  small                                          2100 non-null   float64\n",
      " 17  life                                           2100 non-null   float64\n",
      " 18  friend                                         2100 non-null   float64\n",
      " 19  war                                            2100 non-null   float64\n",
      " 20  years                                          2100 non-null   float64\n",
      " 21  friends                                        2100 non-null   float64\n",
      " 22  lives                                          2100 non-null   float64\n",
      " 23  love                                           2100 non-null   float64\n",
      " 24  mother                                         2100 non-null   float64\n",
      " 25  day                                            2100 non-null   float64\n",
      " 26  aos                                            2100 non-null   float64\n",
      " 27  team                                           2100 non-null   float64\n",
      " 28  boy                                            2100 non-null   float64\n",
      " 29  school                                         2100 non-null   float64\n",
      " 30  finds                                          2100 non-null   float64\n",
      " 31  Keywords_freq                                  2100 non-null   float64\n",
      " 32  Keywords_independent film                      2100 non-null   float64\n",
      " 33  Keywords_murder                                2100 non-null   float64\n",
      " 34  production_companies_Paramount Pictures        2100 non-null   float64\n",
      " 35  production_countries_United States of America  2100 non-null   float64\n",
      "dtypes: float64(36)\n",
      "memory usage: 590.8 KB\n"
     ]
    }
   ],
   "source": [
    "df.info()"
   ]
  },
  {
   "cell_type": "code",
   "execution_count": 36,
   "id": "fc580125",
   "metadata": {
    "hidden": true
   },
   "outputs": [
    {
     "name": "stdout",
     "output_type": "stream",
     "text": [
      "<class 'pandas.core.frame.DataFrame'>\n",
      "RangeIndex: 2100 entries, 0 to 2099\n",
      "Data columns (total 48 columns):\n",
      " #   Column                                         Non-Null Count  Dtype  \n",
      "---  ------                                         --------------  -----  \n",
      " 0   budget                                         2100 non-null   float64\n",
      " 1   popularity                                     2100 non-null   float64\n",
      " 2   rd_year                                        2100 non-null   float64\n",
      " 3   runtime                                        2100 non-null   float64\n",
      " 4   crew_freq                                      2100 non-null   float64\n",
      " 5   rd_mes                                         2100 non-null   float64\n",
      " 6   cast_genero_1                                  2100 non-null   float64\n",
      " 7   cast_genero_2                                  2100 non-null   float64\n",
      " 8   rd_dia_semana                                  2100 non-null   float64\n",
      " 9   cast_genero_0                                  2100 non-null   float64\n",
      " 10  man                                            2100 non-null   float64\n",
      " 11  secret                                         2100 non-null   float64\n",
      " 12  family                                         2100 non-null   float64\n",
      " 13  time                                           2100 non-null   float64\n",
      " 14  police                                         2100 non-null   float64\n",
      " 15  woman                                          2100 non-null   float64\n",
      " 16  small                                          2100 non-null   float64\n",
      " 17  life                                           2100 non-null   float64\n",
      " 18  friend                                         2100 non-null   float64\n",
      " 19  war                                            2100 non-null   float64\n",
      " 20  years                                          2100 non-null   float64\n",
      " 21  friends                                        2100 non-null   float64\n",
      " 22  lives                                          2100 non-null   float64\n",
      " 23  love                                           2100 non-null   float64\n",
      " 24  mother                                         2100 non-null   float64\n",
      " 25  day                                            2100 non-null   float64\n",
      " 26  aos                                            2100 non-null   float64\n",
      " 27  team                                           2100 non-null   float64\n",
      " 28  boy                                            2100 non-null   float64\n",
      " 29  school                                         2100 non-null   float64\n",
      " 30  finds                                          2100 non-null   float64\n",
      " 31  Keywords_freq                                  2100 non-null   float64\n",
      " 32  Keywords_independent film                      2100 non-null   float64\n",
      " 33  Keywords_murder                                2100 non-null   float64\n",
      " 34  production_companies_Paramount Pictures        2100 non-null   float64\n",
      " 35  production_countries_United States of America  2100 non-null   float64\n",
      " 36  belongs_to_collection                          2100 non-null   int64  \n",
      " 37  genres_Drama                                   2100 non-null   int64  \n",
      " 38  genres_Comedy                                  2100 non-null   int64  \n",
      " 39  genres_Thriller                                2100 non-null   int64  \n",
      " 40  genres_Action                                  2100 non-null   int64  \n",
      " 41  genres_Romance                                 2100 non-null   int64  \n",
      " 42  genres_Crime                                   2100 non-null   int64  \n",
      " 43  genres_Adventure                               2100 non-null   int64  \n",
      " 44  genres_Horror                                  2100 non-null   int64  \n",
      " 45  genres_Science Fiction                         2100 non-null   int64  \n",
      " 46  genres_Family                                  2100 non-null   int64  \n",
      " 47  numero_estrellas                               2100 non-null   int64  \n",
      "dtypes: float64(36), int64(12)\n",
      "memory usage: 787.6 KB\n"
     ]
    }
   ],
   "source": [
    "df_unido=pd.concat([df,is_from_collection,df_generos_top,df_stars_100],axis=1)\n",
    "df_unido.info()"
   ]
  },
  {
   "cell_type": "code",
   "execution_count": 37,
   "id": "bba272ed",
   "metadata": {
    "hidden": true
   },
   "outputs": [
    {
     "data": {
      "text/plain": [
       "Index(['belongs_to_collection', 'genres_Drama', 'genres_Comedy',\n",
       "       'genres_Thriller', 'genres_Action', 'genres_Romance', 'genres_Crime',\n",
       "       'genres_Adventure', 'genres_Horror', 'genres_Science Fiction',\n",
       "       'genres_Family', 'numero_estrellas'],\n",
       "      dtype='object')"
      ]
     },
     "execution_count": 37,
     "metadata": {},
     "output_type": "execute_result"
    }
   ],
   "source": [
    "nuevas_variables = df_unido.columns[36:]\n",
    "nuevas_variables"
   ]
  },
  {
   "cell_type": "markdown",
   "id": "f85813a3",
   "metadata": {
    "heading_collapsed": true
   },
   "source": [
    "# Seleccion de variables"
   ]
  },
  {
   "cell_type": "markdown",
   "id": "c8591034",
   "metadata": {
    "heading_collapsed": true,
    "hidden": true
   },
   "source": [
    "## Permutation information\n"
   ]
  },
  {
   "cell_type": "code",
   "execution_count": 66,
   "id": "d73632da",
   "metadata": {
    "hidden": true
   },
   "outputs": [],
   "source": [
    "def ranking_per(predictoras,permutacion):\n",
    "    ranking_per = pd.DataFrame({'variable': predictoras.columns, 'importancia_per': permutacion.importances_mean}).sort_values(by = 'importancia_per', ascending = False)\n",
    "    ranking_per['ranking_per'] = np.arange(0,ranking_per.shape[0])\n",
    "    return(ranking_per)"
   ]
  },
  {
   "cell_type": "code",
   "execution_count": 67,
   "id": "4e73ee27",
   "metadata": {
    "hidden": true
   },
   "outputs": [],
   "source": [
    "import warnings\n",
    "warnings.filterwarnings(action=\"ignore\", message=r'.*Use subset.*of np.ndarray is not recommended')\n",
    "\n",
    "xgb = XGBRegressor( n_jobs = -1, eval_metric='rmse')\n",
    "\n",
    "xgb.fit(df_unido,y)\n",
    "\n",
    "permutacion = permutation_importance(xgb, \n",
    "                                     df_unido, y, \n",
    "                                     scoring = 'neg_root_mean_squared_error',\n",
    "                                     n_repeats=5, n_jobs = -1)"
   ]
  },
  {
   "cell_type": "code",
   "execution_count": 68,
   "id": "8aa737d0",
   "metadata": {
    "hidden": true
   },
   "outputs": [
    {
     "data": {
      "image/png": "[encoded data removed]",
      "text/plain": [
       "<Figure size 864x1440 with 1 Axes>"
      ]
     },
     "metadata": {
      "needs_background": "light"
     },
     "output_type": "display_data"
    }
   ],
   "source": [
    "rank_per = ranking_per(df_unido,permutacion)\n",
    "\n",
    "rank_per.set_index('variable').importancia_per.sort_values().plot.barh(figsize = (12,20));"
   ]
  },
  {
   "cell_type": "code",
   "execution_count": 69,
   "id": "f355f73c",
   "metadata": {
    "hidden": true
   },
   "outputs": [
    {
     "data": {
      "text/html": [
       "<div>\n",
       "<style scoped>\n",
       "    .dataframe tbody tr th:only-of-type {\n",
       "        vertical-align: middle;\n",
       "    }\n",
       "\n",
       "    .dataframe tbody tr th {\n",
       "        vertical-align: top;\n",
       "    }\n",
       "\n",
       "    .dataframe thead th {\n",
       "        text-align: right;\n",
       "    }\n",
       "</style>\n",
       "<table border=\"1\" class=\"dataframe\">\n",
       "  <thead>\n",
       "    <tr style=\"text-align: right;\">\n",
       "      <th></th>\n",
       "      <th>importancia_per</th>\n",
       "      <th>ranking_per</th>\n",
       "    </tr>\n",
       "    <tr>\n",
       "      <th>variable</th>\n",
       "      <th></th>\n",
       "      <th></th>\n",
       "    </tr>\n",
       "  </thead>\n",
       "  <tbody>\n",
       "    <tr>\n",
       "      <th>belongs_to_collection</th>\n",
       "      <td>0.18</td>\n",
       "      <td>12</td>\n",
       "    </tr>\n",
       "    <tr>\n",
       "      <th>genres_Adventure</th>\n",
       "      <td>0.09</td>\n",
       "      <td>19</td>\n",
       "    </tr>\n",
       "    <tr>\n",
       "      <th>genres_Comedy</th>\n",
       "      <td>0.07</td>\n",
       "      <td>27</td>\n",
       "    </tr>\n",
       "    <tr>\n",
       "      <th>genres_Horror</th>\n",
       "      <td>0.07</td>\n",
       "      <td>30</td>\n",
       "    </tr>\n",
       "    <tr>\n",
       "      <th>genres_Drama</th>\n",
       "      <td>0.06</td>\n",
       "      <td>36</td>\n",
       "    </tr>\n",
       "    <tr>\n",
       "      <th>genres_Action</th>\n",
       "      <td>0.04</td>\n",
       "      <td>39</td>\n",
       "    </tr>\n",
       "    <tr>\n",
       "      <th>genres_Science Fiction</th>\n",
       "      <td>0.04</td>\n",
       "      <td>40</td>\n",
       "    </tr>\n",
       "    <tr>\n",
       "      <th>numero_estrellas</th>\n",
       "      <td>0.04</td>\n",
       "      <td>42</td>\n",
       "    </tr>\n",
       "    <tr>\n",
       "      <th>genres_Thriller</th>\n",
       "      <td>0.03</td>\n",
       "      <td>43</td>\n",
       "    </tr>\n",
       "    <tr>\n",
       "      <th>genres_Crime</th>\n",
       "      <td>0.02</td>\n",
       "      <td>45</td>\n",
       "    </tr>\n",
       "    <tr>\n",
       "      <th>genres_Family</th>\n",
       "      <td>0.02</td>\n",
       "      <td>46</td>\n",
       "    </tr>\n",
       "    <tr>\n",
       "      <th>genres_Romance</th>\n",
       "      <td>0.01</td>\n",
       "      <td>47</td>\n",
       "    </tr>\n",
       "  </tbody>\n",
       "</table>\n",
       "</div>"
      ],
      "text/plain": [
       "                        importancia_per  ranking_per\n",
       "variable                                            \n",
       "belongs_to_collection              0.18           12\n",
       "genres_Adventure                   0.09           19\n",
       "genres_Comedy                      0.07           27\n",
       "genres_Horror                      0.07           30\n",
       "genres_Drama                       0.06           36\n",
       "genres_Action                      0.04           39\n",
       "genres_Science Fiction             0.04           40\n",
       "numero_estrellas                   0.04           42\n",
       "genres_Thriller                    0.03           43\n",
       "genres_Crime                       0.02           45\n",
       "genres_Family                      0.02           46\n",
       "genres_Romance                     0.01           47"
      ]
     },
     "execution_count": 69,
     "metadata": {},
     "output_type": "execute_result"
    }
   ],
   "source": [
    "rank_per.set_index('variable').query('variable in @nuevas_variables')"
   ]
  },
  {
   "cell_type": "code",
   "execution_count": 70,
   "id": "07006f10",
   "metadata": {
    "hidden": true
   },
   "outputs": [
    {
     "data": {
      "text/html": [
       "<div>\n",
       "<style scoped>\n",
       "    .dataframe tbody tr th:only-of-type {\n",
       "        vertical-align: middle;\n",
       "    }\n",
       "\n",
       "    .dataframe tbody tr th {\n",
       "        vertical-align: top;\n",
       "    }\n",
       "\n",
       "    .dataframe thead th {\n",
       "        text-align: right;\n",
       "    }\n",
       "</style>\n",
       "<table border=\"1\" class=\"dataframe\">\n",
       "  <thead>\n",
       "    <tr style=\"text-align: right;\">\n",
       "      <th></th>\n",
       "      <th>variable</th>\n",
       "      <th>importancia_per</th>\n",
       "      <th>ranking_per</th>\n",
       "    </tr>\n",
       "  </thead>\n",
       "  <tbody>\n",
       "    <tr>\n",
       "      <th>0</th>\n",
       "      <td>budget</td>\n",
       "      <td>1.72</td>\n",
       "      <td>0</td>\n",
       "    </tr>\n",
       "    <tr>\n",
       "      <th>1</th>\n",
       "      <td>popularity</td>\n",
       "      <td>1.08</td>\n",
       "      <td>1</td>\n",
       "    </tr>\n",
       "    <tr>\n",
       "      <th>2</th>\n",
       "      <td>rd_year</td>\n",
       "      <td>0.84</td>\n",
       "      <td>2</td>\n",
       "    </tr>\n",
       "    <tr>\n",
       "      <th>3</th>\n",
       "      <td>runtime</td>\n",
       "      <td>0.45</td>\n",
       "      <td>3</td>\n",
       "    </tr>\n",
       "    <tr>\n",
       "      <th>4</th>\n",
       "      <td>crew_freq</td>\n",
       "      <td>0.41</td>\n",
       "      <td>4</td>\n",
       "    </tr>\n",
       "    <tr>\n",
       "      <th>6</th>\n",
       "      <td>cast_genero_1</td>\n",
       "      <td>0.28</td>\n",
       "      <td>5</td>\n",
       "    </tr>\n",
       "    <tr>\n",
       "      <th>7</th>\n",
       "      <td>cast_genero_2</td>\n",
       "      <td>0.26</td>\n",
       "      <td>6</td>\n",
       "    </tr>\n",
       "    <tr>\n",
       "      <th>8</th>\n",
       "      <td>rd_dia_semana</td>\n",
       "      <td>0.24</td>\n",
       "      <td>7</td>\n",
       "    </tr>\n",
       "    <tr>\n",
       "      <th>5</th>\n",
       "      <td>rd_mes</td>\n",
       "      <td>0.22</td>\n",
       "      <td>8</td>\n",
       "    </tr>\n",
       "    <tr>\n",
       "      <th>31</th>\n",
       "      <td>Keywords_freq</td>\n",
       "      <td>0.22</td>\n",
       "      <td>9</td>\n",
       "    </tr>\n",
       "    <tr>\n",
       "      <th>9</th>\n",
       "      <td>cast_genero_0</td>\n",
       "      <td>0.19</td>\n",
       "      <td>10</td>\n",
       "    </tr>\n",
       "    <tr>\n",
       "      <th>10</th>\n",
       "      <td>man</td>\n",
       "      <td>0.19</td>\n",
       "      <td>11</td>\n",
       "    </tr>\n",
       "    <tr>\n",
       "      <th>36</th>\n",
       "      <td>belongs_to_collection</td>\n",
       "      <td>0.18</td>\n",
       "      <td>12</td>\n",
       "    </tr>\n",
       "    <tr>\n",
       "      <th>15</th>\n",
       "      <td>woman</td>\n",
       "      <td>0.13</td>\n",
       "      <td>13</td>\n",
       "    </tr>\n",
       "    <tr>\n",
       "      <th>17</th>\n",
       "      <td>life</td>\n",
       "      <td>0.13</td>\n",
       "      <td>14</td>\n",
       "    </tr>\n",
       "    <tr>\n",
       "      <th>13</th>\n",
       "      <td>time</td>\n",
       "      <td>0.11</td>\n",
       "      <td>15</td>\n",
       "    </tr>\n",
       "    <tr>\n",
       "      <th>20</th>\n",
       "      <td>years</td>\n",
       "      <td>0.10</td>\n",
       "      <td>16</td>\n",
       "    </tr>\n",
       "    <tr>\n",
       "      <th>12</th>\n",
       "      <td>family</td>\n",
       "      <td>0.09</td>\n",
       "      <td>17</td>\n",
       "    </tr>\n",
       "    <tr>\n",
       "      <th>35</th>\n",
       "      <td>production_countries_United States of America</td>\n",
       "      <td>0.09</td>\n",
       "      <td>18</td>\n",
       "    </tr>\n",
       "    <tr>\n",
       "      <th>43</th>\n",
       "      <td>genres_Adventure</td>\n",
       "      <td>0.09</td>\n",
       "      <td>19</td>\n",
       "    </tr>\n",
       "    <tr>\n",
       "      <th>26</th>\n",
       "      <td>aos</td>\n",
       "      <td>0.09</td>\n",
       "      <td>20</td>\n",
       "    </tr>\n",
       "    <tr>\n",
       "      <th>14</th>\n",
       "      <td>police</td>\n",
       "      <td>0.08</td>\n",
       "      <td>21</td>\n",
       "    </tr>\n",
       "    <tr>\n",
       "      <th>16</th>\n",
       "      <td>small</td>\n",
       "      <td>0.08</td>\n",
       "      <td>22</td>\n",
       "    </tr>\n",
       "    <tr>\n",
       "      <th>21</th>\n",
       "      <td>friends</td>\n",
       "      <td>0.08</td>\n",
       "      <td>23</td>\n",
       "    </tr>\n",
       "    <tr>\n",
       "      <th>18</th>\n",
       "      <td>friend</td>\n",
       "      <td>0.08</td>\n",
       "      <td>24</td>\n",
       "    </tr>\n",
       "    <tr>\n",
       "      <th>22</th>\n",
       "      <td>lives</td>\n",
       "      <td>0.07</td>\n",
       "      <td>25</td>\n",
       "    </tr>\n",
       "    <tr>\n",
       "      <th>27</th>\n",
       "      <td>team</td>\n",
       "      <td>0.07</td>\n",
       "      <td>26</td>\n",
       "    </tr>\n",
       "    <tr>\n",
       "      <th>38</th>\n",
       "      <td>genres_Comedy</td>\n",
       "      <td>0.07</td>\n",
       "      <td>27</td>\n",
       "    </tr>\n",
       "    <tr>\n",
       "      <th>19</th>\n",
       "      <td>war</td>\n",
       "      <td>0.07</td>\n",
       "      <td>28</td>\n",
       "    </tr>\n",
       "    <tr>\n",
       "      <th>33</th>\n",
       "      <td>Keywords_murder</td>\n",
       "      <td>0.07</td>\n",
       "      <td>29</td>\n",
       "    </tr>\n",
       "    <tr>\n",
       "      <th>44</th>\n",
       "      <td>genres_Horror</td>\n",
       "      <td>0.07</td>\n",
       "      <td>30</td>\n",
       "    </tr>\n",
       "    <tr>\n",
       "      <th>32</th>\n",
       "      <td>Keywords_independent film</td>\n",
       "      <td>0.07</td>\n",
       "      <td>31</td>\n",
       "    </tr>\n",
       "    <tr>\n",
       "      <th>24</th>\n",
       "      <td>mother</td>\n",
       "      <td>0.06</td>\n",
       "      <td>32</td>\n",
       "    </tr>\n",
       "    <tr>\n",
       "      <th>11</th>\n",
       "      <td>secret</td>\n",
       "      <td>0.06</td>\n",
       "      <td>33</td>\n",
       "    </tr>\n",
       "    <tr>\n",
       "      <th>25</th>\n",
       "      <td>day</td>\n",
       "      <td>0.06</td>\n",
       "      <td>34</td>\n",
       "    </tr>\n",
       "    <tr>\n",
       "      <th>23</th>\n",
       "      <td>love</td>\n",
       "      <td>0.06</td>\n",
       "      <td>35</td>\n",
       "    </tr>\n",
       "    <tr>\n",
       "      <th>37</th>\n",
       "      <td>genres_Drama</td>\n",
       "      <td>0.06</td>\n",
       "      <td>36</td>\n",
       "    </tr>\n",
       "    <tr>\n",
       "      <th>29</th>\n",
       "      <td>school</td>\n",
       "      <td>0.05</td>\n",
       "      <td>37</td>\n",
       "    </tr>\n",
       "    <tr>\n",
       "      <th>28</th>\n",
       "      <td>boy</td>\n",
       "      <td>0.05</td>\n",
       "      <td>38</td>\n",
       "    </tr>\n",
       "    <tr>\n",
       "      <th>40</th>\n",
       "      <td>genres_Action</td>\n",
       "      <td>0.04</td>\n",
       "      <td>39</td>\n",
       "    </tr>\n",
       "    <tr>\n",
       "      <th>45</th>\n",
       "      <td>genres_Science Fiction</td>\n",
       "      <td>0.04</td>\n",
       "      <td>40</td>\n",
       "    </tr>\n",
       "    <tr>\n",
       "      <th>30</th>\n",
       "      <td>finds</td>\n",
       "      <td>0.04</td>\n",
       "      <td>41</td>\n",
       "    </tr>\n",
       "    <tr>\n",
       "      <th>47</th>\n",
       "      <td>numero_estrellas</td>\n",
       "      <td>0.04</td>\n",
       "      <td>42</td>\n",
       "    </tr>\n",
       "    <tr>\n",
       "      <th>39</th>\n",
       "      <td>genres_Thriller</td>\n",
       "      <td>0.03</td>\n",
       "      <td>43</td>\n",
       "    </tr>\n",
       "    <tr>\n",
       "      <th>34</th>\n",
       "      <td>production_companies_Paramount Pictures</td>\n",
       "      <td>0.02</td>\n",
       "      <td>44</td>\n",
       "    </tr>\n",
       "    <tr>\n",
       "      <th>42</th>\n",
       "      <td>genres_Crime</td>\n",
       "      <td>0.02</td>\n",
       "      <td>45</td>\n",
       "    </tr>\n",
       "    <tr>\n",
       "      <th>46</th>\n",
       "      <td>genres_Family</td>\n",
       "      <td>0.02</td>\n",
       "      <td>46</td>\n",
       "    </tr>\n",
       "    <tr>\n",
       "      <th>41</th>\n",
       "      <td>genres_Romance</td>\n",
       "      <td>0.01</td>\n",
       "      <td>47</td>\n",
       "    </tr>\n",
       "  </tbody>\n",
       "</table>\n",
       "</div>"
      ],
      "text/plain": [
       "                                         variable  importancia_per  \\\n",
       "0                                          budget             1.72   \n",
       "1                                      popularity             1.08   \n",
       "2                                         rd_year             0.84   \n",
       "3                                         runtime             0.45   \n",
       "4                                       crew_freq             0.41   \n",
       "6                                   cast_genero_1             0.28   \n",
       "7                                   cast_genero_2             0.26   \n",
       "8                                   rd_dia_semana             0.24   \n",
       "5                                          rd_mes             0.22   \n",
       "31                                  Keywords_freq             0.22   \n",
       "9                                   cast_genero_0             0.19   \n",
       "10                                            man             0.19   \n",
       "36                          belongs_to_collection             0.18   \n",
       "15                                          woman             0.13   \n",
       "17                                           life             0.13   \n",
       "13                                           time             0.11   \n",
       "20                                          years             0.10   \n",
       "12                                         family             0.09   \n",
       "35  production_countries_United States of America             0.09   \n",
       "43                               genres_Adventure             0.09   \n",
       "26                                            aos             0.09   \n",
       "14                                         police             0.08   \n",
       "16                                          small             0.08   \n",
       "21                                        friends             0.08   \n",
       "18                                         friend             0.08   \n",
       "22                                          lives             0.07   \n",
       "27                                           team             0.07   \n",
       "38                                  genres_Comedy             0.07   \n",
       "19                                            war             0.07   \n",
       "33                                Keywords_murder             0.07   \n",
       "44                                  genres_Horror             0.07   \n",
       "32                      Keywords_independent film             0.07   \n",
       "24                                         mother             0.06   \n",
       "11                                         secret             0.06   \n",
       "25                                            day             0.06   \n",
       "23                                           love             0.06   \n",
       "37                                   genres_Drama             0.06   \n",
       "29                                         school             0.05   \n",
       "28                                            boy             0.05   \n",
       "40                                  genres_Action             0.04   \n",
       "45                         genres_Science Fiction             0.04   \n",
       "30                                          finds             0.04   \n",
       "47                               numero_estrellas             0.04   \n",
       "39                                genres_Thriller             0.03   \n",
       "34        production_companies_Paramount Pictures             0.02   \n",
       "42                                   genres_Crime             0.02   \n",
       "46                                  genres_Family             0.02   \n",
       "41                                 genres_Romance             0.01   \n",
       "\n",
       "    ranking_per  \n",
       "0             0  \n",
       "1             1  \n",
       "2             2  \n",
       "3             3  \n",
       "4             4  \n",
       "6             5  \n",
       "7             6  \n",
       "8             7  \n",
       "5             8  \n",
       "31            9  \n",
       "9            10  \n",
       "10           11  \n",
       "36           12  \n",
       "15           13  \n",
       "17           14  \n",
       "13           15  \n",
       "20           16  \n",
       "12           17  \n",
       "35           18  \n",
       "43           19  \n",
       "26           20  \n",
       "14           21  \n",
       "16           22  \n",
       "21           23  \n",
       "18           24  \n",
       "22           25  \n",
       "27           26  \n",
       "38           27  \n",
       "19           28  \n",
       "33           29  \n",
       "44           30  \n",
       "32           31  \n",
       "24           32  \n",
       "11           33  \n",
       "25           34  \n",
       "23           35  \n",
       "37           36  \n",
       "29           37  \n",
       "28           38  \n",
       "40           39  \n",
       "45           40  \n",
       "30           41  \n",
       "47           42  \n",
       "39           43  \n",
       "34           44  \n",
       "42           45  \n",
       "46           46  \n",
       "41           47  "
      ]
     },
     "execution_count": 70,
     "metadata": {},
     "output_type": "execute_result"
    }
   ],
   "source": [
    "rank_per"
   ]
  },
  {
   "cell_type": "code",
   "execution_count": 71,
   "id": "f9acf20d",
   "metadata": {
    "hidden": true
   },
   "outputs": [
    {
     "data": {
      "text/html": [
       "<div>\n",
       "<style scoped>\n",
       "    .dataframe tbody tr th:only-of-type {\n",
       "        vertical-align: middle;\n",
       "    }\n",
       "\n",
       "    .dataframe tbody tr th {\n",
       "        vertical-align: top;\n",
       "    }\n",
       "\n",
       "    .dataframe thead th {\n",
       "        text-align: right;\n",
       "    }\n",
       "</style>\n",
       "<table border=\"1\" class=\"dataframe\">\n",
       "  <thead>\n",
       "    <tr style=\"text-align: right;\">\n",
       "      <th></th>\n",
       "      <th>importancia_per</th>\n",
       "      <th>ranking_per</th>\n",
       "    </tr>\n",
       "    <tr>\n",
       "      <th>variable</th>\n",
       "      <th></th>\n",
       "      <th></th>\n",
       "    </tr>\n",
       "  </thead>\n",
       "  <tbody>\n",
       "    <tr>\n",
       "      <th>belongs_to_collection</th>\n",
       "      <td>0.18</td>\n",
       "      <td>12</td>\n",
       "    </tr>\n",
       "    <tr>\n",
       "      <th>genres_Adventure</th>\n",
       "      <td>0.09</td>\n",
       "      <td>19</td>\n",
       "    </tr>\n",
       "    <tr>\n",
       "      <th>genres_Comedy</th>\n",
       "      <td>0.07</td>\n",
       "      <td>27</td>\n",
       "    </tr>\n",
       "    <tr>\n",
       "      <th>genres_Horror</th>\n",
       "      <td>0.07</td>\n",
       "      <td>30</td>\n",
       "    </tr>\n",
       "    <tr>\n",
       "      <th>genres_Drama</th>\n",
       "      <td>0.06</td>\n",
       "      <td>36</td>\n",
       "    </tr>\n",
       "    <tr>\n",
       "      <th>genres_Action</th>\n",
       "      <td>0.04</td>\n",
       "      <td>39</td>\n",
       "    </tr>\n",
       "    <tr>\n",
       "      <th>genres_Science Fiction</th>\n",
       "      <td>0.04</td>\n",
       "      <td>40</td>\n",
       "    </tr>\n",
       "    <tr>\n",
       "      <th>numero_estrellas</th>\n",
       "      <td>0.04</td>\n",
       "      <td>42</td>\n",
       "    </tr>\n",
       "    <tr>\n",
       "      <th>genres_Thriller</th>\n",
       "      <td>0.03</td>\n",
       "      <td>43</td>\n",
       "    </tr>\n",
       "    <tr>\n",
       "      <th>genres_Crime</th>\n",
       "      <td>0.02</td>\n",
       "      <td>45</td>\n",
       "    </tr>\n",
       "    <tr>\n",
       "      <th>genres_Family</th>\n",
       "      <td>0.02</td>\n",
       "      <td>46</td>\n",
       "    </tr>\n",
       "    <tr>\n",
       "      <th>genres_Romance</th>\n",
       "      <td>0.01</td>\n",
       "      <td>47</td>\n",
       "    </tr>\n",
       "  </tbody>\n",
       "</table>\n",
       "</div>"
      ],
      "text/plain": [
       "                        importancia_per  ranking_per\n",
       "variable                                            \n",
       "belongs_to_collection              0.18           12\n",
       "genres_Adventure                   0.09           19\n",
       "genres_Comedy                      0.07           27\n",
       "genres_Horror                      0.07           30\n",
       "genres_Drama                       0.06           36\n",
       "genres_Action                      0.04           39\n",
       "genres_Science Fiction             0.04           40\n",
       "numero_estrellas                   0.04           42\n",
       "genres_Thriller                    0.03           43\n",
       "genres_Crime                       0.02           45\n",
       "genres_Family                      0.02           46\n",
       "genres_Romance                     0.01           47"
      ]
     },
     "execution_count": 71,
     "metadata": {},
     "output_type": "execute_result"
    }
   ],
   "source": [
    "rank_per.set_index('variable').query('variable in @nuevas_variables')"
   ]
  },
  {
   "cell_type": "code",
   "execution_count": 72,
   "id": "d08b4bb7",
   "metadata": {
    "hidden": true
   },
   "outputs": [],
   "source": [
    "posicion_variable_limite = 40\n",
    "entran_per = rank_per.iloc[0:posicion_variable_limite].variable\n",
    "x_per = df_unido[entran_per].copy()"
   ]
  },
  {
   "cell_type": "code",
   "execution_count": 73,
   "id": "b6b724c2",
   "metadata": {
    "hidden": true
   },
   "outputs": [
    {
     "data": {
      "text/plain": [
       "(2100, 40)"
      ]
     },
     "execution_count": 73,
     "metadata": {},
     "output_type": "execute_result"
    }
   ],
   "source": [
    "x_per.shape"
   ]
  },
  {
   "cell_type": "code",
   "execution_count": 76,
   "id": "7f509ae7",
   "metadata": {
    "hidden": true
   },
   "outputs": [
    {
     "data": {
      "text/plain": [
       "['budget',\n",
       " 'popularity',\n",
       " 'rd_year',\n",
       " 'runtime',\n",
       " 'crew_freq',\n",
       " 'cast_genero_1',\n",
       " 'cast_genero_2',\n",
       " 'rd_dia_semana',\n",
       " 'rd_mes',\n",
       " 'Keywords_freq',\n",
       " 'cast_genero_0',\n",
       " 'man',\n",
       " 'belongs_to_collection',\n",
       " 'woman',\n",
       " 'life',\n",
       " 'time',\n",
       " 'years',\n",
       " 'family',\n",
       " 'production_countries_United States of America',\n",
       " 'genres_Adventure',\n",
       " 'aos',\n",
       " 'police',\n",
       " 'small',\n",
       " 'friends',\n",
       " 'friend',\n",
       " 'lives',\n",
       " 'team',\n",
       " 'genres_Comedy',\n",
       " 'war',\n",
       " 'Keywords_murder',\n",
       " 'genres_Horror',\n",
       " 'Keywords_independent film',\n",
       " 'mother',\n",
       " 'secret',\n",
       " 'day',\n",
       " 'love',\n",
       " 'genres_Drama',\n",
       " 'school',\n",
       " 'boy',\n",
       " 'genres_Action']"
      ]
     },
     "execution_count": 76,
     "metadata": {},
     "output_type": "execute_result"
    }
   ],
   "source": [
    "#version 3\n",
    "x_per.columns.tolist()"
   ]
  },
  {
   "cell_type": "code",
   "execution_count": 48,
   "id": "764bc448",
   "metadata": {
    "hidden": true
   },
   "outputs": [
    {
     "data": {
      "text/plain": [
       "(2100, 34)"
      ]
     },
     "execution_count": 48,
     "metadata": {},
     "output_type": "execute_result"
    }
   ],
   "source": [
    "x_per.shape"
   ]
  },
  {
   "cell_type": "markdown",
   "id": "fc1e3ac1",
   "metadata": {
    "heading_collapsed": true,
    "hidden": true
   },
   "source": [
    "## Correlacion"
   ]
  },
  {
   "cell_type": "code",
   "execution_count": null,
   "id": "a816ff27",
   "metadata": {
    "hidden": true
   },
   "outputs": [],
   "source": [
    "def correlaciones_fuertes(df, lim_inf = 0.3, lim_sup = 1,drop_dupli=True):\n",
    "    #Calcula la matriz de correlación\n",
    "    c = df.corr().abs()\n",
    "    #Lo pasa todo a filas\n",
    "    c= c.unstack()\n",
    "    #Pasa el índice a columnas y le pone nombres\n",
    "    c = pd.DataFrame(c).reset_index()\n",
    "    c.columns = ['var1','var2','corr']\n",
    "    #A dataframe, filtra limites y ordena en descendiente\n",
    "    c = c.loc[(c['corr'] > lim_inf) &  (c['corr'] < lim_sup),:].sort_values(by = 'corr', ascending=False)\n",
    "    #Desduplica las correlaciones (o no si drop_dupli es False)\n",
    "    c = c if drop_dupli == False else c.drop_duplicates(subset = ['corr'])\n",
    "    #Devuelve la salida\n",
    "    return(c)"
   ]
  },
  {
   "cell_type": "code",
   "execution_count": null,
   "id": "787bf01a",
   "metadata": {
    "hidden": true
   },
   "outputs": [],
   "source": [
    "cor_finales = correlaciones_fuertes(x_per)"
   ]
  },
  {
   "cell_type": "code",
   "execution_count": null,
   "id": "4980176e",
   "metadata": {
    "hidden": true
   },
   "outputs": [],
   "source": [
    "cor_finales.var1.value_counts()"
   ]
  },
  {
   "cell_type": "code",
   "execution_count": null,
   "id": "50a8133b",
   "metadata": {
    "hidden": true
   },
   "outputs": [],
   "source": [
    "cor_finales"
   ]
  },
  {
   "cell_type": "code",
   "execution_count": null,
   "id": "8a4021b4",
   "metadata": {
    "hidden": true
   },
   "outputs": [],
   "source": [
    "x_preseleccionado = x_per.copy()\n",
    "x_preseleccionado.head()"
   ]
  },
  {
   "cell_type": "code",
   "execution_count": null,
   "id": "744571c2",
   "metadata": {
    "hidden": true
   },
   "outputs": [],
   "source": [
    "a_eliminar_corr = ['genres_Adventure']"
   ]
  },
  {
   "cell_type": "code",
   "execution_count": null,
   "id": "2b20046b",
   "metadata": {
    "hidden": true
   },
   "outputs": [],
   "source": [
    "x_preseleccionado.drop(columns = a_eliminar_corr, inplace = True)"
   ]
  },
  {
   "cell_type": "code",
   "execution_count": 185,
   "id": "f7f72029",
   "metadata": {
    "hidden": true
   },
   "outputs": [
    {
     "data": {
      "text/plain": [
       "(2100, 39)"
      ]
     },
     "execution_count": 185,
     "metadata": {},
     "output_type": "execute_result"
    }
   ],
   "source": [
    "x_preseleccionado.shape"
   ]
  },
  {
   "cell_type": "markdown",
   "id": "68a199f1",
   "metadata": {
    "heading_collapsed": true
   },
   "source": [
    "# Grid search"
   ]
  },
  {
   "cell_type": "markdown",
   "id": "c61698a2",
   "metadata": {
    "heading_collapsed": true,
    "hidden": true
   },
   "source": [
    "## Intento 0"
   ]
  },
  {
   "cell_type": "code",
   "execution_count": 160,
   "id": "7b49fb1a",
   "metadata": {
    "hidden": true
   },
   "outputs": [],
   "source": [
    "train_x,val_x,train_y,val_y = train_test_split(x_preseleccionado,y,test_size=0.3,random_state=0)"
   ]
  },
  {
   "cell_type": "code",
   "execution_count": 148,
   "id": "387fb744",
   "metadata": {
    "hidden": true
   },
   "outputs": [],
   "source": [
    "pipe = Pipeline([('algoritmo',RandomForestRegressor())])\n",
    "\n",
    "grid = [ \n",
    "\n",
    "        {'algoritmo': [RandomForestRegressor(min_samples_leaf =100)],\n",
    "         'algoritmo__max_depth': [9,10,11],\n",
    "         'algoritmo__n_estimators': [50,100,200]},\n",
    "       \n",
    "        {'algoritmo': [XGBRegressor()],\n",
    "         'algoritmo__learning_rate': [0.01,0.015,0.1,0.3,0.5],\n",
    "         'algoritmo__n_estimators': [100,500,1000],\n",
    "         'algoritmo__gamma' : [0.05,0.1,0.3,0.5,0.7,0.9,1,10],\n",
    "         'algoritmo__max_depth' : [3,5,7,9,12,15,17,25],\n",
    "         'algoritmo__reg_alpha' : [0,0.1,0.5,1],\n",
    "         'algoritmo__reg_lambda' : [0.01,0.1,1] },\n",
    "   \n",
    "    \n",
    "        {'algoritmo': [HistGradientBoostingRegressor(min_samples_leaf = 100)],\n",
    "         'algoritmo__learning_rate': [0.01,0.025,0.05,0.1],\n",
    "         'algoritmo__max_iter': [50,100,200],\n",
    "         'algoritmo__max_depth': [5,10,20],\n",
    "         'algoritmo__l2_regularization': [0,0.25,0.5,0.75,1]}\n",
    "       ]\n"
   ]
  },
  {
   "cell_type": "code",
   "execution_count": 149,
   "id": "ab4cc61c",
   "metadata": {
    "hidden": true
   },
   "outputs": [],
   "source": [
    "from sklearn.model_selection import RandomizedSearchCV\n",
    "\n",
    "\n",
    "random_search = RandomizedSearchCV(estimator= pipe,\n",
    "                                   param_distributions=  grid, \n",
    "                                   n_iter = 150,\n",
    "                                   cv = 5,\n",
    "                                   scoring = 'neg_mean_squared_error',\n",
    "                                   verbose = 0,\n",
    "                                   n_jobs = -1)\n",
    "\n",
    "\n",
    "modelo = random_search.fit(train_x,train_y)"
   ]
  },
  {
   "cell_type": "code",
   "execution_count": 150,
   "id": "85681e95",
   "metadata": {
    "hidden": true
   },
   "outputs": [
    {
     "data": {
      "text/html": [
       "<div>\n",
       "<style scoped>\n",
       "    .dataframe tbody tr th:only-of-type {\n",
       "        vertical-align: middle;\n",
       "    }\n",
       "\n",
       "    .dataframe tbody tr th {\n",
       "        vertical-align: top;\n",
       "    }\n",
       "\n",
       "    .dataframe thead th {\n",
       "        text-align: right;\n",
       "    }\n",
       "</style>\n",
       "<table border=\"1\" class=\"dataframe\">\n",
       "  <thead>\n",
       "    <tr style=\"text-align: right;\">\n",
       "      <th></th>\n",
       "      <th>mean_fit_time</th>\n",
       "      <th>std_fit_time</th>\n",
       "      <th>mean_score_time</th>\n",
       "      <th>std_score_time</th>\n",
       "      <th>param_algoritmo__reg_lambda</th>\n",
       "      <th>param_algoritmo__reg_alpha</th>\n",
       "      <th>param_algoritmo__n_estimators</th>\n",
       "      <th>param_algoritmo__max_depth</th>\n",
       "      <th>param_algoritmo__learning_rate</th>\n",
       "      <th>param_algoritmo__gamma</th>\n",
       "      <th>...</th>\n",
       "      <th>param_algoritmo__l2_regularization</th>\n",
       "      <th>params</th>\n",
       "      <th>split0_test_score</th>\n",
       "      <th>split1_test_score</th>\n",
       "      <th>split2_test_score</th>\n",
       "      <th>split3_test_score</th>\n",
       "      <th>split4_test_score</th>\n",
       "      <th>mean_test_score</th>\n",
       "      <th>std_test_score</th>\n",
       "      <th>rank_test_score</th>\n",
       "    </tr>\n",
       "  </thead>\n",
       "  <tbody>\n",
       "    <tr>\n",
       "      <th>0</th>\n",
       "      <td>0.66</td>\n",
       "      <td>0.04</td>\n",
       "      <td>0.02</td>\n",
       "      <td>0.00</td>\n",
       "      <td>NaN</td>\n",
       "      <td>NaN</td>\n",
       "      <td>NaN</td>\n",
       "      <td>10</td>\n",
       "      <td>0.10</td>\n",
       "      <td>NaN</td>\n",
       "      <td>...</td>\n",
       "      <td>0.50</td>\n",
       "      <td>{'algoritmo__max_iter': 50, 'algoritmo__max_de...</td>\n",
       "      <td>-4.73</td>\n",
       "      <td>-3.44</td>\n",
       "      <td>-4.91</td>\n",
       "      <td>-4.95</td>\n",
       "      <td>-3.59</td>\n",
       "      <td>-4.32</td>\n",
       "      <td>0.67</td>\n",
       "      <td>1</td>\n",
       "    </tr>\n",
       "    <tr>\n",
       "      <th>1</th>\n",
       "      <td>4.00</td>\n",
       "      <td>0.28</td>\n",
       "      <td>0.07</td>\n",
       "      <td>0.02</td>\n",
       "      <td>NaN</td>\n",
       "      <td>NaN</td>\n",
       "      <td>NaN</td>\n",
       "      <td>20</td>\n",
       "      <td>0.05</td>\n",
       "      <td>NaN</td>\n",
       "      <td>...</td>\n",
       "      <td>1</td>\n",
       "      <td>{'algoritmo__max_iter': 200, 'algoritmo__max_d...</td>\n",
       "      <td>-4.83</td>\n",
       "      <td>-3.43</td>\n",
       "      <td>-4.88</td>\n",
       "      <td>-5.04</td>\n",
       "      <td>-3.52</td>\n",
       "      <td>-4.34</td>\n",
       "      <td>0.71</td>\n",
       "      <td>2</td>\n",
       "    </tr>\n",
       "    <tr>\n",
       "      <th>2</th>\n",
       "      <td>33.96</td>\n",
       "      <td>4.27</td>\n",
       "      <td>0.01</td>\n",
       "      <td>0.01</td>\n",
       "      <td>1</td>\n",
       "      <td>0.50</td>\n",
       "      <td>1000</td>\n",
       "      <td>17</td>\n",
       "      <td>0.01</td>\n",
       "      <td>10</td>\n",
       "      <td>...</td>\n",
       "      <td>NaN</td>\n",
       "      <td>{'algoritmo__reg_lambda': 1, 'algoritmo__reg_a...</td>\n",
       "      <td>-4.69</td>\n",
       "      <td>-3.54</td>\n",
       "      <td>-4.98</td>\n",
       "      <td>-4.88</td>\n",
       "      <td>-3.82</td>\n",
       "      <td>-4.38</td>\n",
       "      <td>0.59</td>\n",
       "      <td>3</td>\n",
       "    </tr>\n",
       "    <tr>\n",
       "      <th>3</th>\n",
       "      <td>3.42</td>\n",
       "      <td>0.25</td>\n",
       "      <td>0.01</td>\n",
       "      <td>0.01</td>\n",
       "      <td>1</td>\n",
       "      <td>0</td>\n",
       "      <td>500</td>\n",
       "      <td>5</td>\n",
       "      <td>0.01</td>\n",
       "      <td>0.70</td>\n",
       "      <td>...</td>\n",
       "      <td>NaN</td>\n",
       "      <td>{'algoritmo__reg_lambda': 1, 'algoritmo__reg_a...</td>\n",
       "      <td>-4.71</td>\n",
       "      <td>-3.68</td>\n",
       "      <td>-4.88</td>\n",
       "      <td>-4.97</td>\n",
       "      <td>-3.77</td>\n",
       "      <td>-4.40</td>\n",
       "      <td>0.56</td>\n",
       "      <td>4</td>\n",
       "    </tr>\n",
       "    <tr>\n",
       "      <th>4</th>\n",
       "      <td>2.35</td>\n",
       "      <td>0.41</td>\n",
       "      <td>0.01</td>\n",
       "      <td>0.00</td>\n",
       "      <td>0.01</td>\n",
       "      <td>0</td>\n",
       "      <td>500</td>\n",
       "      <td>3</td>\n",
       "      <td>0.01</td>\n",
       "      <td>0.30</td>\n",
       "      <td>...</td>\n",
       "      <td>NaN</td>\n",
       "      <td>{'algoritmo__reg_lambda': 0.01, 'algoritmo__re...</td>\n",
       "      <td>-4.83</td>\n",
       "      <td>-3.68</td>\n",
       "      <td>-4.99</td>\n",
       "      <td>-5.00</td>\n",
       "      <td>-3.68</td>\n",
       "      <td>-4.43</td>\n",
       "      <td>0.62</td>\n",
       "      <td>5</td>\n",
       "    </tr>\n",
       "    <tr>\n",
       "      <th>5</th>\n",
       "      <td>3.07</td>\n",
       "      <td>0.16</td>\n",
       "      <td>0.01</td>\n",
       "      <td>0.00</td>\n",
       "      <td>0.01</td>\n",
       "      <td>0</td>\n",
       "      <td>500</td>\n",
       "      <td>3</td>\n",
       "      <td>0.01</td>\n",
       "      <td>0.70</td>\n",
       "      <td>...</td>\n",
       "      <td>NaN</td>\n",
       "      <td>{'algoritmo__reg_lambda': 0.01, 'algoritmo__re...</td>\n",
       "      <td>-4.83</td>\n",
       "      <td>-3.67</td>\n",
       "      <td>-4.99</td>\n",
       "      <td>-5.00</td>\n",
       "      <td>-3.68</td>\n",
       "      <td>-4.44</td>\n",
       "      <td>0.62</td>\n",
       "      <td>6</td>\n",
       "    </tr>\n",
       "    <tr>\n",
       "      <th>6</th>\n",
       "      <td>13.45</td>\n",
       "      <td>1.32</td>\n",
       "      <td>0.01</td>\n",
       "      <td>0.00</td>\n",
       "      <td>1</td>\n",
       "      <td>0</td>\n",
       "      <td>500</td>\n",
       "      <td>12</td>\n",
       "      <td>0.01</td>\n",
       "      <td>10</td>\n",
       "      <td>...</td>\n",
       "      <td>NaN</td>\n",
       "      <td>{'algoritmo__reg_lambda': 1, 'algoritmo__reg_a...</td>\n",
       "      <td>-4.79</td>\n",
       "      <td>-3.53</td>\n",
       "      <td>-5.04</td>\n",
       "      <td>-5.00</td>\n",
       "      <td>-3.87</td>\n",
       "      <td>-4.44</td>\n",
       "      <td>0.63</td>\n",
       "      <td>7</td>\n",
       "    </tr>\n",
       "    <tr>\n",
       "      <th>7</th>\n",
       "      <td>0.49</td>\n",
       "      <td>0.02</td>\n",
       "      <td>0.00</td>\n",
       "      <td>0.01</td>\n",
       "      <td>1</td>\n",
       "      <td>1</td>\n",
       "      <td>100</td>\n",
       "      <td>3</td>\n",
       "      <td>0.10</td>\n",
       "      <td>0.90</td>\n",
       "      <td>...</td>\n",
       "      <td>NaN</td>\n",
       "      <td>{'algoritmo__reg_lambda': 1, 'algoritmo__reg_a...</td>\n",
       "      <td>-4.76</td>\n",
       "      <td>-3.59</td>\n",
       "      <td>-5.02</td>\n",
       "      <td>-5.12</td>\n",
       "      <td>-3.76</td>\n",
       "      <td>-4.45</td>\n",
       "      <td>0.65</td>\n",
       "      <td>8</td>\n",
       "    </tr>\n",
       "    <tr>\n",
       "      <th>8</th>\n",
       "      <td>1.22</td>\n",
       "      <td>0.07</td>\n",
       "      <td>0.01</td>\n",
       "      <td>0.00</td>\n",
       "      <td>1</td>\n",
       "      <td>1</td>\n",
       "      <td>100</td>\n",
       "      <td>7</td>\n",
       "      <td>0.10</td>\n",
       "      <td>1</td>\n",
       "      <td>...</td>\n",
       "      <td>NaN</td>\n",
       "      <td>{'algoritmo__reg_lambda': 1, 'algoritmo__reg_a...</td>\n",
       "      <td>-4.80</td>\n",
       "      <td>-3.72</td>\n",
       "      <td>-4.98</td>\n",
       "      <td>-5.03</td>\n",
       "      <td>-3.76</td>\n",
       "      <td>-4.46</td>\n",
       "      <td>0.59</td>\n",
       "      <td>9</td>\n",
       "    </tr>\n",
       "    <tr>\n",
       "      <th>9</th>\n",
       "      <td>3.54</td>\n",
       "      <td>0.05</td>\n",
       "      <td>0.00</td>\n",
       "      <td>0.00</td>\n",
       "      <td>0.01</td>\n",
       "      <td>1</td>\n",
       "      <td>1000</td>\n",
       "      <td>3</td>\n",
       "      <td>0.01</td>\n",
       "      <td>0.30</td>\n",
       "      <td>...</td>\n",
       "      <td>NaN</td>\n",
       "      <td>{'algoritmo__reg_lambda': 0.01, 'algoritmo__re...</td>\n",
       "      <td>-4.93</td>\n",
       "      <td>-3.58</td>\n",
       "      <td>-4.94</td>\n",
       "      <td>-5.14</td>\n",
       "      <td>-3.71</td>\n",
       "      <td>-4.46</td>\n",
       "      <td>0.67</td>\n",
       "      <td>10</td>\n",
       "    </tr>\n",
       "  </tbody>\n",
       "</table>\n",
       "<p>10 rows × 22 columns</p>\n",
       "</div>"
      ],
      "text/plain": [
       "   mean_fit_time  std_fit_time  mean_score_time  std_score_time  \\\n",
       "0           0.66          0.04             0.02            0.00   \n",
       "1           4.00          0.28             0.07            0.02   \n",
       "2          33.96          4.27             0.01            0.01   \n",
       "3           3.42          0.25             0.01            0.01   \n",
       "4           2.35          0.41             0.01            0.00   \n",
       "5           3.07          0.16             0.01            0.00   \n",
       "6          13.45          1.32             0.01            0.00   \n",
       "7           0.49          0.02             0.00            0.01   \n",
       "8           1.22          0.07             0.01            0.00   \n",
       "9           3.54          0.05             0.00            0.00   \n",
       "\n",
       "  param_algoritmo__reg_lambda param_algoritmo__reg_alpha  \\\n",
       "0                         NaN                        NaN   \n",
       "1                         NaN                        NaN   \n",
       "2                           1                       0.50   \n",
       "3                           1                          0   \n",
       "4                        0.01                          0   \n",
       "5                        0.01                          0   \n",
       "6                           1                          0   \n",
       "7                           1                          1   \n",
       "8                           1                          1   \n",
       "9                        0.01                          1   \n",
       "\n",
       "  param_algoritmo__n_estimators param_algoritmo__max_depth  \\\n",
       "0                           NaN                         10   \n",
       "1                           NaN                         20   \n",
       "2                          1000                         17   \n",
       "3                           500                          5   \n",
       "4                           500                          3   \n",
       "5                           500                          3   \n",
       "6                           500                         12   \n",
       "7                           100                          3   \n",
       "8                           100                          7   \n",
       "9                          1000                          3   \n",
       "\n",
       "  param_algoritmo__learning_rate param_algoritmo__gamma  ...  \\\n",
       "0                           0.10                    NaN  ...   \n",
       "1                           0.05                    NaN  ...   \n",
       "2                           0.01                     10  ...   \n",
       "3                           0.01                   0.70  ...   \n",
       "4                           0.01                   0.30  ...   \n",
       "5                           0.01                   0.70  ...   \n",
       "6                           0.01                     10  ...   \n",
       "7                           0.10                   0.90  ...   \n",
       "8                           0.10                      1  ...   \n",
       "9                           0.01                   0.30  ...   \n",
       "\n",
       "  param_algoritmo__l2_regularization  \\\n",
       "0                               0.50   \n",
       "1                                  1   \n",
       "2                                NaN   \n",
       "3                                NaN   \n",
       "4                                NaN   \n",
       "5                                NaN   \n",
       "6                                NaN   \n",
       "7                                NaN   \n",
       "8                                NaN   \n",
       "9                                NaN   \n",
       "\n",
       "                                              params split0_test_score  \\\n",
       "0  {'algoritmo__max_iter': 50, 'algoritmo__max_de...             -4.73   \n",
       "1  {'algoritmo__max_iter': 200, 'algoritmo__max_d...             -4.83   \n",
       "2  {'algoritmo__reg_lambda': 1, 'algoritmo__reg_a...             -4.69   \n",
       "3  {'algoritmo__reg_lambda': 1, 'algoritmo__reg_a...             -4.71   \n",
       "4  {'algoritmo__reg_lambda': 0.01, 'algoritmo__re...             -4.83   \n",
       "5  {'algoritmo__reg_lambda': 0.01, 'algoritmo__re...             -4.83   \n",
       "6  {'algoritmo__reg_lambda': 1, 'algoritmo__reg_a...             -4.79   \n",
       "7  {'algoritmo__reg_lambda': 1, 'algoritmo__reg_a...             -4.76   \n",
       "8  {'algoritmo__reg_lambda': 1, 'algoritmo__reg_a...             -4.80   \n",
       "9  {'algoritmo__reg_lambda': 0.01, 'algoritmo__re...             -4.93   \n",
       "\n",
       "  split1_test_score  split2_test_score  split3_test_score  split4_test_score  \\\n",
       "0             -3.44              -4.91              -4.95              -3.59   \n",
       "1             -3.43              -4.88              -5.04              -3.52   \n",
       "2             -3.54              -4.98              -4.88              -3.82   \n",
       "3             -3.68              -4.88              -4.97              -3.77   \n",
       "4             -3.68              -4.99              -5.00              -3.68   \n",
       "5             -3.67              -4.99              -5.00              -3.68   \n",
       "6             -3.53              -5.04              -5.00              -3.87   \n",
       "7             -3.59              -5.02              -5.12              -3.76   \n",
       "8             -3.72              -4.98              -5.03              -3.76   \n",
       "9             -3.58              -4.94              -5.14              -3.71   \n",
       "\n",
       "   mean_test_score  std_test_score  rank_test_score  \n",
       "0            -4.32            0.67                1  \n",
       "1            -4.34            0.71                2  \n",
       "2            -4.38            0.59                3  \n",
       "3            -4.40            0.56                4  \n",
       "4            -4.43            0.62                5  \n",
       "5            -4.44            0.62                6  \n",
       "6            -4.44            0.63                7  \n",
       "7            -4.45            0.65                8  \n",
       "8            -4.46            0.59                9  \n",
       "9            -4.46            0.67               10  \n",
       "\n",
       "[10 rows x 22 columns]"
      ]
     },
     "execution_count": 150,
     "metadata": {},
     "output_type": "execute_result"
    }
   ],
   "source": [
    "salida = pd.DataFrame(random_search.cv_results_).sort_values(by = 'rank_test_score').reset_index(drop=True).head(10)\n",
    "salida"
   ]
  },
  {
   "cell_type": "code",
   "execution_count": 154,
   "id": "8716fdb3",
   "metadata": {
    "hidden": true
   },
   "outputs": [
    {
     "data": {
      "text/plain": [
       "5.341588893746068"
      ]
     },
     "execution_count": 154,
     "metadata": {},
     "output_type": "execute_result"
    }
   ],
   "source": [
    "m3=random_search.best_estimator_\n",
    "pred = m3.predict(val_x)\n",
    "mean_squared_error(val_y, pred)"
   ]
  },
  {
   "cell_type": "code",
   "execution_count": 192,
   "id": "be6ed37b",
   "metadata": {
    "hidden": true
   },
   "outputs": [
    {
     "data": {
      "text/plain": [
       "Pipeline(steps=[('algoritmo',\n",
       "                 HistGradientBoostingRegressor(l2_regularization=0.5,\n",
       "                                               max_depth=10, max_iter=50,\n",
       "                                               min_samples_leaf=100))])"
      ]
     },
     "execution_count": 192,
     "metadata": {},
     "output_type": "execute_result"
    }
   ],
   "source": [
    "m3"
   ]
  },
  {
   "cell_type": "code",
   "execution_count": 158,
   "id": "7fba3339",
   "metadata": {
    "hidden": true
   },
   "outputs": [
    {
     "data": {
      "text/html": [
       "<div>\n",
       "<style scoped>\n",
       "    .dataframe tbody tr th:only-of-type {\n",
       "        vertical-align: middle;\n",
       "    }\n",
       "\n",
       "    .dataframe tbody tr th {\n",
       "        vertical-align: top;\n",
       "    }\n",
       "\n",
       "    .dataframe thead th {\n",
       "        text-align: right;\n",
       "    }\n",
       "</style>\n",
       "<table border=\"1\" class=\"dataframe\">\n",
       "  <thead>\n",
       "    <tr style=\"text-align: right;\">\n",
       "      <th></th>\n",
       "      <th>valor_real</th>\n",
       "      <th>predicciones</th>\n",
       "    </tr>\n",
       "  </thead>\n",
       "  <tbody>\n",
       "    <tr>\n",
       "      <th>valor_real</th>\n",
       "      <td>1.00</td>\n",
       "      <td>0.61</td>\n",
       "    </tr>\n",
       "    <tr>\n",
       "      <th>predicciones</th>\n",
       "      <td>0.61</td>\n",
       "      <td>1.00</td>\n",
       "    </tr>\n",
       "  </tbody>\n",
       "</table>\n",
       "</div>"
      ],
      "text/plain": [
       "              valor_real  predicciones\n",
       "valor_real          1.00          0.61\n",
       "predicciones        0.61          1.00"
      ]
     },
     "execution_count": 158,
     "metadata": {},
     "output_type": "execute_result"
    }
   ],
   "source": [
    "check_validacion = pd.DataFrame({'valor_real':val_y, 'predicciones':pred})\n",
    "check_validacion = check_validacion.transform(np.sqrt)\n",
    "check_validacion\n",
    "check_validacion.corr()"
   ]
  },
  {
   "cell_type": "code",
   "execution_count": 159,
   "id": "fa554f82",
   "metadata": {
    "hidden": true
   },
   "outputs": [
    {
     "data": {
      "image/png": "[encoded data removed]",
      "text/plain": [
       "<Figure size 720x432 with 1 Axes>"
      ]
     },
     "metadata": {
      "needs_background": "light"
     },
     "output_type": "display_data"
    }
   ],
   "source": [
    "check_validacion.plot.density(figsize = (10,6));"
   ]
  },
  {
   "cell_type": "code",
   "execution_count": 44,
   "id": "e83e2e53",
   "metadata": {
    "hidden": true
   },
   "outputs": [
    {
     "data": {
      "text/plain": [
       "27"
      ]
     },
     "execution_count": 44,
     "metadata": {},
     "output_type": "execute_result"
    }
   ],
   "source": [
    "3**3"
   ]
  },
  {
   "cell_type": "markdown",
   "id": "944f1c28",
   "metadata": {
    "heading_collapsed": true,
    "hidden": true
   },
   "source": [
    "## Intento 1"
   ]
  },
  {
   "cell_type": "code",
   "execution_count": 161,
   "id": "5d015afd",
   "metadata": {
    "hidden": true
   },
   "outputs": [],
   "source": [
    "train_x,val_x,train_y,val_y = train_test_split(x_preseleccionado,y,test_size=0.3,random_state=0)"
   ]
  },
  {
   "cell_type": "code",
   "execution_count": 162,
   "id": "672cb4c2",
   "metadata": {
    "hidden": true
   },
   "outputs": [
    {
     "data": {
      "text/plain": [
       "(1470, 39)"
      ]
     },
     "execution_count": 162,
     "metadata": {},
     "output_type": "execute_result"
    }
   ],
   "source": [
    "train_x.shape"
   ]
  },
  {
   "cell_type": "code",
   "execution_count": null,
   "id": "0d642158",
   "metadata": {
    "hidden": true
   },
   "outputs": [],
   "source": [
    "# sin 'cast_genero_2'"
   ]
  },
  {
   "cell_type": "code",
   "execution_count": 163,
   "id": "7d7b2912",
   "metadata": {
    "hidden": true
   },
   "outputs": [],
   "source": [
    "pipe = Pipeline([('algoritmo',RandomForestRegressor())])\n",
    "\n",
    "grid = [ \n",
    "\n",
    "        {'algoritmo': [RandomForestRegressor(min_samples_leaf =100)],\n",
    "         'algoritmo__max_depth': [9,10,11],\n",
    "         'algoritmo__n_estimators': [50,100,200]},\n",
    "       \n",
    "        {'algoritmo': [XGBRegressor()],\n",
    "         'algoritmo__learning_rate': [0.01,0.015,0.1,0.3,0.5],\n",
    "         'algoritmo__n_estimators': [100,500,1000],\n",
    "         'algoritmo__gamma' : [0.05,0.1,0.3,0.5,0.7,0.9,1,10],\n",
    "         'algoritmo__max_depth' : [3,5,7,9,12,15,17,25],\n",
    "         'algoritmo__reg_alpha' : [0,0.1,0.5,1],\n",
    "         'algoritmo__reg_lambda' : [0.01,0.1,1] },\n",
    "   \n",
    "    \n",
    "        {'algoritmo': [HistGradientBoostingRegressor(min_samples_leaf = 100)],\n",
    "         'algoritmo__learning_rate': [0.01,0.025,0.05,0.1],\n",
    "         'algoritmo__max_iter': [50,100,200],\n",
    "         'algoritmo__max_depth': [5,10,20],\n",
    "         'algoritmo__l2_regularization': [0,0.25,0.5,0.75,1]}\n",
    "       ]\n"
   ]
  },
  {
   "cell_type": "code",
   "execution_count": 164,
   "id": "85872ede",
   "metadata": {
    "hidden": true
   },
   "outputs": [],
   "source": [
    "from sklearn.model_selection import RandomizedSearchCV\n",
    "\n",
    "\n",
    "random_search = RandomizedSearchCV(estimator= pipe,\n",
    "                                   param_distributions=  grid, \n",
    "                                   n_iter = 150,\n",
    "                                   cv = 5,\n",
    "                                   scoring = 'neg_mean_squared_error',\n",
    "                                   verbose = 0,\n",
    "                                   n_jobs = -1)\n",
    "\n",
    "\n",
    "modelo = random_search.fit(train_x,train_y)"
   ]
  },
  {
   "cell_type": "code",
   "execution_count": 165,
   "id": "3a94c279",
   "metadata": {
    "hidden": true
   },
   "outputs": [
    {
     "data": {
      "text/html": [
       "<div>\n",
       "<style scoped>\n",
       "    .dataframe tbody tr th:only-of-type {\n",
       "        vertical-align: middle;\n",
       "    }\n",
       "\n",
       "    .dataframe tbody tr th {\n",
       "        vertical-align: top;\n",
       "    }\n",
       "\n",
       "    .dataframe thead th {\n",
       "        text-align: right;\n",
       "    }\n",
       "</style>\n",
       "<table border=\"1\" class=\"dataframe\">\n",
       "  <thead>\n",
       "    <tr style=\"text-align: right;\">\n",
       "      <th></th>\n",
       "      <th>mean_fit_time</th>\n",
       "      <th>std_fit_time</th>\n",
       "      <th>mean_score_time</th>\n",
       "      <th>std_score_time</th>\n",
       "      <th>param_algoritmo__reg_lambda</th>\n",
       "      <th>param_algoritmo__reg_alpha</th>\n",
       "      <th>param_algoritmo__n_estimators</th>\n",
       "      <th>param_algoritmo__max_depth</th>\n",
       "      <th>param_algoritmo__learning_rate</th>\n",
       "      <th>param_algoritmo__gamma</th>\n",
       "      <th>param_algoritmo</th>\n",
       "      <th>params</th>\n",
       "      <th>split0_test_score</th>\n",
       "      <th>split1_test_score</th>\n",
       "      <th>split2_test_score</th>\n",
       "      <th>split3_test_score</th>\n",
       "      <th>split4_test_score</th>\n",
       "      <th>mean_test_score</th>\n",
       "      <th>std_test_score</th>\n",
       "      <th>rank_test_score</th>\n",
       "    </tr>\n",
       "  </thead>\n",
       "  <tbody>\n",
       "    <tr>\n",
       "      <th>0</th>\n",
       "      <td>2.07</td>\n",
       "      <td>0.06</td>\n",
       "      <td>0.01</td>\n",
       "      <td>0.00</td>\n",
       "      <td>1</td>\n",
       "      <td>1</td>\n",
       "      <td>500</td>\n",
       "      <td>3</td>\n",
       "      <td>0.01</td>\n",
       "      <td>0.70</td>\n",
       "      <td>XGBRegressor(base_score=None, booster=None, co...</td>\n",
       "      <td>{'algoritmo__reg_lambda': 1, 'algoritmo__reg_a...</td>\n",
       "      <td>-4.70</td>\n",
       "      <td>-4.20</td>\n",
       "      <td>-5.12</td>\n",
       "      <td>-4.72</td>\n",
       "      <td>-5.71</td>\n",
       "      <td>-4.89</td>\n",
       "      <td>0.50</td>\n",
       "      <td>1</td>\n",
       "    </tr>\n",
       "    <tr>\n",
       "      <th>1</th>\n",
       "      <td>1.95</td>\n",
       "      <td>0.13</td>\n",
       "      <td>0.01</td>\n",
       "      <td>0.01</td>\n",
       "      <td>0.10</td>\n",
       "      <td>1</td>\n",
       "      <td>500</td>\n",
       "      <td>3</td>\n",
       "      <td>0.01</td>\n",
       "      <td>1</td>\n",
       "      <td>XGBRegressor(base_score=None, booster=None, co...</td>\n",
       "      <td>{'algoritmo__reg_lambda': 0.1, 'algoritmo__reg...</td>\n",
       "      <td>-4.72</td>\n",
       "      <td>-4.19</td>\n",
       "      <td>-5.18</td>\n",
       "      <td>-4.70</td>\n",
       "      <td>-5.67</td>\n",
       "      <td>-4.89</td>\n",
       "      <td>0.50</td>\n",
       "      <td>2</td>\n",
       "    </tr>\n",
       "    <tr>\n",
       "      <th>2</th>\n",
       "      <td>1.81</td>\n",
       "      <td>0.07</td>\n",
       "      <td>0.01</td>\n",
       "      <td>0.00</td>\n",
       "      <td>0.01</td>\n",
       "      <td>0.10</td>\n",
       "      <td>500</td>\n",
       "      <td>3</td>\n",
       "      <td>0.01</td>\n",
       "      <td>0.70</td>\n",
       "      <td>XGBRegressor(base_score=None, booster=None, co...</td>\n",
       "      <td>{'algoritmo__reg_lambda': 0.01, 'algoritmo__re...</td>\n",
       "      <td>-4.67</td>\n",
       "      <td>-4.22</td>\n",
       "      <td>-5.17</td>\n",
       "      <td>-4.72</td>\n",
       "      <td>-5.71</td>\n",
       "      <td>-4.90</td>\n",
       "      <td>0.50</td>\n",
       "      <td>3</td>\n",
       "    </tr>\n",
       "    <tr>\n",
       "      <th>3</th>\n",
       "      <td>3.94</td>\n",
       "      <td>0.26</td>\n",
       "      <td>0.01</td>\n",
       "      <td>0.01</td>\n",
       "      <td>1</td>\n",
       "      <td>1</td>\n",
       "      <td>1000</td>\n",
       "      <td>3</td>\n",
       "      <td>0.01</td>\n",
       "      <td>1</td>\n",
       "      <td>XGBRegressor(base_score=None, booster=None, co...</td>\n",
       "      <td>{'algoritmo__reg_lambda': 1, 'algoritmo__reg_a...</td>\n",
       "      <td>-4.81</td>\n",
       "      <td>-4.04</td>\n",
       "      <td>-5.14</td>\n",
       "      <td>-4.79</td>\n",
       "      <td>-5.96</td>\n",
       "      <td>-4.95</td>\n",
       "      <td>0.62</td>\n",
       "      <td>4</td>\n",
       "    </tr>\n",
       "    <tr>\n",
       "      <th>4</th>\n",
       "      <td>3.45</td>\n",
       "      <td>0.14</td>\n",
       "      <td>0.01</td>\n",
       "      <td>0.01</td>\n",
       "      <td>1</td>\n",
       "      <td>0.10</td>\n",
       "      <td>500</td>\n",
       "      <td>5</td>\n",
       "      <td>0.01</td>\n",
       "      <td>0.30</td>\n",
       "      <td>XGBRegressor(base_score=None, booster=None, co...</td>\n",
       "      <td>{'algoritmo__reg_lambda': 1, 'algoritmo__reg_a...</td>\n",
       "      <td>-5.17</td>\n",
       "      <td>-4.15</td>\n",
       "      <td>-4.96</td>\n",
       "      <td>-4.82</td>\n",
       "      <td>-5.73</td>\n",
       "      <td>-4.96</td>\n",
       "      <td>0.51</td>\n",
       "      <td>5</td>\n",
       "    </tr>\n",
       "    <tr>\n",
       "      <th>5</th>\n",
       "      <td>16.27</td>\n",
       "      <td>1.54</td>\n",
       "      <td>0.01</td>\n",
       "      <td>0.01</td>\n",
       "      <td>1</td>\n",
       "      <td>1</td>\n",
       "      <td>1000</td>\n",
       "      <td>9</td>\n",
       "      <td>0.01</td>\n",
       "      <td>10</td>\n",
       "      <td>XGBRegressor(base_score=None, booster=None, co...</td>\n",
       "      <td>{'algoritmo__reg_lambda': 1, 'algoritmo__reg_a...</td>\n",
       "      <td>-5.07</td>\n",
       "      <td>-4.21</td>\n",
       "      <td>-4.94</td>\n",
       "      <td>-4.92</td>\n",
       "      <td>-5.81</td>\n",
       "      <td>-4.99</td>\n",
       "      <td>0.51</td>\n",
       "      <td>6</td>\n",
       "    </tr>\n",
       "    <tr>\n",
       "      <th>6</th>\n",
       "      <td>5.94</td>\n",
       "      <td>0.59</td>\n",
       "      <td>0.00</td>\n",
       "      <td>0.00</td>\n",
       "      <td>0.10</td>\n",
       "      <td>0</td>\n",
       "      <td>500</td>\n",
       "      <td>7</td>\n",
       "      <td>0.01</td>\n",
       "      <td>10</td>\n",
       "      <td>XGBRegressor(base_score=None, booster=None, co...</td>\n",
       "      <td>{'algoritmo__reg_lambda': 0.1, 'algoritmo__reg...</td>\n",
       "      <td>-5.17</td>\n",
       "      <td>-4.44</td>\n",
       "      <td>-5.12</td>\n",
       "      <td>-4.95</td>\n",
       "      <td>-5.39</td>\n",
       "      <td>-5.01</td>\n",
       "      <td>0.32</td>\n",
       "      <td>7</td>\n",
       "    </tr>\n",
       "    <tr>\n",
       "      <th>7</th>\n",
       "      <td>3.39</td>\n",
       "      <td>0.03</td>\n",
       "      <td>0.00</td>\n",
       "      <td>0.00</td>\n",
       "      <td>0.10</td>\n",
       "      <td>1</td>\n",
       "      <td>500</td>\n",
       "      <td>5</td>\n",
       "      <td>0.01</td>\n",
       "      <td>0.50</td>\n",
       "      <td>XGBRegressor(base_score=None, booster=None, co...</td>\n",
       "      <td>{'algoritmo__reg_lambda': 0.1, 'algoritmo__reg...</td>\n",
       "      <td>-5.35</td>\n",
       "      <td>-4.11</td>\n",
       "      <td>-4.97</td>\n",
       "      <td>-5.05</td>\n",
       "      <td>-5.63</td>\n",
       "      <td>-5.02</td>\n",
       "      <td>0.51</td>\n",
       "      <td>8</td>\n",
       "    </tr>\n",
       "    <tr>\n",
       "      <th>8</th>\n",
       "      <td>5.80</td>\n",
       "      <td>1.66</td>\n",
       "      <td>0.01</td>\n",
       "      <td>0.00</td>\n",
       "      <td>0.01</td>\n",
       "      <td>0.10</td>\n",
       "      <td>1000</td>\n",
       "      <td>3</td>\n",
       "      <td>0.01</td>\n",
       "      <td>0.30</td>\n",
       "      <td>XGBRegressor(base_score=None, booster=None, co...</td>\n",
       "      <td>{'algoritmo__reg_lambda': 0.01, 'algoritmo__re...</td>\n",
       "      <td>-5.09</td>\n",
       "      <td>-3.96</td>\n",
       "      <td>-5.36</td>\n",
       "      <td>-4.87</td>\n",
       "      <td>-5.95</td>\n",
       "      <td>-5.05</td>\n",
       "      <td>0.65</td>\n",
       "      <td>9</td>\n",
       "    </tr>\n",
       "    <tr>\n",
       "      <th>9</th>\n",
       "      <td>18.13</td>\n",
       "      <td>1.37</td>\n",
       "      <td>0.01</td>\n",
       "      <td>0.00</td>\n",
       "      <td>1</td>\n",
       "      <td>1</td>\n",
       "      <td>500</td>\n",
       "      <td>12</td>\n",
       "      <td>0.10</td>\n",
       "      <td>10</td>\n",
       "      <td>XGBRegressor(base_score=None, booster=None, co...</td>\n",
       "      <td>{'algoritmo__reg_lambda': 1, 'algoritmo__reg_a...</td>\n",
       "      <td>-4.92</td>\n",
       "      <td>-4.42</td>\n",
       "      <td>-5.00</td>\n",
       "      <td>-4.99</td>\n",
       "      <td>-5.98</td>\n",
       "      <td>-5.06</td>\n",
       "      <td>0.51</td>\n",
       "      <td>10</td>\n",
       "    </tr>\n",
       "  </tbody>\n",
       "</table>\n",
       "</div>"
      ],
      "text/plain": [
       "   mean_fit_time  std_fit_time  mean_score_time  std_score_time  \\\n",
       "0           2.07          0.06             0.01            0.00   \n",
       "1           1.95          0.13             0.01            0.01   \n",
       "2           1.81          0.07             0.01            0.00   \n",
       "3           3.94          0.26             0.01            0.01   \n",
       "4           3.45          0.14             0.01            0.01   \n",
       "5          16.27          1.54             0.01            0.01   \n",
       "6           5.94          0.59             0.00            0.00   \n",
       "7           3.39          0.03             0.00            0.00   \n",
       "8           5.80          1.66             0.01            0.00   \n",
       "9          18.13          1.37             0.01            0.00   \n",
       "\n",
       "  param_algoritmo__reg_lambda param_algoritmo__reg_alpha  \\\n",
       "0                           1                          1   \n",
       "1                        0.10                          1   \n",
       "2                        0.01                       0.10   \n",
       "3                           1                          1   \n",
       "4                           1                       0.10   \n",
       "5                           1                          1   \n",
       "6                        0.10                          0   \n",
       "7                        0.10                          1   \n",
       "8                        0.01                       0.10   \n",
       "9                           1                          1   \n",
       "\n",
       "  param_algoritmo__n_estimators param_algoritmo__max_depth  \\\n",
       "0                           500                          3   \n",
       "1                           500                          3   \n",
       "2                           500                          3   \n",
       "3                          1000                          3   \n",
       "4                           500                          5   \n",
       "5                          1000                          9   \n",
       "6                           500                          7   \n",
       "7                           500                          5   \n",
       "8                          1000                          3   \n",
       "9                           500                         12   \n",
       "\n",
       "  param_algoritmo__learning_rate param_algoritmo__gamma  \\\n",
       "0                           0.01                   0.70   \n",
       "1                           0.01                      1   \n",
       "2                           0.01                   0.70   \n",
       "3                           0.01                      1   \n",
       "4                           0.01                   0.30   \n",
       "5                           0.01                     10   \n",
       "6                           0.01                     10   \n",
       "7                           0.01                   0.50   \n",
       "8                           0.01                   0.30   \n",
       "9                           0.10                     10   \n",
       "\n",
       "                                     param_algoritmo  \\\n",
       "0  XGBRegressor(base_score=None, booster=None, co...   \n",
       "1  XGBRegressor(base_score=None, booster=None, co...   \n",
       "2  XGBRegressor(base_score=None, booster=None, co...   \n",
       "3  XGBRegressor(base_score=None, booster=None, co...   \n",
       "4  XGBRegressor(base_score=None, booster=None, co...   \n",
       "5  XGBRegressor(base_score=None, booster=None, co...   \n",
       "6  XGBRegressor(base_score=None, booster=None, co...   \n",
       "7  XGBRegressor(base_score=None, booster=None, co...   \n",
       "8  XGBRegressor(base_score=None, booster=None, co...   \n",
       "9  XGBRegressor(base_score=None, booster=None, co...   \n",
       "\n",
       "                                              params  split0_test_score  \\\n",
       "0  {'algoritmo__reg_lambda': 1, 'algoritmo__reg_a...              -4.70   \n",
       "1  {'algoritmo__reg_lambda': 0.1, 'algoritmo__reg...              -4.72   \n",
       "2  {'algoritmo__reg_lambda': 0.01, 'algoritmo__re...              -4.67   \n",
       "3  {'algoritmo__reg_lambda': 1, 'algoritmo__reg_a...              -4.81   \n",
       "4  {'algoritmo__reg_lambda': 1, 'algoritmo__reg_a...              -5.17   \n",
       "5  {'algoritmo__reg_lambda': 1, 'algoritmo__reg_a...              -5.07   \n",
       "6  {'algoritmo__reg_lambda': 0.1, 'algoritmo__reg...              -5.17   \n",
       "7  {'algoritmo__reg_lambda': 0.1, 'algoritmo__reg...              -5.35   \n",
       "8  {'algoritmo__reg_lambda': 0.01, 'algoritmo__re...              -5.09   \n",
       "9  {'algoritmo__reg_lambda': 1, 'algoritmo__reg_a...              -4.92   \n",
       "\n",
       "   split1_test_score  split2_test_score  split3_test_score  split4_test_score  \\\n",
       "0              -4.20              -5.12              -4.72              -5.71   \n",
       "1              -4.19              -5.18              -4.70              -5.67   \n",
       "2              -4.22              -5.17              -4.72              -5.71   \n",
       "3              -4.04              -5.14              -4.79              -5.96   \n",
       "4              -4.15              -4.96              -4.82              -5.73   \n",
       "5              -4.21              -4.94              -4.92              -5.81   \n",
       "6              -4.44              -5.12              -4.95              -5.39   \n",
       "7              -4.11              -4.97              -5.05              -5.63   \n",
       "8              -3.96              -5.36              -4.87              -5.95   \n",
       "9              -4.42              -5.00              -4.99              -5.98   \n",
       "\n",
       "   mean_test_score  std_test_score  rank_test_score  \n",
       "0            -4.89            0.50                1  \n",
       "1            -4.89            0.50                2  \n",
       "2            -4.90            0.50                3  \n",
       "3            -4.95            0.62                4  \n",
       "4            -4.96            0.51                5  \n",
       "5            -4.99            0.51                6  \n",
       "6            -5.01            0.32                7  \n",
       "7            -5.02            0.51                8  \n",
       "8            -5.05            0.65                9  \n",
       "9            -5.06            0.51               10  "
      ]
     },
     "execution_count": 165,
     "metadata": {},
     "output_type": "execute_result"
    }
   ],
   "source": [
    "salida = pd.DataFrame(random_search.cv_results_).sort_values(by = 'rank_test_score').reset_index(drop=True).head(10)\n",
    "salida"
   ]
  },
  {
   "cell_type": "code",
   "execution_count": 166,
   "id": "0c7bf7dd",
   "metadata": {
    "hidden": true
   },
   "outputs": [
    {
     "data": {
      "text/plain": [
       "4.50937888025719"
      ]
     },
     "execution_count": 166,
     "metadata": {},
     "output_type": "execute_result"
    }
   ],
   "source": [
    "m3b=random_search.best_estimator_\n",
    "pred = m3b.predict(val_x)\n",
    "mean_squared_error(val_y, pred)"
   ]
  },
  {
   "cell_type": "markdown",
   "id": "432dc00a",
   "metadata": {
    "heading_collapsed": true,
    "hidden": true
   },
   "source": [
    "## Intento 2"
   ]
  },
  {
   "cell_type": "code",
   "execution_count": null,
   "id": "b4193291",
   "metadata": {
    "hidden": true
   },
   "outputs": [],
   "source": [
    "# intento 0 pero sin genero genres_Adventure"
   ]
  },
  {
   "cell_type": "code",
   "execution_count": 186,
   "id": "07359e40",
   "metadata": {
    "hidden": true
   },
   "outputs": [],
   "source": [
    "train_x,val_x,train_y,val_y = train_test_split(x_preseleccionado,y,test_size=0.3,random_state=0)"
   ]
  },
  {
   "cell_type": "code",
   "execution_count": 187,
   "id": "7ecbf0d9",
   "metadata": {
    "hidden": true
   },
   "outputs": [],
   "source": [
    "pipe = Pipeline([('algoritmo',RandomForestRegressor())])\n",
    "\n",
    "grid = [ \n",
    "\n",
    "        {'algoritmo': [RandomForestRegressor(min_samples_leaf =100)],\n",
    "         'algoritmo__max_depth': [9,10,11],\n",
    "         'algoritmo__n_estimators': [50,100,200]},\n",
    "       \n",
    "        {'algoritmo': [XGBRegressor()],\n",
    "         'algoritmo__learning_rate': [0.01,0.015,0.1,0.3,0.5],\n",
    "         'algoritmo__n_estimators': [100,500,1000],\n",
    "         'algoritmo__gamma' : [0.05,0.1,0.3,0.5,0.7,0.9,1,10],\n",
    "         'algoritmo__max_depth' : [3,5,7,9,12,15,17,25],\n",
    "         'algoritmo__reg_alpha' : [0,0.1,0.5,1],\n",
    "         'algoritmo__reg_lambda' : [0.01,0.1,1] },\n",
    "   \n",
    "    \n",
    "        {'algoritmo': [HistGradientBoostingRegressor(min_samples_leaf = 100)],\n",
    "         'algoritmo__learning_rate': [0.01,0.025,0.05,0.1],\n",
    "         'algoritmo__max_iter': [50,100,200],\n",
    "         'algoritmo__max_depth': [5,10,20],\n",
    "         'algoritmo__l2_regularization': [0,0.25,0.5,0.75,1]}\n",
    "       ]\n"
   ]
  },
  {
   "cell_type": "code",
   "execution_count": 188,
   "id": "8307cc68",
   "metadata": {
    "hidden": true
   },
   "outputs": [],
   "source": [
    "from sklearn.model_selection import RandomizedSearchCV\n",
    "\n",
    "\n",
    "random_search = RandomizedSearchCV(estimator= pipe,\n",
    "                                   param_distributions=  grid, \n",
    "                                   n_iter = 150,\n",
    "                                   cv = 5,\n",
    "                                   scoring = 'neg_mean_squared_error',\n",
    "                                   verbose = 0,\n",
    "                                   n_jobs = -1)\n",
    "\n",
    "\n",
    "modelo = random_search.fit(train_x,train_y)"
   ]
  },
  {
   "cell_type": "code",
   "execution_count": 189,
   "id": "b70c99a0",
   "metadata": {
    "hidden": true
   },
   "outputs": [
    {
     "data": {
      "text/html": [
       "<div>\n",
       "<style scoped>\n",
       "    .dataframe tbody tr th:only-of-type {\n",
       "        vertical-align: middle;\n",
       "    }\n",
       "\n",
       "    .dataframe tbody tr th {\n",
       "        vertical-align: top;\n",
       "    }\n",
       "\n",
       "    .dataframe thead th {\n",
       "        text-align: right;\n",
       "    }\n",
       "</style>\n",
       "<table border=\"1\" class=\"dataframe\">\n",
       "  <thead>\n",
       "    <tr style=\"text-align: right;\">\n",
       "      <th></th>\n",
       "      <th>mean_fit_time</th>\n",
       "      <th>std_fit_time</th>\n",
       "      <th>mean_score_time</th>\n",
       "      <th>std_score_time</th>\n",
       "      <th>param_algoritmo__reg_lambda</th>\n",
       "      <th>param_algoritmo__reg_alpha</th>\n",
       "      <th>param_algoritmo__n_estimators</th>\n",
       "      <th>param_algoritmo__max_depth</th>\n",
       "      <th>param_algoritmo__learning_rate</th>\n",
       "      <th>param_algoritmo__gamma</th>\n",
       "      <th>...</th>\n",
       "      <th>param_algoritmo__l2_regularization</th>\n",
       "      <th>params</th>\n",
       "      <th>split0_test_score</th>\n",
       "      <th>split1_test_score</th>\n",
       "      <th>split2_test_score</th>\n",
       "      <th>split3_test_score</th>\n",
       "      <th>split4_test_score</th>\n",
       "      <th>mean_test_score</th>\n",
       "      <th>std_test_score</th>\n",
       "      <th>rank_test_score</th>\n",
       "    </tr>\n",
       "  </thead>\n",
       "  <tbody>\n",
       "    <tr>\n",
       "      <th>0</th>\n",
       "      <td>2.87</td>\n",
       "      <td>0.44</td>\n",
       "      <td>0.07</td>\n",
       "      <td>0.02</td>\n",
       "      <td>NaN</td>\n",
       "      <td>NaN</td>\n",
       "      <td>NaN</td>\n",
       "      <td>20</td>\n",
       "      <td>0.03</td>\n",
       "      <td>NaN</td>\n",
       "      <td>...</td>\n",
       "      <td>0.50</td>\n",
       "      <td>{'algoritmo__max_iter': 200, 'algoritmo__max_d...</td>\n",
       "      <td>-4.38</td>\n",
       "      <td>-4.25</td>\n",
       "      <td>-4.98</td>\n",
       "      <td>-4.43</td>\n",
       "      <td>-5.21</td>\n",
       "      <td>-4.65</td>\n",
       "      <td>0.38</td>\n",
       "      <td>1</td>\n",
       "    </tr>\n",
       "    <tr>\n",
       "      <th>1</th>\n",
       "      <td>2.63</td>\n",
       "      <td>0.45</td>\n",
       "      <td>0.01</td>\n",
       "      <td>0.01</td>\n",
       "      <td>0.01</td>\n",
       "      <td>1</td>\n",
       "      <td>500</td>\n",
       "      <td>3</td>\n",
       "      <td>0.01</td>\n",
       "      <td>1</td>\n",
       "      <td>...</td>\n",
       "      <td>NaN</td>\n",
       "      <td>{'algoritmo__reg_lambda': 0.01, 'algoritmo__re...</td>\n",
       "      <td>-4.74</td>\n",
       "      <td>-4.08</td>\n",
       "      <td>-5.25</td>\n",
       "      <td>-4.73</td>\n",
       "      <td>-5.70</td>\n",
       "      <td>-4.90</td>\n",
       "      <td>0.54</td>\n",
       "      <td>2</td>\n",
       "    </tr>\n",
       "    <tr>\n",
       "      <th>2</th>\n",
       "      <td>0.52</td>\n",
       "      <td>0.03</td>\n",
       "      <td>0.01</td>\n",
       "      <td>0.00</td>\n",
       "      <td>0.01</td>\n",
       "      <td>0.10</td>\n",
       "      <td>100</td>\n",
       "      <td>3</td>\n",
       "      <td>0.10</td>\n",
       "      <td>0.30</td>\n",
       "      <td>...</td>\n",
       "      <td>NaN</td>\n",
       "      <td>{'algoritmo__reg_lambda': 0.01, 'algoritmo__re...</td>\n",
       "      <td>-4.79</td>\n",
       "      <td>-4.00</td>\n",
       "      <td>-5.28</td>\n",
       "      <td>-4.54</td>\n",
       "      <td>-5.93</td>\n",
       "      <td>-4.91</td>\n",
       "      <td>0.66</td>\n",
       "      <td>3</td>\n",
       "    </tr>\n",
       "    <tr>\n",
       "      <th>3</th>\n",
       "      <td>4.36</td>\n",
       "      <td>0.19</td>\n",
       "      <td>0.01</td>\n",
       "      <td>0.00</td>\n",
       "      <td>0.01</td>\n",
       "      <td>0.10</td>\n",
       "      <td>1000</td>\n",
       "      <td>3</td>\n",
       "      <td>0.01</td>\n",
       "      <td>10</td>\n",
       "      <td>...</td>\n",
       "      <td>NaN</td>\n",
       "      <td>{'algoritmo__reg_lambda': 0.01, 'algoritmo__re...</td>\n",
       "      <td>-4.72</td>\n",
       "      <td>-4.06</td>\n",
       "      <td>-5.26</td>\n",
       "      <td>-4.75</td>\n",
       "      <td>-5.79</td>\n",
       "      <td>-4.92</td>\n",
       "      <td>0.58</td>\n",
       "      <td>4</td>\n",
       "    </tr>\n",
       "    <tr>\n",
       "      <th>4</th>\n",
       "      <td>3.08</td>\n",
       "      <td>0.07</td>\n",
       "      <td>0.01</td>\n",
       "      <td>0.01</td>\n",
       "      <td>1</td>\n",
       "      <td>0</td>\n",
       "      <td>500</td>\n",
       "      <td>5</td>\n",
       "      <td>0.01</td>\n",
       "      <td>0.05</td>\n",
       "      <td>...</td>\n",
       "      <td>NaN</td>\n",
       "      <td>{'algoritmo__reg_lambda': 1, 'algoritmo__reg_a...</td>\n",
       "      <td>-5.00</td>\n",
       "      <td>-4.23</td>\n",
       "      <td>-5.07</td>\n",
       "      <td>-4.75</td>\n",
       "      <td>-5.62</td>\n",
       "      <td>-4.93</td>\n",
       "      <td>0.45</td>\n",
       "      <td>5</td>\n",
       "    </tr>\n",
       "    <tr>\n",
       "      <th>5</th>\n",
       "      <td>5.31</td>\n",
       "      <td>0.36</td>\n",
       "      <td>0.01</td>\n",
       "      <td>0.00</td>\n",
       "      <td>0.01</td>\n",
       "      <td>0.10</td>\n",
       "      <td>1000</td>\n",
       "      <td>3</td>\n",
       "      <td>0.01</td>\n",
       "      <td>0.05</td>\n",
       "      <td>...</td>\n",
       "      <td>NaN</td>\n",
       "      <td>{'algoritmo__reg_lambda': 0.01, 'algoritmo__re...</td>\n",
       "      <td>-4.82</td>\n",
       "      <td>-4.10</td>\n",
       "      <td>-5.38</td>\n",
       "      <td>-4.80</td>\n",
       "      <td>-5.84</td>\n",
       "      <td>-4.99</td>\n",
       "      <td>0.59</td>\n",
       "      <td>6</td>\n",
       "    </tr>\n",
       "    <tr>\n",
       "      <th>6</th>\n",
       "      <td>3.34</td>\n",
       "      <td>0.29</td>\n",
       "      <td>0.00</td>\n",
       "      <td>0.00</td>\n",
       "      <td>1</td>\n",
       "      <td>0.10</td>\n",
       "      <td>1000</td>\n",
       "      <td>3</td>\n",
       "      <td>0.01</td>\n",
       "      <td>1</td>\n",
       "      <td>...</td>\n",
       "      <td>NaN</td>\n",
       "      <td>{'algoritmo__reg_lambda': 1, 'algoritmo__reg_a...</td>\n",
       "      <td>-4.83</td>\n",
       "      <td>-4.03</td>\n",
       "      <td>-5.29</td>\n",
       "      <td>-4.90</td>\n",
       "      <td>-5.97</td>\n",
       "      <td>-5.00</td>\n",
       "      <td>0.63</td>\n",
       "      <td>7</td>\n",
       "    </tr>\n",
       "    <tr>\n",
       "      <th>7</th>\n",
       "      <td>0.32</td>\n",
       "      <td>0.01</td>\n",
       "      <td>0.00</td>\n",
       "      <td>0.00</td>\n",
       "      <td>0.01</td>\n",
       "      <td>0.50</td>\n",
       "      <td>100</td>\n",
       "      <td>3</td>\n",
       "      <td>0.10</td>\n",
       "      <td>0.50</td>\n",
       "      <td>...</td>\n",
       "      <td>NaN</td>\n",
       "      <td>{'algoritmo__reg_lambda': 0.01, 'algoritmo__re...</td>\n",
       "      <td>-5.10</td>\n",
       "      <td>-4.03</td>\n",
       "      <td>-5.24</td>\n",
       "      <td>-4.72</td>\n",
       "      <td>-6.06</td>\n",
       "      <td>-5.03</td>\n",
       "      <td>0.66</td>\n",
       "      <td>8</td>\n",
       "    </tr>\n",
       "    <tr>\n",
       "      <th>8</th>\n",
       "      <td>4.12</td>\n",
       "      <td>0.23</td>\n",
       "      <td>0.01</td>\n",
       "      <td>0.01</td>\n",
       "      <td>0.01</td>\n",
       "      <td>1</td>\n",
       "      <td>1000</td>\n",
       "      <td>3</td>\n",
       "      <td>0.01</td>\n",
       "      <td>0.70</td>\n",
       "      <td>...</td>\n",
       "      <td>NaN</td>\n",
       "      <td>{'algoritmo__reg_lambda': 0.01, 'algoritmo__re...</td>\n",
       "      <td>-4.93</td>\n",
       "      <td>-4.05</td>\n",
       "      <td>-5.40</td>\n",
       "      <td>-4.92</td>\n",
       "      <td>-5.94</td>\n",
       "      <td>-5.05</td>\n",
       "      <td>0.62</td>\n",
       "      <td>9</td>\n",
       "    </tr>\n",
       "    <tr>\n",
       "      <th>9</th>\n",
       "      <td>4.18</td>\n",
       "      <td>0.32</td>\n",
       "      <td>0.01</td>\n",
       "      <td>0.01</td>\n",
       "      <td>0.01</td>\n",
       "      <td>1</td>\n",
       "      <td>1000</td>\n",
       "      <td>3</td>\n",
       "      <td>0.01</td>\n",
       "      <td>0.05</td>\n",
       "      <td>...</td>\n",
       "      <td>NaN</td>\n",
       "      <td>{'algoritmo__reg_lambda': 0.01, 'algoritmo__re...</td>\n",
       "      <td>-4.95</td>\n",
       "      <td>-4.10</td>\n",
       "      <td>-5.40</td>\n",
       "      <td>-4.82</td>\n",
       "      <td>-5.98</td>\n",
       "      <td>-5.05</td>\n",
       "      <td>0.63</td>\n",
       "      <td>10</td>\n",
       "    </tr>\n",
       "  </tbody>\n",
       "</table>\n",
       "<p>10 rows × 22 columns</p>\n",
       "</div>"
      ],
      "text/plain": [
       "   mean_fit_time  std_fit_time  mean_score_time  std_score_time  \\\n",
       "0           2.87          0.44             0.07            0.02   \n",
       "1           2.63          0.45             0.01            0.01   \n",
       "2           0.52          0.03             0.01            0.00   \n",
       "3           4.36          0.19             0.01            0.00   \n",
       "4           3.08          0.07             0.01            0.01   \n",
       "5           5.31          0.36             0.01            0.00   \n",
       "6           3.34          0.29             0.00            0.00   \n",
       "7           0.32          0.01             0.00            0.00   \n",
       "8           4.12          0.23             0.01            0.01   \n",
       "9           4.18          0.32             0.01            0.01   \n",
       "\n",
       "  param_algoritmo__reg_lambda param_algoritmo__reg_alpha  \\\n",
       "0                         NaN                        NaN   \n",
       "1                        0.01                          1   \n",
       "2                        0.01                       0.10   \n",
       "3                        0.01                       0.10   \n",
       "4                           1                          0   \n",
       "5                        0.01                       0.10   \n",
       "6                           1                       0.10   \n",
       "7                        0.01                       0.50   \n",
       "8                        0.01                          1   \n",
       "9                        0.01                          1   \n",
       "\n",
       "  param_algoritmo__n_estimators param_algoritmo__max_depth  \\\n",
       "0                           NaN                         20   \n",
       "1                           500                          3   \n",
       "2                           100                          3   \n",
       "3                          1000                          3   \n",
       "4                           500                          5   \n",
       "5                          1000                          3   \n",
       "6                          1000                          3   \n",
       "7                           100                          3   \n",
       "8                          1000                          3   \n",
       "9                          1000                          3   \n",
       "\n",
       "  param_algoritmo__learning_rate param_algoritmo__gamma  ...  \\\n",
       "0                           0.03                    NaN  ...   \n",
       "1                           0.01                      1  ...   \n",
       "2                           0.10                   0.30  ...   \n",
       "3                           0.01                     10  ...   \n",
       "4                           0.01                   0.05  ...   \n",
       "5                           0.01                   0.05  ...   \n",
       "6                           0.01                      1  ...   \n",
       "7                           0.10                   0.50  ...   \n",
       "8                           0.01                   0.70  ...   \n",
       "9                           0.01                   0.05  ...   \n",
       "\n",
       "  param_algoritmo__l2_regularization  \\\n",
       "0                               0.50   \n",
       "1                                NaN   \n",
       "2                                NaN   \n",
       "3                                NaN   \n",
       "4                                NaN   \n",
       "5                                NaN   \n",
       "6                                NaN   \n",
       "7                                NaN   \n",
       "8                                NaN   \n",
       "9                                NaN   \n",
       "\n",
       "                                              params split0_test_score  \\\n",
       "0  {'algoritmo__max_iter': 200, 'algoritmo__max_d...             -4.38   \n",
       "1  {'algoritmo__reg_lambda': 0.01, 'algoritmo__re...             -4.74   \n",
       "2  {'algoritmo__reg_lambda': 0.01, 'algoritmo__re...             -4.79   \n",
       "3  {'algoritmo__reg_lambda': 0.01, 'algoritmo__re...             -4.72   \n",
       "4  {'algoritmo__reg_lambda': 1, 'algoritmo__reg_a...             -5.00   \n",
       "5  {'algoritmo__reg_lambda': 0.01, 'algoritmo__re...             -4.82   \n",
       "6  {'algoritmo__reg_lambda': 1, 'algoritmo__reg_a...             -4.83   \n",
       "7  {'algoritmo__reg_lambda': 0.01, 'algoritmo__re...             -5.10   \n",
       "8  {'algoritmo__reg_lambda': 0.01, 'algoritmo__re...             -4.93   \n",
       "9  {'algoritmo__reg_lambda': 0.01, 'algoritmo__re...             -4.95   \n",
       "\n",
       "  split1_test_score  split2_test_score  split3_test_score  split4_test_score  \\\n",
       "0             -4.25              -4.98              -4.43              -5.21   \n",
       "1             -4.08              -5.25              -4.73              -5.70   \n",
       "2             -4.00              -5.28              -4.54              -5.93   \n",
       "3             -4.06              -5.26              -4.75              -5.79   \n",
       "4             -4.23              -5.07              -4.75              -5.62   \n",
       "5             -4.10              -5.38              -4.80              -5.84   \n",
       "6             -4.03              -5.29              -4.90              -5.97   \n",
       "7             -4.03              -5.24              -4.72              -6.06   \n",
       "8             -4.05              -5.40              -4.92              -5.94   \n",
       "9             -4.10              -5.40              -4.82              -5.98   \n",
       "\n",
       "   mean_test_score  std_test_score  rank_test_score  \n",
       "0            -4.65            0.38                1  \n",
       "1            -4.90            0.54                2  \n",
       "2            -4.91            0.66                3  \n",
       "3            -4.92            0.58                4  \n",
       "4            -4.93            0.45                5  \n",
       "5            -4.99            0.59                6  \n",
       "6            -5.00            0.63                7  \n",
       "7            -5.03            0.66                8  \n",
       "8            -5.05            0.62                9  \n",
       "9            -5.05            0.63               10  \n",
       "\n",
       "[10 rows x 22 columns]"
      ]
     },
     "execution_count": 189,
     "metadata": {},
     "output_type": "execute_result"
    }
   ],
   "source": [
    "salida = pd.DataFrame(random_search.cv_results_).sort_values(by = 'rank_test_score').reset_index(drop=True).head(10)\n",
    "salida"
   ]
  },
  {
   "cell_type": "code",
   "execution_count": 190,
   "id": "582a58e4",
   "metadata": {
    "hidden": true
   },
   "outputs": [
    {
     "data": {
      "text/plain": [
       "4.621606773684083"
      ]
     },
     "execution_count": 190,
     "metadata": {},
     "output_type": "execute_result"
    }
   ],
   "source": [
    "m3c=random_search.best_estimator_\n",
    "pred = m3c.predict(val_x)\n",
    "mean_squared_error(val_y, pred)"
   ]
  },
  {
   "cell_type": "code",
   "execution_count": 191,
   "id": "ce0df4de",
   "metadata": {
    "hidden": true
   },
   "outputs": [
    {
     "data": {
      "text/plain": [
       "Pipeline(steps=[('algoritmo',\n",
       "                 HistGradientBoostingRegressor(l2_regularization=0.5,\n",
       "                                               learning_rate=0.025,\n",
       "                                               max_depth=20, max_iter=200,\n",
       "                                               min_samples_leaf=100))])"
      ]
     },
     "execution_count": 191,
     "metadata": {},
     "output_type": "execute_result"
    }
   ],
   "source": [
    "m3c"
   ]
  },
  {
   "cell_type": "code",
   "execution_count": 99,
   "id": "c247c3d8",
   "metadata": {
    "hidden": true
   },
   "outputs": [
    {
     "ename": "NameError",
     "evalue": "name 'val_y' is not defined",
     "output_type": "error",
     "traceback": [
      "\u001b[1;31m---------------------------------------------------------------------------\u001b[0m",
      "\u001b[1;31mNameError\u001b[0m                                 Traceback (most recent call last)",
      "\u001b[1;32m~\\AppData\\Local\\Temp/ipykernel_17372/2480049081.py\u001b[0m in \u001b[0;36m<module>\u001b[1;34m\u001b[0m\n\u001b[1;32m----> 1\u001b[1;33m \u001b[0mcheck_validacion\u001b[0m \u001b[1;33m=\u001b[0m \u001b[0mpd\u001b[0m\u001b[1;33m.\u001b[0m\u001b[0mDataFrame\u001b[0m\u001b[1;33m(\u001b[0m\u001b[1;33m{\u001b[0m\u001b[1;34m'valor_real'\u001b[0m\u001b[1;33m:\u001b[0m\u001b[0mval_y\u001b[0m\u001b[1;33m,\u001b[0m \u001b[1;34m'predicciones'\u001b[0m\u001b[1;33m:\u001b[0m\u001b[0mpred\u001b[0m\u001b[1;33m}\u001b[0m\u001b[1;33m)\u001b[0m\u001b[1;33m\u001b[0m\u001b[1;33m\u001b[0m\u001b[0m\n\u001b[0m\u001b[0;32m      2\u001b[0m \u001b[0mcheck_validacion\u001b[0m \u001b[1;33m=\u001b[0m \u001b[0mcheck_validacion\u001b[0m\u001b[1;33m.\u001b[0m\u001b[0mtransform\u001b[0m\u001b[1;33m(\u001b[0m\u001b[1;33m)\u001b[0m\u001b[1;33m\u001b[0m\u001b[1;33m\u001b[0m\u001b[0m\n\u001b[0;32m      3\u001b[0m \u001b[0mcheck_validacion\u001b[0m\u001b[1;33m\u001b[0m\u001b[1;33m\u001b[0m\u001b[0m\n\u001b[0;32m      4\u001b[0m \u001b[0mcheck_validacion\u001b[0m\u001b[1;33m.\u001b[0m\u001b[0mcorr\u001b[0m\u001b[1;33m(\u001b[0m\u001b[1;33m)\u001b[0m\u001b[1;33m\u001b[0m\u001b[1;33m\u001b[0m\u001b[0m\n",
      "\u001b[1;31mNameError\u001b[0m: name 'val_y' is not defined"
     ]
    }
   ],
   "source": [
    "check_validacion = pd.DataFrame({'valor_real':val_y, 'predicciones':pred})\n",
    "check_validacion = check_validacion.transform()\n",
    "check_validacion\n",
    "check_validacion.corr()"
   ]
  },
  {
   "cell_type": "code",
   "execution_count": 98,
   "id": "0b60327c",
   "metadata": {
    "hidden": true
   },
   "outputs": [
    {
     "data": {
      "text/plain": [
       "0      16.33\n",
       "1      18.37\n",
       "2      16.39\n",
       "3      16.59\n",
       "4      15.18\n",
       "        ... \n",
       "2995   14.28\n",
       "2996   12.10\n",
       "2997   18.31\n",
       "2998   18.96\n",
       "2999   18.22\n",
       "Name: revenue, Length: 3000, dtype: float64"
      ]
     },
     "execution_count": 98,
     "metadata": {},
     "output_type": "execute_result"
    }
   ],
   "source": [
    "y"
   ]
  },
  {
   "cell_type": "code",
   "execution_count": 194,
   "id": "254c7842",
   "metadata": {
    "hidden": true
   },
   "outputs": [
    {
     "data": {
      "image/png": "[encoded data removed]",
      "text/plain": [
       "<Figure size 720x432 with 1 Axes>"
      ]
     },
     "metadata": {
      "needs_background": "light"
     },
     "output_type": "display_data"
    }
   ],
   "source": [
    "check_validacion.plot.density(figsize = (10,6));"
   ]
  },
  {
   "cell_type": "markdown",
   "id": "4a54b50b",
   "metadata": {
    "heading_collapsed": true,
    "hidden": true
   },
   "source": [
    "## Intento 3"
   ]
  },
  {
   "cell_type": "code",
   "execution_count": 113,
   "id": "cf097afc",
   "metadata": {
    "hidden": true
   },
   "outputs": [],
   "source": [
    "x_preseleccionado = df_unido[variables2].copy()\n",
    "train_x,val_x,train_y,val_y = train_test_split(x_preseleccionado,y,test_size=0.3,random_state=0)"
   ]
  },
  {
   "cell_type": "code",
   "execution_count": 117,
   "id": "95854d36",
   "metadata": {
    "hidden": true
   },
   "outputs": [
    {
     "data": {
      "text/plain": [
       "(2100, 30)"
      ]
     },
     "execution_count": 117,
     "metadata": {},
     "output_type": "execute_result"
    }
   ],
   "source": [
    "x_preseleccionado.shape"
   ]
  },
  {
   "cell_type": "code",
   "execution_count": 123,
   "id": "d6c3e57b",
   "metadata": {
    "hidden": true
   },
   "outputs": [
    {
     "data": {
      "text/plain": [
       "Index(['rd_mes', 'lives', 'genres_Comedy',\n",
       "       'production_countries_United States of America', 'crew_freq',\n",
       "       'Keywords_freq', 'time', 'rd_dia_semana', 'genres_Adventure', 'team',\n",
       "       'genres_Action', 'cast_genero_1', 'cast_genero_2', 'friends', 'boy',\n",
       "       'small', 'belongs_to_collection', 'secret', 'years', 'police', 'man',\n",
       "       'runtime', 'genres_Drama', 'woman', 'life', 'war', 'friend', 'rd_year',\n",
       "       'popularity', 'budget'],\n",
       "      dtype='object')"
      ]
     },
     "execution_count": 123,
     "metadata": {},
     "output_type": "execute_result"
    }
   ],
   "source": [
    "x_preseleccionado.columns"
   ]
  },
  {
   "cell_type": "code",
   "execution_count": 119,
   "id": "c64eaaf7",
   "metadata": {
    "hidden": true
   },
   "outputs": [],
   "source": [
    "pipe = Pipeline([('algoritmo',RandomForestRegressor())])\n",
    "\n",
    "grid = [ \n",
    "\n",
    "        {'algoritmo': [RandomForestRegressor(min_samples_leaf =100)],\n",
    "         'algoritmo__max_depth': [9,10,11],\n",
    "         'algoritmo__n_estimators': [50,100,200]},\n",
    "       \n",
    "        {'algoritmo': [XGBRegressor()],\n",
    "         'algoritmo__learning_rate': [0.01,0.015,0.1,0.3,0.5],\n",
    "         'algoritmo__n_estimators': [100,500,1000],\n",
    "         'algoritmo__gamma' : [0.05,0.1,0.3,0.5,0.7,0.9,1,10],\n",
    "         'algoritmo__max_depth' : [3,5,7,9,12,15,17,25],\n",
    "         'algoritmo__reg_alpha' : [0,0.1,0.5,1],\n",
    "         'algoritmo__reg_lambda' : [0.01,0.1,1] },\n",
    "   \n",
    "    \n",
    "        {'algoritmo': [HistGradientBoostingRegressor(min_samples_leaf = 100)],\n",
    "         'algoritmo__learning_rate': [0.01,0.025,0.05,0.1],\n",
    "         'algoritmo__max_iter': [50,100,200],\n",
    "         'algoritmo__max_depth': [5,10,20],\n",
    "         'algoritmo__l2_regularization': [0,0.25,0.5,0.75,1]}\n",
    "       ]\n"
   ]
  },
  {
   "cell_type": "code",
   "execution_count": 120,
   "id": "a43552d4",
   "metadata": {
    "hidden": true
   },
   "outputs": [
    {
     "name": "stdout",
     "output_type": "stream",
     "text": [
      "1388.9669003486633\n"
     ]
    }
   ],
   "source": [
    "from sklearn.model_selection import RandomizedSearchCV\n",
    "import time\n",
    "inicio = time.time()\n",
    "\n",
    "\n",
    "\n",
    "random_search = RandomizedSearchCV(estimator= pipe,\n",
    "                                   param_distributions=  grid, \n",
    "                                   n_iter = 150,\n",
    "                                   cv = 5,\n",
    "                                   scoring = 'neg_mean_squared_error',\n",
    "                                   verbose = 0,\n",
    "                                   n_jobs = -1)\n",
    "\n",
    "\n",
    "modelo = random_search.fit(train_x,train_y)\n",
    "\n",
    "\n",
    "fin = time.time()\n",
    "print(fin-inicio)"
   ]
  },
  {
   "cell_type": "code",
   "execution_count": 122,
   "id": "44218893",
   "metadata": {
    "hidden": true
   },
   "outputs": [
    {
     "data": {
      "text/html": [
       "<div>\n",
       "<style scoped>\n",
       "    .dataframe tbody tr th:only-of-type {\n",
       "        vertical-align: middle;\n",
       "    }\n",
       "\n",
       "    .dataframe tbody tr th {\n",
       "        vertical-align: top;\n",
       "    }\n",
       "\n",
       "    .dataframe thead th {\n",
       "        text-align: right;\n",
       "    }\n",
       "</style>\n",
       "<table border=\"1\" class=\"dataframe\">\n",
       "  <thead>\n",
       "    <tr style=\"text-align: right;\">\n",
       "      <th></th>\n",
       "      <th>mean_fit_time</th>\n",
       "      <th>std_fit_time</th>\n",
       "      <th>mean_score_time</th>\n",
       "      <th>std_score_time</th>\n",
       "      <th>param_algoritmo__reg_lambda</th>\n",
       "      <th>param_algoritmo__reg_alpha</th>\n",
       "      <th>param_algoritmo__n_estimators</th>\n",
       "      <th>param_algoritmo__max_depth</th>\n",
       "      <th>param_algoritmo__learning_rate</th>\n",
       "      <th>param_algoritmo__gamma</th>\n",
       "      <th>...</th>\n",
       "      <th>param_algoritmo__l2_regularization</th>\n",
       "      <th>params</th>\n",
       "      <th>split0_test_score</th>\n",
       "      <th>split1_test_score</th>\n",
       "      <th>split2_test_score</th>\n",
       "      <th>split3_test_score</th>\n",
       "      <th>split4_test_score</th>\n",
       "      <th>mean_test_score</th>\n",
       "      <th>std_test_score</th>\n",
       "      <th>rank_test_score</th>\n",
       "    </tr>\n",
       "  </thead>\n",
       "  <tbody>\n",
       "    <tr>\n",
       "      <th>0</th>\n",
       "      <td>1.91</td>\n",
       "      <td>0.29</td>\n",
       "      <td>0.05</td>\n",
       "      <td>0.01</td>\n",
       "      <td>NaN</td>\n",
       "      <td>NaN</td>\n",
       "      <td>NaN</td>\n",
       "      <td>5</td>\n",
       "      <td>0.10</td>\n",
       "      <td>NaN</td>\n",
       "      <td>...</td>\n",
       "      <td>0.75</td>\n",
       "      <td>{'algoritmo__max_iter': 100, 'algoritmo__max_d...</td>\n",
       "      <td>-4.36</td>\n",
       "      <td>-4.27</td>\n",
       "      <td>-4.90</td>\n",
       "      <td>-4.39</td>\n",
       "      <td>-5.31</td>\n",
       "      <td>-4.65</td>\n",
       "      <td>0.40</td>\n",
       "      <td>1</td>\n",
       "    </tr>\n",
       "    <tr>\n",
       "      <th>1</th>\n",
       "      <td>6.90</td>\n",
       "      <td>0.93</td>\n",
       "      <td>0.01</td>\n",
       "      <td>0.01</td>\n",
       "      <td>1</td>\n",
       "      <td>0.10</td>\n",
       "      <td>500</td>\n",
       "      <td>3</td>\n",
       "      <td>0.01</td>\n",
       "      <td>0.30</td>\n",
       "      <td>...</td>\n",
       "      <td>NaN</td>\n",
       "      <td>{'algoritmo__reg_lambda': 1, 'algoritmo__reg_a...</td>\n",
       "      <td>-4.60</td>\n",
       "      <td>-4.04</td>\n",
       "      <td>-5.28</td>\n",
       "      <td>-4.60</td>\n",
       "      <td>-5.67</td>\n",
       "      <td>-4.84</td>\n",
       "      <td>0.57</td>\n",
       "      <td>2</td>\n",
       "    </tr>\n",
       "    <tr>\n",
       "      <th>2</th>\n",
       "      <td>1.73</td>\n",
       "      <td>0.02</td>\n",
       "      <td>0.01</td>\n",
       "      <td>0.00</td>\n",
       "      <td>1</td>\n",
       "      <td>1</td>\n",
       "      <td>500</td>\n",
       "      <td>3</td>\n",
       "      <td>0.01</td>\n",
       "      <td>1</td>\n",
       "      <td>...</td>\n",
       "      <td>NaN</td>\n",
       "      <td>{'algoritmo__reg_lambda': 1, 'algoritmo__reg_a...</td>\n",
       "      <td>-4.60</td>\n",
       "      <td>-4.15</td>\n",
       "      <td>-5.23</td>\n",
       "      <td>-4.60</td>\n",
       "      <td>-5.61</td>\n",
       "      <td>-4.84</td>\n",
       "      <td>0.52</td>\n",
       "      <td>3</td>\n",
       "    </tr>\n",
       "    <tr>\n",
       "      <th>3</th>\n",
       "      <td>3.91</td>\n",
       "      <td>0.12</td>\n",
       "      <td>0.01</td>\n",
       "      <td>0.00</td>\n",
       "      <td>1</td>\n",
       "      <td>1</td>\n",
       "      <td>1000</td>\n",
       "      <td>3</td>\n",
       "      <td>0.01</td>\n",
       "      <td>0.10</td>\n",
       "      <td>...</td>\n",
       "      <td>NaN</td>\n",
       "      <td>{'algoritmo__reg_lambda': 1, 'algoritmo__reg_a...</td>\n",
       "      <td>-4.65</td>\n",
       "      <td>-4.03</td>\n",
       "      <td>-5.27</td>\n",
       "      <td>-4.59</td>\n",
       "      <td>-5.73</td>\n",
       "      <td>-4.86</td>\n",
       "      <td>0.59</td>\n",
       "      <td>4</td>\n",
       "    </tr>\n",
       "    <tr>\n",
       "      <th>4</th>\n",
       "      <td>3.17</td>\n",
       "      <td>0.66</td>\n",
       "      <td>0.01</td>\n",
       "      <td>0.00</td>\n",
       "      <td>0.10</td>\n",
       "      <td>0</td>\n",
       "      <td>500</td>\n",
       "      <td>3</td>\n",
       "      <td>0.01</td>\n",
       "      <td>1</td>\n",
       "      <td>...</td>\n",
       "      <td>NaN</td>\n",
       "      <td>{'algoritmo__reg_lambda': 0.1, 'algoritmo__reg...</td>\n",
       "      <td>-4.55</td>\n",
       "      <td>-4.16</td>\n",
       "      <td>-5.29</td>\n",
       "      <td>-4.67</td>\n",
       "      <td>-5.64</td>\n",
       "      <td>-4.86</td>\n",
       "      <td>0.53</td>\n",
       "      <td>5</td>\n",
       "    </tr>\n",
       "    <tr>\n",
       "      <th>5</th>\n",
       "      <td>8.66</td>\n",
       "      <td>2.56</td>\n",
       "      <td>0.01</td>\n",
       "      <td>0.00</td>\n",
       "      <td>1</td>\n",
       "      <td>0.50</td>\n",
       "      <td>1000</td>\n",
       "      <td>7</td>\n",
       "      <td>0.01</td>\n",
       "      <td>10</td>\n",
       "      <td>...</td>\n",
       "      <td>NaN</td>\n",
       "      <td>{'algoritmo__reg_lambda': 1, 'algoritmo__reg_a...</td>\n",
       "      <td>-4.70</td>\n",
       "      <td>-4.25</td>\n",
       "      <td>-5.04</td>\n",
       "      <td>-4.85</td>\n",
       "      <td>-5.66</td>\n",
       "      <td>-4.90</td>\n",
       "      <td>0.46</td>\n",
       "      <td>6</td>\n",
       "    </tr>\n",
       "    <tr>\n",
       "      <th>6</th>\n",
       "      <td>3.98</td>\n",
       "      <td>0.10</td>\n",
       "      <td>0.01</td>\n",
       "      <td>0.00</td>\n",
       "      <td>0.10</td>\n",
       "      <td>1</td>\n",
       "      <td>500</td>\n",
       "      <td>5</td>\n",
       "      <td>0.01</td>\n",
       "      <td>0.70</td>\n",
       "      <td>...</td>\n",
       "      <td>NaN</td>\n",
       "      <td>{'algoritmo__reg_lambda': 0.1, 'algoritmo__reg...</td>\n",
       "      <td>-4.99</td>\n",
       "      <td>-4.22</td>\n",
       "      <td>-4.97</td>\n",
       "      <td>-4.86</td>\n",
       "      <td>-5.49</td>\n",
       "      <td>-4.91</td>\n",
       "      <td>0.41</td>\n",
       "      <td>7</td>\n",
       "    </tr>\n",
       "    <tr>\n",
       "      <th>7</th>\n",
       "      <td>0.69</td>\n",
       "      <td>0.02</td>\n",
       "      <td>0.01</td>\n",
       "      <td>0.00</td>\n",
       "      <td>0.10</td>\n",
       "      <td>1</td>\n",
       "      <td>100</td>\n",
       "      <td>5</td>\n",
       "      <td>0.10</td>\n",
       "      <td>10</td>\n",
       "      <td>...</td>\n",
       "      <td>NaN</td>\n",
       "      <td>{'algoritmo__reg_lambda': 0.1, 'algoritmo__reg...</td>\n",
       "      <td>-5.01</td>\n",
       "      <td>-4.14</td>\n",
       "      <td>-5.13</td>\n",
       "      <td>-4.89</td>\n",
       "      <td>-5.44</td>\n",
       "      <td>-4.92</td>\n",
       "      <td>0.43</td>\n",
       "      <td>8</td>\n",
       "    </tr>\n",
       "    <tr>\n",
       "      <th>8</th>\n",
       "      <td>11.53</td>\n",
       "      <td>4.75</td>\n",
       "      <td>0.01</td>\n",
       "      <td>0.00</td>\n",
       "      <td>0.01</td>\n",
       "      <td>0.50</td>\n",
       "      <td>500</td>\n",
       "      <td>5</td>\n",
       "      <td>0.01</td>\n",
       "      <td>1</td>\n",
       "      <td>...</td>\n",
       "      <td>NaN</td>\n",
       "      <td>{'algoritmo__reg_lambda': 0.01, 'algoritmo__re...</td>\n",
       "      <td>-4.86</td>\n",
       "      <td>-4.32</td>\n",
       "      <td>-5.09</td>\n",
       "      <td>-4.96</td>\n",
       "      <td>-5.48</td>\n",
       "      <td>-4.94</td>\n",
       "      <td>0.38</td>\n",
       "      <td>9</td>\n",
       "    </tr>\n",
       "    <tr>\n",
       "      <th>9</th>\n",
       "      <td>5.88</td>\n",
       "      <td>1.77</td>\n",
       "      <td>0.01</td>\n",
       "      <td>0.00</td>\n",
       "      <td>0.10</td>\n",
       "      <td>0.10</td>\n",
       "      <td>500</td>\n",
       "      <td>5</td>\n",
       "      <td>0.01</td>\n",
       "      <td>1</td>\n",
       "      <td>...</td>\n",
       "      <td>NaN</td>\n",
       "      <td>{'algoritmo__reg_lambda': 0.1, 'algoritmo__reg...</td>\n",
       "      <td>-4.87</td>\n",
       "      <td>-4.31</td>\n",
       "      <td>-5.15</td>\n",
       "      <td>-4.89</td>\n",
       "      <td>-5.52</td>\n",
       "      <td>-4.95</td>\n",
       "      <td>0.40</td>\n",
       "      <td>10</td>\n",
       "    </tr>\n",
       "  </tbody>\n",
       "</table>\n",
       "<p>10 rows × 22 columns</p>\n",
       "</div>"
      ],
      "text/plain": [
       "   mean_fit_time  std_fit_time  mean_score_time  std_score_time  \\\n",
       "0           1.91          0.29             0.05            0.01   \n",
       "1           6.90          0.93             0.01            0.01   \n",
       "2           1.73          0.02             0.01            0.00   \n",
       "3           3.91          0.12             0.01            0.00   \n",
       "4           3.17          0.66             0.01            0.00   \n",
       "5           8.66          2.56             0.01            0.00   \n",
       "6           3.98          0.10             0.01            0.00   \n",
       "7           0.69          0.02             0.01            0.00   \n",
       "8          11.53          4.75             0.01            0.00   \n",
       "9           5.88          1.77             0.01            0.00   \n",
       "\n",
       "  param_algoritmo__reg_lambda param_algoritmo__reg_alpha  \\\n",
       "0                         NaN                        NaN   \n",
       "1                           1                       0.10   \n",
       "2                           1                          1   \n",
       "3                           1                          1   \n",
       "4                        0.10                          0   \n",
       "5                           1                       0.50   \n",
       "6                        0.10                          1   \n",
       "7                        0.10                          1   \n",
       "8                        0.01                       0.50   \n",
       "9                        0.10                       0.10   \n",
       "\n",
       "  param_algoritmo__n_estimators param_algoritmo__max_depth  \\\n",
       "0                           NaN                          5   \n",
       "1                           500                          3   \n",
       "2                           500                          3   \n",
       "3                          1000                          3   \n",
       "4                           500                          3   \n",
       "5                          1000                          7   \n",
       "6                           500                          5   \n",
       "7                           100                          5   \n",
       "8                           500                          5   \n",
       "9                           500                          5   \n",
       "\n",
       "  param_algoritmo__learning_rate param_algoritmo__gamma  ...  \\\n",
       "0                           0.10                    NaN  ...   \n",
       "1                           0.01                   0.30  ...   \n",
       "2                           0.01                      1  ...   \n",
       "3                           0.01                   0.10  ...   \n",
       "4                           0.01                      1  ...   \n",
       "5                           0.01                     10  ...   \n",
       "6                           0.01                   0.70  ...   \n",
       "7                           0.10                     10  ...   \n",
       "8                           0.01                      1  ...   \n",
       "9                           0.01                      1  ...   \n",
       "\n",
       "  param_algoritmo__l2_regularization  \\\n",
       "0                               0.75   \n",
       "1                                NaN   \n",
       "2                                NaN   \n",
       "3                                NaN   \n",
       "4                                NaN   \n",
       "5                                NaN   \n",
       "6                                NaN   \n",
       "7                                NaN   \n",
       "8                                NaN   \n",
       "9                                NaN   \n",
       "\n",
       "                                              params split0_test_score  \\\n",
       "0  {'algoritmo__max_iter': 100, 'algoritmo__max_d...             -4.36   \n",
       "1  {'algoritmo__reg_lambda': 1, 'algoritmo__reg_a...             -4.60   \n",
       "2  {'algoritmo__reg_lambda': 1, 'algoritmo__reg_a...             -4.60   \n",
       "3  {'algoritmo__reg_lambda': 1, 'algoritmo__reg_a...             -4.65   \n",
       "4  {'algoritmo__reg_lambda': 0.1, 'algoritmo__reg...             -4.55   \n",
       "5  {'algoritmo__reg_lambda': 1, 'algoritmo__reg_a...             -4.70   \n",
       "6  {'algoritmo__reg_lambda': 0.1, 'algoritmo__reg...             -4.99   \n",
       "7  {'algoritmo__reg_lambda': 0.1, 'algoritmo__reg...             -5.01   \n",
       "8  {'algoritmo__reg_lambda': 0.01, 'algoritmo__re...             -4.86   \n",
       "9  {'algoritmo__reg_lambda': 0.1, 'algoritmo__reg...             -4.87   \n",
       "\n",
       "  split1_test_score  split2_test_score  split3_test_score  split4_test_score  \\\n",
       "0             -4.27              -4.90              -4.39              -5.31   \n",
       "1             -4.04              -5.28              -4.60              -5.67   \n",
       "2             -4.15              -5.23              -4.60              -5.61   \n",
       "3             -4.03              -5.27              -4.59              -5.73   \n",
       "4             -4.16              -5.29              -4.67              -5.64   \n",
       "5             -4.25              -5.04              -4.85              -5.66   \n",
       "6             -4.22              -4.97              -4.86              -5.49   \n",
       "7             -4.14              -5.13              -4.89              -5.44   \n",
       "8             -4.32              -5.09              -4.96              -5.48   \n",
       "9             -4.31              -5.15              -4.89              -5.52   \n",
       "\n",
       "   mean_test_score  std_test_score  rank_test_score  \n",
       "0            -4.65            0.40                1  \n",
       "1            -4.84            0.57                2  \n",
       "2            -4.84            0.52                3  \n",
       "3            -4.86            0.59                4  \n",
       "4            -4.86            0.53                5  \n",
       "5            -4.90            0.46                6  \n",
       "6            -4.91            0.41                7  \n",
       "7            -4.92            0.43                8  \n",
       "8            -4.94            0.38                9  \n",
       "9            -4.95            0.40               10  \n",
       "\n",
       "[10 rows x 22 columns]"
      ]
     },
     "execution_count": 122,
     "metadata": {},
     "output_type": "execute_result"
    }
   ],
   "source": [
    "salida = pd.DataFrame(random_search.cv_results_).sort_values(by = 'rank_test_score').reset_index(drop=True).head(10)\n",
    "salida"
   ]
  },
  {
   "cell_type": "code",
   "execution_count": 125,
   "id": "744d9b07",
   "metadata": {
    "hidden": true
   },
   "outputs": [
    {
     "data": {
      "text/plain": [
       "4.671473487925803"
      ]
     },
     "execution_count": 125,
     "metadata": {},
     "output_type": "execute_result"
    }
   ],
   "source": [
    "m3d=random_search.best_estimator_\n",
    "pred = m3d.predict(val_x)\n",
    "mean_squared_error(val_y, pred)"
   ]
  },
  {
   "cell_type": "code",
   "execution_count": 128,
   "id": "d19b2b25",
   "metadata": {
    "hidden": true
   },
   "outputs": [
    {
     "data": {
      "text/plain": [
       "Pipeline(steps=[('algoritmo',\n",
       "                 HistGradientBoostingRegressor(l2_regularization=0.75,\n",
       "                                               max_depth=5,\n",
       "                                               min_samples_leaf=100))])"
      ]
     },
     "execution_count": 128,
     "metadata": {},
     "output_type": "execute_result"
    }
   ],
   "source": [
    "m3d"
   ]
  },
  {
   "cell_type": "code",
   "execution_count": 126,
   "id": "6514d7be",
   "metadata": {
    "hidden": true
   },
   "outputs": [
    {
     "data": {
      "text/html": [
       "<div>\n",
       "<style scoped>\n",
       "    .dataframe tbody tr th:only-of-type {\n",
       "        vertical-align: middle;\n",
       "    }\n",
       "\n",
       "    .dataframe tbody tr th {\n",
       "        vertical-align: top;\n",
       "    }\n",
       "\n",
       "    .dataframe thead th {\n",
       "        text-align: right;\n",
       "    }\n",
       "</style>\n",
       "<table border=\"1\" class=\"dataframe\">\n",
       "  <thead>\n",
       "    <tr style=\"text-align: right;\">\n",
       "      <th></th>\n",
       "      <th>valor_real</th>\n",
       "      <th>predicciones</th>\n",
       "    </tr>\n",
       "  </thead>\n",
       "  <tbody>\n",
       "    <tr>\n",
       "      <th>valor_real</th>\n",
       "      <td>1.00</td>\n",
       "      <td>0.61</td>\n",
       "    </tr>\n",
       "    <tr>\n",
       "      <th>predicciones</th>\n",
       "      <td>0.61</td>\n",
       "      <td>1.00</td>\n",
       "    </tr>\n",
       "  </tbody>\n",
       "</table>\n",
       "</div>"
      ],
      "text/plain": [
       "              valor_real  predicciones\n",
       "valor_real          1.00          0.61\n",
       "predicciones        0.61          1.00"
      ]
     },
     "execution_count": 126,
     "metadata": {},
     "output_type": "execute_result"
    }
   ],
   "source": [
    "check_validacion = pd.DataFrame({'valor_real':val_y, 'predicciones':pred})\n",
    "check_validacion = check_validacion.transform(np.sqrt)\n",
    "check_validacion\n",
    "check_validacion.corr()"
   ]
  },
  {
   "cell_type": "code",
   "execution_count": 127,
   "id": "094cb61f",
   "metadata": {
    "hidden": true
   },
   "outputs": [
    {
     "data": {
      "image/png": "[encoded data removed]",
      "text/plain": [
       "<Figure size 720x432 with 1 Axes>"
      ]
     },
     "metadata": {
      "needs_background": "light"
     },
     "output_type": "display_data"
    }
   ],
   "source": [
    "check_validacion.plot.density(figsize = (10,6));"
   ]
  },
  {
   "cell_type": "markdown",
   "id": "5a337806",
   "metadata": {
    "heading_collapsed": true
   },
   "source": [
    "# cv"
   ]
  },
  {
   "cell_type": "code",
   "execution_count": 46,
   "id": "e34278d3",
   "metadata": {
    "hidden": true
   },
   "outputs": [
    {
     "data": {
      "text/plain": [
       "Index(['budget', 'popularity', 'rd_year', 'runtime', 'crew_freq', 'rd_mes',\n",
       "       'cast_genero_1', 'cast_genero_2', 'rd_dia_semana', 'cast_genero_0',\n",
       "       'man', 'secret', 'family', 'time', 'police', 'woman', 'small', 'life',\n",
       "       'friend', 'war', 'years', 'friends', 'lives', 'love', 'mother', 'day',\n",
       "       'aos', 'team', 'boy', 'school', 'finds', 'Keywords_freq',\n",
       "       'Keywords_independent film', 'Keywords_murder',\n",
       "       'production_companies_Paramount Pictures',\n",
       "       'production_countries_United States of America'],\n",
       "      dtype='object')"
      ]
     },
     "execution_count": 46,
     "metadata": {},
     "output_type": "execute_result"
    }
   ],
   "source": [
    "df.columns"
   ]
  },
  {
   "cell_type": "code",
   "execution_count": 47,
   "id": "6d08a349",
   "metadata": {
    "hidden": true
   },
   "outputs": [
    {
     "data": {
      "text/plain": [
       "(2100, 36)"
      ]
     },
     "execution_count": 47,
     "metadata": {},
     "output_type": "execute_result"
    }
   ],
   "source": [
    "df.shape"
   ]
  },
  {
   "cell_type": "markdown",
   "id": "f050705d",
   "metadata": {
    "heading_collapsed": true,
    "hidden": true
   },
   "source": [
    "### base"
   ]
  },
  {
   "cell_type": "code",
   "execution_count": 50,
   "id": "7b06dc08",
   "metadata": {
    "hidden": true
   },
   "outputs": [],
   "source": [
    "m = XGBRegressor(base_score=0.5, booster='gbtree',\n",
    "                              colsample_bylevel=1, colsample_bynode=1,\n",
    "                              colsample_bytree=1, enable_categorical=False,\n",
    "                              gamma=0.5, gpu_id=-1, importance_type=None,\n",
    "                              interaction_constraints='', learning_rate=0.01,\n",
    "                              max_delta_step=0, max_depth=3, min_child_weight=1,\n",
    "                               monotone_constraints='()',\n",
    "                              n_estimators=500, n_jobs=8, num_parallel_tree=1,\n",
    "                              predictor='auto', random_state=0, reg_alpha=0,\n",
    "                              reg_lambda=0.01, scale_pos_weight=1, subsample=1,\n",
    "                              tree_method='exact', validate_parameters=1,\n",
    "                              verbosity=None)"
   ]
  },
  {
   "cell_type": "code",
   "execution_count": 56,
   "id": "9ec86ea8",
   "metadata": {
    "hidden": true
   },
   "outputs": [
    {
     "name": "stdout",
     "output_type": "stream",
     "text": [
      "Métricas:  [-4.89082784 -4.84720773 -4.82121113 -5.36787553 -3.84399618]\n",
      "Media métricas:  -4.754223683334557\n",
      "Media std:  0.49736842606995196\n"
     ]
    }
   ],
   "source": [
    "from sklearn.model_selection import cross_val_score\n",
    "from sklearn.model_selection import KFold\n",
    "\n",
    "kf = KFold(n_splits = 5)\n",
    "\n",
    "metricas_cv = cross_val_score(estimator = m,\n",
    "                              X = df,\n",
    "                              y = y,\n",
    "                              cv = kf,\n",
    "                              scoring = 'neg_mean_squared_error')\n",
    "\n",
    "print('Métricas: ', metricas_cv)\n",
    "print('Media métricas: ', metricas_cv.mean())\n",
    "print('Media std: ', metricas_cv.std())"
   ]
  },
  {
   "cell_type": "markdown",
   "id": "934d35b3",
   "metadata": {
    "heading_collapsed": true,
    "hidden": true
   },
   "source": [
    "### intento 1"
   ]
  },
  {
   "cell_type": "code",
   "execution_count": 59,
   "id": "aab24a9a",
   "metadata": {
    "hidden": true
   },
   "outputs": [],
   "source": [
    "m = XGBRegressor(base_score=0.5, booster='gbtree',\n",
    "                              colsample_bylevel=1, colsample_bynode=1,\n",
    "                              colsample_bytree=1, enable_categorical=False,\n",
    "                              gamma=0.5, gpu_id=-1, importance_type=None,\n",
    "                              interaction_constraints='', learning_rate=0.01,\n",
    "                              max_delta_step=0, max_depth=3, min_child_weight=1,\n",
    "                               monotone_constraints='()',\n",
    "                              n_estimators=500, n_jobs=8, num_parallel_tree=1,\n",
    "                              predictor='auto', random_state=0, reg_alpha=0,\n",
    "                              reg_lambda=0.01, scale_pos_weight=1, subsample=1,\n",
    "                              tree_method='exact', validate_parameters=1,\n",
    "                              verbosity=None)"
   ]
  },
  {
   "cell_type": "code",
   "execution_count": 60,
   "id": "d5e223e4",
   "metadata": {
    "hidden": true
   },
   "outputs": [],
   "source": [
    "X = pd.concat([df,is_from_collection],axis=1)\n",
    "# Con m2 + is collection"
   ]
  },
  {
   "cell_type": "code",
   "execution_count": 61,
   "id": "65076c30",
   "metadata": {
    "hidden": true
   },
   "outputs": [
    {
     "name": "stdout",
     "output_type": "stream",
     "text": [
      "Métricas:  [-4.94326993 -4.83684783 -4.76877656 -5.36189459 -3.77674851]\n",
      "Media métricas:  -4.737507483975033\n",
      "Media std:  0.5227047913905392\n"
     ]
    }
   ],
   "source": [
    "from sklearn.model_selection import cross_val_score\n",
    "from sklearn.model_selection import KFold\n",
    "\n",
    "kf = KFold(n_splits = 5)\n",
    "\n",
    "metricas_cv = cross_val_score(estimator = m,\n",
    "                              X = X,\n",
    "                              y = y,\n",
    "                              cv = kf,\n",
    "                              scoring = 'neg_mean_squared_error')\n",
    "\n",
    "print('Métricas: ', metricas_cv)\n",
    "print('Media métricas: ', metricas_cv.mean())\n",
    "print('Media std: ', metricas_cv.std())"
   ]
  },
  {
   "cell_type": "markdown",
   "id": "781acbb3",
   "metadata": {
    "heading_collapsed": true,
    "hidden": true
   },
   "source": [
    "### Intento2\n",
    "- variables2\n",
    "      Media métricas:  -4.673693683379158\n",
    "      Media std:  0.41591096449704873"
   ]
  },
  {
   "cell_type": "code",
   "execution_count": 77,
   "id": "cd5a33e7",
   "metadata": {
    "hidden": true
   },
   "outputs": [],
   "source": [
    "variables = ['budget',\n",
    " 'popularity',\n",
    " 'rd_year',\n",
    " 'runtime',\n",
    " 'crew_freq',\n",
    " 'cast_genero_1',\n",
    " 'cast_genero_2',\n",
    " 'rd_dia_semana',\n",
    " 'rd_mes',\n",
    " 'Keywords_freq',\n",
    " 'cast_genero_0',\n",
    " 'man',\n",
    " 'belongs_to_collection',\n",
    " 'woman',\n",
    " 'life',\n",
    " 'time',\n",
    " 'years',\n",
    " 'family',\n",
    " 'production_countries_United States of America',\n",
    " 'genres_Adventure',\n",
    " 'aos',\n",
    " 'police',\n",
    " 'small',\n",
    " 'friends',\n",
    " 'friend',\n",
    " 'lives',\n",
    " 'team',\n",
    " 'genres_Comedy',\n",
    " 'war',\n",
    " 'Keywords_murder',\n",
    " 'genres_Horror',\n",
    " 'Keywords_independent film',\n",
    " 'mother',\n",
    " 'secret',\n",
    " 'day',\n",
    " 'love',\n",
    " 'genres_Drama',\n",
    " 'school',\n",
    " 'boy',\n",
    " 'genres_Action']"
   ]
  },
  {
   "cell_type": "code",
   "execution_count": 78,
   "id": "853abf6e",
   "metadata": {
    "hidden": true
   },
   "outputs": [
    {
     "name": "stdout",
     "output_type": "stream",
     "text": [
      "Métricas:  [-4.94345428 -4.85103486 -4.71567527 -5.25435612 -3.81475092]\n",
      "Media métricas:  -4.715854289737342\n",
      "Media std:  0.48415846173894894\n"
     ]
    }
   ],
   "source": [
    "from sklearn.model_selection import cross_val_score\n",
    "from sklearn.model_selection import KFold\n",
    "\n",
    "\n",
    "m = XGBRegressor(base_score=0.5, booster='gbtree',\n",
    "                              colsample_bylevel=1, colsample_bynode=1,\n",
    "                              colsample_bytree=1, enable_categorical=False,\n",
    "                              gamma=0.5, gpu_id=-1, importance_type=None,\n",
    "                              interaction_constraints='', learning_rate=0.01,\n",
    "                              max_delta_step=0, max_depth=3, min_child_weight=1,\n",
    "                               monotone_constraints='()',\n",
    "                              n_estimators=500, n_jobs=8, num_parallel_tree=1,\n",
    "                              predictor='auto', random_state=0, reg_alpha=0,\n",
    "                              reg_lambda=0.01, scale_pos_weight=1, subsample=1,\n",
    "                              tree_method='exact', validate_parameters=1,\n",
    "                              verbosity=None)\n",
    "\n",
    "kf = KFold(n_splits = 5)\n",
    "\n",
    "metricas_cv = cross_val_score(estimator = m,\n",
    "                              X = df_unido[variables],\n",
    "                              y = y,\n",
    "                              cv = kf,\n",
    "                              scoring = 'neg_mean_squared_error')\n",
    "\n",
    "print('Métricas: ', metricas_cv)\n",
    "print('Media métricas: ', metricas_cv.mean())\n",
    "print('Media std: ', metricas_cv.std())"
   ]
  },
  {
   "cell_type": "code",
   "execution_count": 108,
   "id": "2cb8954c",
   "metadata": {
    "hidden": true
   },
   "outputs": [
    {
     "data": {
      "text/plain": [
       "30"
      ]
     },
     "execution_count": 108,
     "metadata": {},
     "output_type": "execute_result"
    }
   ],
   "source": [
    "variables2 =['rd_mes', 'lives', 'genres_Comedy',\n",
    "       'production_countries_United States of America', 'crew_freq',\n",
    "       'Keywords_freq', 'time', 'rd_dia_semana', 'genres_Adventure', 'team',\n",
    "       'genres_Action', 'cast_genero_1', 'cast_genero_2', 'friends', 'boy',\n",
    "       'small', 'belongs_to_collection', 'secret', 'years', 'police', 'man',\n",
    "       'runtime', 'genres_Drama', 'woman', 'life', 'war', 'friend', 'rd_year',\n",
    "       'popularity', 'budget']\n",
    "len(variables2)"
   ]
  },
  {
   "cell_type": "code",
   "execution_count": 100,
   "id": "339917ed",
   "metadata": {
    "hidden": true
   },
   "outputs": [
    {
     "data": {
      "text/plain": [
       "['Keywords_freq',\n",
       " 'belongs_to_collection',\n",
       " 'boy',\n",
       " 'budget',\n",
       " 'cast_genero_1',\n",
       " 'cast_genero_2',\n",
       " 'crew_freq',\n",
       " 'friend',\n",
       " 'friends',\n",
       " 'genres_Action',\n",
       " 'genres_Adventure',\n",
       " 'genres_Comedy',\n",
       " 'genres_Drama',\n",
       " 'life',\n",
       " 'lives',\n",
       " 'man',\n",
       " 'police',\n",
       " 'popularity',\n",
       " 'production_countries_United States of America',\n",
       " 'rd_dia_semana',\n",
       " 'rd_mes',\n",
       " 'rd_year',\n",
       " 'runtime',\n",
       " 'secret',\n",
       " 'small',\n",
       " 'team',\n",
       " 'time',\n",
       " 'war',\n",
       " 'woman',\n",
       " 'years']"
      ]
     },
     "execution_count": 100,
     "metadata": {},
     "output_type": "execute_result"
    }
   ],
   "source": [
    "sorted(variables2)"
   ]
  },
  {
   "cell_type": "code",
   "execution_count": 110,
   "id": "2e8e9709",
   "metadata": {
    "hidden": true
   },
   "outputs": [
    {
     "name": "stdout",
     "output_type": "stream",
     "text": [
      "Métricas:  [-4.93233073 -4.84787405 -4.54505689 -5.11526464 -3.92794212]\n",
      "Media métricas:  -4.673693683379158\n",
      "Media std:  0.41591096449704873\n"
     ]
    }
   ],
   "source": [
    "from sklearn.model_selection import cross_val_score\n",
    "from sklearn.model_selection import KFold\n",
    "\n",
    "\n",
    "m = XGBRegressor(base_score=0.5, booster='gbtree',\n",
    "                              colsample_bylevel=1, colsample_bynode=1,\n",
    "                              colsample_bytree=1, enable_categorical=False,\n",
    "                              gamma=0.5, gpu_id=-1, importance_type=None,\n",
    "                              interaction_constraints='', learning_rate=0.01,\n",
    "                              max_delta_step=0, max_depth=3, min_child_weight=1,\n",
    "                               monotone_constraints='()',\n",
    "                              n_estimators=500, n_jobs=8, num_parallel_tree=1,\n",
    "                              predictor='auto', random_state=0, reg_alpha=0,\n",
    "                              reg_lambda=0.01, scale_pos_weight=1, subsample=1,\n",
    "                              tree_method='exact', validate_parameters=1,\n",
    "                              verbosity=None)\n",
    "\n",
    "kf = KFold(n_splits = 5)\n",
    "\n",
    "metricas_cv = cross_val_score(estimator = m,\n",
    "                              X = df_unido[variables2],\n",
    "                              y = y,\n",
    "                              cv = kf,\n",
    "                              scoring = 'neg_mean_squared_error')\n",
    "\n",
    "print('Métricas: ', metricas_cv)\n",
    "print('Media métricas: ', metricas_cv.mean())\n",
    "print('Media std: ', metricas_cv.std())"
   ]
  },
  {
   "cell_type": "code",
   "execution_count": 94,
   "id": "2273df7a",
   "metadata": {
    "hidden": true
   },
   "outputs": [
    {
     "data": {
      "text/plain": [
       "array([0.18883625, 0.05699396, 0.03756656, 0.02755892, 0.016393  ,\n",
       "       0.02262362, 0.02352181, 0.01871698, 0.01538438, 0.01802166,\n",
       "       0.01011539, 0.02623378, 0.0242434 , 0.02923196, 0.0305531 ,\n",
       "       0.01843665, 0.02519375, 0.        , 0.01585765, 0.01911147,\n",
       "       0.01277537, 0.02554375, 0.02413915, 0.02377913, 0.03669424,\n",
       "       0.01568243, 0.01952476, 0.01582285, 0.03653751, 0.00789501,\n",
       "       0.00840201, 0.01126933, 0.01056335, 0.02479491, 0.00878497,\n",
       "       0.00602359, 0.02827466, 0.01282645, 0.02411308, 0.0219592 ],\n",
       "      dtype=float32)"
      ]
     },
     "execution_count": 94,
     "metadata": {},
     "output_type": "execute_result"
    }
   ],
   "source": [
    "m.fit(df_unido[variables],y)\n",
    "m.feature_importances_"
   ]
  },
  {
   "cell_type": "code",
   "execution_count": 107,
   "id": "e005744b",
   "metadata": {
    "hidden": true
   },
   "outputs": [
    {
     "data": {
      "text/plain": [
       "Index(['rd_mes', 'lives', 'genres_Comedy',\n",
       "       'production_countries_United States of America', 'crew_freq',\n",
       "       'Keywords_freq', 'time', 'rd_dia_semana', 'genres_Adventure', 'team',\n",
       "       'genres_Action', 'cast_genero_1', 'cast_genero_2', 'friends', 'boy',\n",
       "       'small', 'belongs_to_collection', 'secret', 'years', 'police', 'man',\n",
       "       'runtime', 'genres_Drama', 'woman', 'life', 'war', 'friend', 'rd_year',\n",
       "       'popularity', 'budget'],\n",
       "      dtype='object')"
      ]
     },
     "execution_count": 107,
     "metadata": {},
     "output_type": "execute_result"
    }
   ],
   "source": [
    "salida =pd.DataFrame({'importancia':m.feature_importances_},index=variables).sort_values(by='importancia')\n",
    "salida.query('importancia >0.015').index"
   ]
  },
  {
   "cell_type": "markdown",
   "id": "75ce5e2f",
   "metadata": {
    "heading_collapsed": true,
    "hidden": true
   },
   "source": [
    "### Intento 3\n",
    "igual que **Intento2** pero vamos a ver si funciona replace budget 0\n",
    "\n",
    "- Media métricas:  -4.640533855854452\n",
    "- Media std:  0.455684198580938"
   ]
  },
  {
   "cell_type": "code",
   "execution_count": 39,
   "id": "6c244947",
   "metadata": {
    "hidden": true
   },
   "outputs": [
    {
     "data": {
      "text/plain": [
       "(2100, 48)"
      ]
     },
     "execution_count": 39,
     "metadata": {},
     "output_type": "execute_result"
    }
   ],
   "source": [
    "df_unido.shape"
   ]
  },
  {
   "cell_type": "code",
   "execution_count": 58,
   "id": "e2dc45ed",
   "metadata": {
    "hidden": true
   },
   "outputs": [
    {
     "name": "stdout",
     "output_type": "stream",
     "text": [
      "-0.12307692307692308\n",
      "0.2183840054725241\n"
     ]
    },
    {
     "data": {
      "text/html": [
       "<div>\n",
       "<style scoped>\n",
       "    .dataframe tbody tr th:only-of-type {\n",
       "        vertical-align: middle;\n",
       "    }\n",
       "\n",
       "    .dataframe tbody tr th {\n",
       "        vertical-align: top;\n",
       "    }\n",
       "\n",
       "    .dataframe thead th {\n",
       "        text-align: right;\n",
       "    }\n",
       "</style>\n",
       "<table border=\"1\" class=\"dataframe\">\n",
       "  <thead>\n",
       "    <tr style=\"text-align: right;\">\n",
       "      <th></th>\n",
       "      <th>budget</th>\n",
       "      <th>popularity</th>\n",
       "      <th>rd_year</th>\n",
       "      <th>runtime</th>\n",
       "      <th>crew_freq</th>\n",
       "      <th>rd_mes</th>\n",
       "      <th>cast_genero_1</th>\n",
       "      <th>cast_genero_2</th>\n",
       "      <th>rd_dia_semana</th>\n",
       "      <th>cast_genero_0</th>\n",
       "      <th>...</th>\n",
       "      <th>genres_Comedy</th>\n",
       "      <th>genres_Thriller</th>\n",
       "      <th>genres_Action</th>\n",
       "      <th>genres_Romance</th>\n",
       "      <th>genres_Crime</th>\n",
       "      <th>genres_Adventure</th>\n",
       "      <th>genres_Horror</th>\n",
       "      <th>genres_Science Fiction</th>\n",
       "      <th>genres_Family</th>\n",
       "      <th>numero_estrellas</th>\n",
       "    </tr>\n",
       "  </thead>\n",
       "  <tbody>\n",
       "    <tr>\n",
       "      <th>5</th>\n",
       "      <td>0.22</td>\n",
       "      <td>-0.42</td>\n",
       "      <td>0.00</td>\n",
       "      <td>-0.43</td>\n",
       "      <td>-0.22</td>\n",
       "      <td>-0.67</td>\n",
       "      <td>-0.38</td>\n",
       "      <td>-0.47</td>\n",
       "      <td>-0.33</td>\n",
       "      <td>-0.06</td>\n",
       "      <td>...</td>\n",
       "      <td>0</td>\n",
       "      <td>0</td>\n",
       "      <td>0</td>\n",
       "      <td>0</td>\n",
       "      <td>0</td>\n",
       "      <td>0</td>\n",
       "      <td>0</td>\n",
       "      <td>0</td>\n",
       "      <td>0</td>\n",
       "      <td>0</td>\n",
       "    </tr>\n",
       "    <tr>\n",
       "      <th>13</th>\n",
       "      <td>0.22</td>\n",
       "      <td>-0.25</td>\n",
       "      <td>0.28</td>\n",
       "      <td>0.15</td>\n",
       "      <td>0.29</td>\n",
       "      <td>0.56</td>\n",
       "      <td>0.38</td>\n",
       "      <td>-0.07</td>\n",
       "      <td>-0.67</td>\n",
       "      <td>0.12</td>\n",
       "      <td>...</td>\n",
       "      <td>0</td>\n",
       "      <td>0</td>\n",
       "      <td>0</td>\n",
       "      <td>1</td>\n",
       "      <td>0</td>\n",
       "      <td>0</td>\n",
       "      <td>0</td>\n",
       "      <td>0</td>\n",
       "      <td>0</td>\n",
       "      <td>0</td>\n",
       "    </tr>\n",
       "    <tr>\n",
       "      <th>17</th>\n",
       "      <td>0.22</td>\n",
       "      <td>0.04</td>\n",
       "      <td>0.25</td>\n",
       "      <td>0.26</td>\n",
       "      <td>0.09</td>\n",
       "      <td>0.00</td>\n",
       "      <td>0.25</td>\n",
       "      <td>0.33</td>\n",
       "      <td>0.33</td>\n",
       "      <td>0.50</td>\n",
       "      <td>...</td>\n",
       "      <td>0</td>\n",
       "      <td>1</td>\n",
       "      <td>0</td>\n",
       "      <td>0</td>\n",
       "      <td>0</td>\n",
       "      <td>0</td>\n",
       "      <td>1</td>\n",
       "      <td>0</td>\n",
       "      <td>0</td>\n",
       "      <td>0</td>\n",
       "    </tr>\n",
       "    <tr>\n",
       "      <th>18</th>\n",
       "      <td>0.22</td>\n",
       "      <td>-0.47</td>\n",
       "      <td>0.22</td>\n",
       "      <td>-0.26</td>\n",
       "      <td>-0.07</td>\n",
       "      <td>0.22</td>\n",
       "      <td>0.25</td>\n",
       "      <td>0.20</td>\n",
       "      <td>0.00</td>\n",
       "      <td>-0.06</td>\n",
       "      <td>...</td>\n",
       "      <td>0</td>\n",
       "      <td>1</td>\n",
       "      <td>0</td>\n",
       "      <td>0</td>\n",
       "      <td>0</td>\n",
       "      <td>0</td>\n",
       "      <td>0</td>\n",
       "      <td>0</td>\n",
       "      <td>0</td>\n",
       "      <td>0</td>\n",
       "    </tr>\n",
       "    <tr>\n",
       "      <th>19</th>\n",
       "      <td>0.22</td>\n",
       "      <td>0.01</td>\n",
       "      <td>0.06</td>\n",
       "      <td>-0.36</td>\n",
       "      <td>-0.07</td>\n",
       "      <td>0.22</td>\n",
       "      <td>0.25</td>\n",
       "      <td>-0.13</td>\n",
       "      <td>0.33</td>\n",
       "      <td>-0.12</td>\n",
       "      <td>...</td>\n",
       "      <td>1</td>\n",
       "      <td>0</td>\n",
       "      <td>0</td>\n",
       "      <td>0</td>\n",
       "      <td>0</td>\n",
       "      <td>0</td>\n",
       "      <td>1</td>\n",
       "      <td>0</td>\n",
       "      <td>0</td>\n",
       "      <td>0</td>\n",
       "    </tr>\n",
       "    <tr>\n",
       "      <th>...</th>\n",
       "      <td>...</td>\n",
       "      <td>...</td>\n",
       "      <td>...</td>\n",
       "      <td>...</td>\n",
       "      <td>...</td>\n",
       "      <td>...</td>\n",
       "      <td>...</td>\n",
       "      <td>...</td>\n",
       "      <td>...</td>\n",
       "      <td>...</td>\n",
       "      <td>...</td>\n",
       "      <td>...</td>\n",
       "      <td>...</td>\n",
       "      <td>...</td>\n",
       "      <td>...</td>\n",
       "      <td>...</td>\n",
       "      <td>...</td>\n",
       "      <td>...</td>\n",
       "      <td>...</td>\n",
       "      <td>...</td>\n",
       "      <td>...</td>\n",
       "    </tr>\n",
       "    <tr>\n",
       "      <th>2086</th>\n",
       "      <td>0.22</td>\n",
       "      <td>0.72</td>\n",
       "      <td>-0.19</td>\n",
       "      <td>0.32</td>\n",
       "      <td>0.05</td>\n",
       "      <td>0.33</td>\n",
       "      <td>0.00</td>\n",
       "      <td>-0.13</td>\n",
       "      <td>0.00</td>\n",
       "      <td>0.12</td>\n",
       "      <td>...</td>\n",
       "      <td>0</td>\n",
       "      <td>0</td>\n",
       "      <td>0</td>\n",
       "      <td>0</td>\n",
       "      <td>0</td>\n",
       "      <td>0</td>\n",
       "      <td>0</td>\n",
       "      <td>0</td>\n",
       "      <td>0</td>\n",
       "      <td>0</td>\n",
       "    </tr>\n",
       "    <tr>\n",
       "      <th>2088</th>\n",
       "      <td>0.22</td>\n",
       "      <td>-0.33</td>\n",
       "      <td>0.38</td>\n",
       "      <td>-0.15</td>\n",
       "      <td>0.17</td>\n",
       "      <td>0.22</td>\n",
       "      <td>0.62</td>\n",
       "      <td>0.13</td>\n",
       "      <td>0.00</td>\n",
       "      <td>1.12</td>\n",
       "      <td>...</td>\n",
       "      <td>0</td>\n",
       "      <td>0</td>\n",
       "      <td>0</td>\n",
       "      <td>0</td>\n",
       "      <td>0</td>\n",
       "      <td>0</td>\n",
       "      <td>0</td>\n",
       "      <td>0</td>\n",
       "      <td>0</td>\n",
       "      <td>0</td>\n",
       "    </tr>\n",
       "    <tr>\n",
       "      <th>2094</th>\n",
       "      <td>0.22</td>\n",
       "      <td>-0.45</td>\n",
       "      <td>-0.22</td>\n",
       "      <td>-0.30</td>\n",
       "      <td>0.10</td>\n",
       "      <td>-0.44</td>\n",
       "      <td>0.25</td>\n",
       "      <td>0.33</td>\n",
       "      <td>0.00</td>\n",
       "      <td>0.50</td>\n",
       "      <td>...</td>\n",
       "      <td>1</td>\n",
       "      <td>0</td>\n",
       "      <td>1</td>\n",
       "      <td>0</td>\n",
       "      <td>0</td>\n",
       "      <td>0</td>\n",
       "      <td>0</td>\n",
       "      <td>0</td>\n",
       "      <td>0</td>\n",
       "      <td>0</td>\n",
       "    </tr>\n",
       "    <tr>\n",
       "      <th>2096</th>\n",
       "      <td>0.22</td>\n",
       "      <td>0.01</td>\n",
       "      <td>-0.38</td>\n",
       "      <td>0.04</td>\n",
       "      <td>0.05</td>\n",
       "      <td>0.22</td>\n",
       "      <td>-0.25</td>\n",
       "      <td>-0.13</td>\n",
       "      <td>0.00</td>\n",
       "      <td>-0.25</td>\n",
       "      <td>...</td>\n",
       "      <td>0</td>\n",
       "      <td>0</td>\n",
       "      <td>0</td>\n",
       "      <td>0</td>\n",
       "      <td>0</td>\n",
       "      <td>0</td>\n",
       "      <td>0</td>\n",
       "      <td>0</td>\n",
       "      <td>0</td>\n",
       "      <td>2</td>\n",
       "    </tr>\n",
       "    <tr>\n",
       "      <th>2097</th>\n",
       "      <td>0.22</td>\n",
       "      <td>-0.28</td>\n",
       "      <td>0.28</td>\n",
       "      <td>-0.04</td>\n",
       "      <td>0.02</td>\n",
       "      <td>-0.44</td>\n",
       "      <td>-0.25</td>\n",
       "      <td>-0.47</td>\n",
       "      <td>-0.33</td>\n",
       "      <td>0.31</td>\n",
       "      <td>...</td>\n",
       "      <td>0</td>\n",
       "      <td>0</td>\n",
       "      <td>0</td>\n",
       "      <td>0</td>\n",
       "      <td>0</td>\n",
       "      <td>0</td>\n",
       "      <td>0</td>\n",
       "      <td>0</td>\n",
       "      <td>0</td>\n",
       "      <td>0</td>\n",
       "    </tr>\n",
       "  </tbody>\n",
       "</table>\n",
       "<p>557 rows × 48 columns</p>\n",
       "</div>"
      ],
      "text/plain": [
       "      budget  popularity  rd_year  runtime  crew_freq  rd_mes  cast_genero_1  \\\n",
       "5       0.22       -0.42     0.00    -0.43      -0.22   -0.67          -0.38   \n",
       "13      0.22       -0.25     0.28     0.15       0.29    0.56           0.38   \n",
       "17      0.22        0.04     0.25     0.26       0.09    0.00           0.25   \n",
       "18      0.22       -0.47     0.22    -0.26      -0.07    0.22           0.25   \n",
       "19      0.22        0.01     0.06    -0.36      -0.07    0.22           0.25   \n",
       "...      ...         ...      ...      ...        ...     ...            ...   \n",
       "2086    0.22        0.72    -0.19     0.32       0.05    0.33           0.00   \n",
       "2088    0.22       -0.33     0.38    -0.15       0.17    0.22           0.62   \n",
       "2094    0.22       -0.45    -0.22    -0.30       0.10   -0.44           0.25   \n",
       "2096    0.22        0.01    -0.38     0.04       0.05    0.22          -0.25   \n",
       "2097    0.22       -0.28     0.28    -0.04       0.02   -0.44          -0.25   \n",
       "\n",
       "      cast_genero_2  rd_dia_semana  cast_genero_0  ...  genres_Comedy  \\\n",
       "5             -0.47          -0.33          -0.06  ...              0   \n",
       "13            -0.07          -0.67           0.12  ...              0   \n",
       "17             0.33           0.33           0.50  ...              0   \n",
       "18             0.20           0.00          -0.06  ...              0   \n",
       "19            -0.13           0.33          -0.12  ...              1   \n",
       "...             ...            ...            ...  ...            ...   \n",
       "2086          -0.13           0.00           0.12  ...              0   \n",
       "2088           0.13           0.00           1.12  ...              0   \n",
       "2094           0.33           0.00           0.50  ...              1   \n",
       "2096          -0.13           0.00          -0.25  ...              0   \n",
       "2097          -0.47          -0.33           0.31  ...              0   \n",
       "\n",
       "      genres_Thriller  genres_Action  genres_Romance  genres_Crime  \\\n",
       "5                   0              0               0             0   \n",
       "13                  0              0               1             0   \n",
       "17                  1              0               0             0   \n",
       "18                  1              0               0             0   \n",
       "19                  0              0               0             0   \n",
       "...               ...            ...             ...           ...   \n",
       "2086                0              0               0             0   \n",
       "2088                0              0               0             0   \n",
       "2094                0              1               0             0   \n",
       "2096                0              0               0             0   \n",
       "2097                0              0               0             0   \n",
       "\n",
       "      genres_Adventure  genres_Horror  genres_Science Fiction  genres_Family  \\\n",
       "5                    0              0                       0              0   \n",
       "13                   0              0                       0              0   \n",
       "17                   0              1                       0              0   \n",
       "18                   0              0                       0              0   \n",
       "19                   0              1                       0              0   \n",
       "...                ...            ...                     ...            ...   \n",
       "2086                 0              0                       0              0   \n",
       "2088                 0              0                       0              0   \n",
       "2094                 0              0                       0              0   \n",
       "2096                 0              0                       0              0   \n",
       "2097                 0              0                       0              0   \n",
       "\n",
       "      numero_estrellas  \n",
       "5                    0  \n",
       "13                   0  \n",
       "17                   0  \n",
       "18                   0  \n",
       "19                   0  \n",
       "...                ...  \n",
       "2086                 0  \n",
       "2088                 0  \n",
       "2094                 0  \n",
       "2096                 2  \n",
       "2097                 0  \n",
       "\n",
       "[557 rows x 48 columns]"
      ]
     },
     "execution_count": 58,
     "metadata": {},
     "output_type": "execute_result"
    }
   ],
   "source": [
    "df_prueba = df_unido.copy()\n",
    "valor_minimo = df_prueba.budget.min()\n",
    "valor_medio = df_prueba.budget.mean()\n",
    "print(valor_minimo)\n",
    "print(valor_medio)\n",
    "indices = df_prueba.query('budget==@valor_minimo').index\n",
    "df_prueba.loc[indices,'budget'] = valor_medio\n",
    "df_prueba.loc[indices]"
   ]
  },
  {
   "cell_type": "code",
   "execution_count": 61,
   "id": "63913790",
   "metadata": {
    "hidden": true
   },
   "outputs": [
    {
     "name": "stdout",
     "output_type": "stream",
     "text": [
      "Métricas:  [-5.15601797 -4.56000951 -4.22241641 -5.17574326 -4.08848213]\n",
      "Media métricas:  -4.640533855854452\n",
      "Media std:  0.455684198580938\n"
     ]
    }
   ],
   "source": [
    "from sklearn.model_selection import cross_val_score\n",
    "from sklearn.model_selection import KFold\n",
    "\n",
    "\n",
    "m = XGBRegressor(base_score=0.5, booster='gbtree',\n",
    "                              colsample_bylevel=1, colsample_bynode=1,\n",
    "                              colsample_bytree=1, enable_categorical=False,\n",
    "                              gamma=0.5, gpu_id=-1, importance_type=None,\n",
    "                              interaction_constraints='', learning_rate=0.01,\n",
    "                              max_delta_step=0, max_depth=3, min_child_weight=1,\n",
    "                               monotone_constraints='()',\n",
    "                              n_estimators=500, n_jobs=8, num_parallel_tree=1,\n",
    "                              predictor='auto', random_state=0, reg_alpha=0,\n",
    "                              reg_lambda=0.01, scale_pos_weight=1, subsample=1,\n",
    "                              tree_method='exact', validate_parameters=1,\n",
    "                              verbosity=None)\n",
    "\n",
    "kf = KFold(n_splits = 5)\n",
    "\n",
    "metricas_cv = cross_val_score(estimator = m,\n",
    "                              X = df_prueba[variables2],\n",
    "                              y = y,\n",
    "                              cv = kf,\n",
    "                              scoring = 'neg_mean_squared_error')\n",
    "\n",
    "print('Métricas: ', metricas_cv)\n",
    "print('Media métricas: ', metricas_cv.mean())\n",
    "print('Media std: ', metricas_cv.std())"
   ]
  },
  {
   "cell_type": "code",
   "execution_count": 60,
   "id": "27e3849c",
   "metadata": {
    "hidden": true
   },
   "outputs": [],
   "source": [
    "variables2 =['rd_mes', 'lives', 'genres_Comedy',\n",
    "       'production_countries_United States of America', 'crew_freq',\n",
    "       'Keywords_freq', 'time', 'rd_dia_semana', 'genres_Adventure', 'team',\n",
    "       'genres_Action', 'cast_genero_1', 'cast_genero_2', 'friends', 'boy',\n",
    "       'small', 'belongs_to_collection', 'secret', 'years', 'police', 'man',\n",
    "       'runtime', 'genres_Drama', 'woman', 'life', 'war', 'friend', 'rd_year',\n",
    "       'popularity', 'budget']"
   ]
  },
  {
   "cell_type": "markdown",
   "id": "295bd678",
   "metadata": {
    "heading_collapsed": true,
    "hidden": true
   },
   "source": [
    "### Intento 4\n",
    "\n",
    "- variables 2 + 'Keywords_independent film'\n",
    "      Media métricas:  -4.663541659606683\n",
    "      Media std:  0.4201726147514795"
   ]
  },
  {
   "cell_type": "code",
   "execution_count": 102,
   "id": "d3df09d9",
   "metadata": {
    "hidden": true
   },
   "outputs": [
    {
     "name": "stdout",
     "output_type": "stream",
     "text": [
      "<class 'pandas.core.frame.DataFrame'>\n",
      "RangeIndex: 2100 entries, 0 to 2099\n",
      "Data columns (total 48 columns):\n",
      " #   Column                                         Non-Null Count  Dtype  \n",
      "---  ------                                         --------------  -----  \n",
      " 0   budget                                         2100 non-null   float64\n",
      " 1   popularity                                     2100 non-null   float64\n",
      " 2   rd_year                                        2100 non-null   float64\n",
      " 3   runtime                                        2100 non-null   float64\n",
      " 4   crew_freq                                      2100 non-null   float64\n",
      " 5   rd_mes                                         2100 non-null   float64\n",
      " 6   cast_genero_1                                  2100 non-null   float64\n",
      " 7   cast_genero_2                                  2100 non-null   float64\n",
      " 8   rd_dia_semana                                  2100 non-null   float64\n",
      " 9   cast_genero_0                                  2100 non-null   float64\n",
      " 10  man                                            2100 non-null   float64\n",
      " 11  secret                                         2100 non-null   float64\n",
      " 12  family                                         2100 non-null   float64\n",
      " 13  time                                           2100 non-null   float64\n",
      " 14  police                                         2100 non-null   float64\n",
      " 15  woman                                          2100 non-null   float64\n",
      " 16  small                                          2100 non-null   float64\n",
      " 17  life                                           2100 non-null   float64\n",
      " 18  friend                                         2100 non-null   float64\n",
      " 19  war                                            2100 non-null   float64\n",
      " 20  years                                          2100 non-null   float64\n",
      " 21  friends                                        2100 non-null   float64\n",
      " 22  lives                                          2100 non-null   float64\n",
      " 23  love                                           2100 non-null   float64\n",
      " 24  mother                                         2100 non-null   float64\n",
      " 25  day                                            2100 non-null   float64\n",
      " 26  aos                                            2100 non-null   float64\n",
      " 27  team                                           2100 non-null   float64\n",
      " 28  boy                                            2100 non-null   float64\n",
      " 29  school                                         2100 non-null   float64\n",
      " 30  finds                                          2100 non-null   float64\n",
      " 31  Keywords_freq                                  2100 non-null   float64\n",
      " 32  Keywords_independent film                      2100 non-null   float64\n",
      " 33  Keywords_murder                                2100 non-null   float64\n",
      " 34  production_companies_Paramount Pictures        2100 non-null   float64\n",
      " 35  production_countries_United States of America  2100 non-null   float64\n",
      " 36  belongs_to_collection                          2100 non-null   int64  \n",
      " 37  genres_Drama                                   2100 non-null   int64  \n",
      " 38  genres_Comedy                                  2100 non-null   int64  \n",
      " 39  genres_Thriller                                2100 non-null   int64  \n",
      " 40  genres_Action                                  2100 non-null   int64  \n",
      " 41  genres_Romance                                 2100 non-null   int64  \n",
      " 42  genres_Crime                                   2100 non-null   int64  \n",
      " 43  genres_Adventure                               2100 non-null   int64  \n",
      " 44  genres_Horror                                  2100 non-null   int64  \n",
      " 45  genres_Science Fiction                         2100 non-null   int64  \n",
      " 46  genres_Family                                  2100 non-null   int64  \n",
      " 47  numero_estrellas                               2100 non-null   int64  \n",
      "dtypes: float64(36), int64(12)\n",
      "memory usage: 787.6 KB\n"
     ]
    }
   ],
   "source": [
    "df_unido.info()"
   ]
  },
  {
   "cell_type": "code",
   "execution_count": 114,
   "id": "10c95f26",
   "metadata": {
    "hidden": true
   },
   "outputs": [
    {
     "data": {
      "text/plain": [
       "0      16.33\n",
       "1      18.37\n",
       "2      16.39\n",
       "3      16.59\n",
       "4      15.00\n",
       "        ... \n",
       "2095   19.21\n",
       "2096   16.50\n",
       "2097   12.10\n",
       "2098   18.31\n",
       "2099   18.96\n",
       "Name: log_revenue, Length: 2100, dtype: float64"
      ]
     },
     "execution_count": 114,
     "metadata": {},
     "output_type": "execute_result"
    }
   ],
   "source": [
    "variables3 = variables2+['Keywords_independent film']\n",
    "len(variables3)\n",
    "df_unido[variables3]\n",
    "y"
   ]
  },
  {
   "cell_type": "code",
   "execution_count": 115,
   "id": "7dc7e988",
   "metadata": {
    "hidden": true
   },
   "outputs": [
    {
     "name": "stdout",
     "output_type": "stream",
     "text": [
      "Métricas:  [-4.93637414 -4.81689667 -4.55223456 -5.10726938 -3.90493356]\n",
      "Media métricas:  -4.663541659606683\n",
      "Media std:  0.4201726147514795\n"
     ]
    }
   ],
   "source": [
    "from sklearn.model_selection import cross_val_score\n",
    "from sklearn.model_selection import KFold\n",
    "\n",
    "\n",
    "m = XGBRegressor(base_score=0.5, booster='gbtree',\n",
    "                              colsample_bylevel=1, colsample_bynode=1,\n",
    "                              colsample_bytree=1, enable_categorical=False,\n",
    "                              gamma=0.5, gpu_id=-1, importance_type=None,\n",
    "                              interaction_constraints='', learning_rate=0.01,\n",
    "                              max_delta_step=0, max_depth=3, min_child_weight=1,\n",
    "                               monotone_constraints='()',\n",
    "                              n_estimators=500, n_jobs=8, num_parallel_tree=1,\n",
    "                              predictor='auto', random_state=0, reg_alpha=0,\n",
    "                              reg_lambda=0.01, scale_pos_weight=1, subsample=1,\n",
    "                              tree_method='exact', validate_parameters=1,\n",
    "                              verbosity=None)\n",
    "\n",
    "kf = KFold(n_splits = 5)\n",
    "\n",
    "metricas_cv = cross_val_score(estimator = m,\n",
    "                              X = df_unido[variables3],\n",
    "                              y = y,\n",
    "                              cv = kf,\n",
    "                              scoring = 'neg_mean_squared_error')\n",
    "\n",
    "print('Métricas: ', metricas_cv)\n",
    "print('Media métricas: ', metricas_cv.mean())\n",
    "print('Media std: ', metricas_cv.std())"
   ]
  },
  {
   "cell_type": "markdown",
   "id": "7db3b97b",
   "metadata": {
    "heading_collapsed": true,
    "hidden": true
   },
   "source": [
    "### intento 5\n",
    "cast_freq y cast_freq_bin <11 or 6 , bin_english\n",
    "- Media métricas:  -4.671215888214624\n",
    "- Media std:  0.423564091409762"
   ]
  },
  {
   "cell_type": "code",
   "execution_count": 123,
   "id": "462ea42c",
   "metadata": {
    "hidden": true
   },
   "outputs": [
    {
     "data": {
      "text/plain": [
       "['rd_mes',\n",
       " 'lives',\n",
       " 'genres_Comedy',\n",
       " 'production_countries_United States of America',\n",
       " 'crew_freq',\n",
       " 'Keywords_freq',\n",
       " 'time',\n",
       " 'rd_dia_semana',\n",
       " 'genres_Adventure',\n",
       " 'team',\n",
       " 'genres_Action',\n",
       " 'cast_genero_1',\n",
       " 'cast_genero_2',\n",
       " 'friends',\n",
       " 'boy',\n",
       " 'small',\n",
       " 'belongs_to_collection',\n",
       " 'secret',\n",
       " 'years',\n",
       " 'police',\n",
       " 'man',\n",
       " 'runtime',\n",
       " 'genres_Drama',\n",
       " 'woman',\n",
       " 'life',\n",
       " 'war',\n",
       " 'friend',\n",
       " 'rd_year',\n",
       " 'popularity',\n",
       " 'budget']"
      ]
     },
     "execution_count": 123,
     "metadata": {},
     "output_type": "execute_result"
    }
   ],
   "source": [
    "variables2"
   ]
  },
  {
   "cell_type": "code",
   "execution_count": 127,
   "id": "3342b4af",
   "metadata": {
    "hidden": true
   },
   "outputs": [],
   "source": [
    "df_unido2 = pd.concat([df_unido,df_cat2[['cast_freq','bin_english']]],axis=1)"
   ]
  },
  {
   "cell_type": "code",
   "execution_count": 139,
   "id": "bc114ade",
   "metadata": {
    "hidden": true
   },
   "outputs": [],
   "source": [
    "df_unido2['cast_freq_bin'] = np.where(df_unido2['cast_freq']<6,1,0)"
   ]
  },
  {
   "cell_type": "code",
   "execution_count": 140,
   "id": "6a59cfb0",
   "metadata": {
    "hidden": true
   },
   "outputs": [],
   "source": [
    "variables3 = variables2 +['cast_freq_bin']"
   ]
  },
  {
   "cell_type": "code",
   "execution_count": 141,
   "id": "c1c3a2eb",
   "metadata": {
    "hidden": true
   },
   "outputs": [
    {
     "name": "stdout",
     "output_type": "stream",
     "text": [
      "Métricas:  [-4.93229964 -4.85812612 -4.54155895 -5.11472987 -3.90936487]\n",
      "Media métricas:  -4.671215888214624\n",
      "Media std:  0.423564091409762\n"
     ]
    }
   ],
   "source": [
    "from sklearn.model_selection import cross_val_score\n",
    "from sklearn.model_selection import KFold\n",
    "\n",
    "variables3 = variables2+['bin_english']\n",
    "m = XGBRegressor(base_score=0.5, booster='gbtree',\n",
    "                              colsample_bylevel=1, colsample_bynode=1,\n",
    "                              colsample_bytree=1, enable_categorical=False,\n",
    "                              gamma=0.5, gpu_id=-1, importance_type=None,\n",
    "                              interaction_constraints='', learning_rate=0.01,\n",
    "                              max_delta_step=0, max_depth=3, min_child_weight=1,\n",
    "                               monotone_constraints='()',\n",
    "                              n_estimators=500, n_jobs=8, num_parallel_tree=1,\n",
    "                              predictor='auto', random_state=0, reg_alpha=0,\n",
    "                              reg_lambda=0.01, scale_pos_weight=1, subsample=1,\n",
    "                              tree_method='exact', validate_parameters=1,\n",
    "                              verbosity=None)\n",
    "\n",
    "kf = KFold(n_splits = 5)\n",
    "\n",
    "metricas_cv = cross_val_score(estimator = m,\n",
    "                              X = df_unido2[variables3],\n",
    "                              y = y,\n",
    "                              cv = kf,\n",
    "                              scoring = 'neg_mean_squared_error')\n",
    "\n",
    "print('Métricas: ', metricas_cv)\n",
    "print('Media métricas: ', metricas_cv.mean())\n",
    "print('Media std: ', metricas_cv.std())"
   ]
  },
  {
   "cell_type": "markdown",
   "id": "035c08ac",
   "metadata": {
    "hidden": true
   },
   "source": [
    "### Intento 6\n",
    "df_cat['budget']/(df_cat['runtime'] )\n",
    "- Media métricas:  -4.657164876596376\n",
    "- Media std:  0.41505357190195297"
   ]
  },
  {
   "cell_type": "code",
   "execution_count": 142,
   "id": "cba1f03e",
   "metadata": {
    "hidden": true
   },
   "outputs": [
    {
     "data": {
      "text/plain": [
       "Index(['Unnamed: 0', 'id', 'budget', 'original_language', 'original_title',\n",
       "       'overview', 'popularity', 'release_date', 'runtime', 'status', 'title',\n",
       "       'revenue', 'rd_year', 'rd_mes', 'rd_dia_semana', 'rd_cuatrimestre',\n",
       "       'genres', 'production_companies', 'production_countries', 'Keywords',\n",
       "       'cast', 'crew', 'genres_freq', 'production_companies_freq',\n",
       "       'production_countries_freq', 'Keywords_freq', 'cast_freq', 'crew_freq',\n",
       "       'cast_genero_0', 'cast_genero_1', 'cast_genero_2', 'bin_english'],\n",
       "      dtype='object')"
      ]
     },
     "execution_count": 142,
     "metadata": {},
     "output_type": "execute_result"
    }
   ],
   "source": [
    "df_cat.columns"
   ]
  },
  {
   "cell_type": "code",
   "execution_count": 173,
   "id": "69311185",
   "metadata": {
    "hidden": true
   },
   "outputs": [
    {
     "data": {
      "text/plain": [
       "0"
      ]
     },
     "execution_count": 173,
     "metadata": {},
     "output_type": "execute_result"
    }
   ],
   "source": [
    "df_cat['budget'].isna().sum()"
   ]
  },
  {
   "cell_type": "code",
   "execution_count": 183,
   "id": "fc7d1627",
   "metadata": {
    "hidden": true
   },
   "outputs": [],
   "source": [
    "df_unido2 =df_unido.copy()\n",
    "\n",
    "media = df_cat['budget']/(df_cat['runtime'] )\n",
    "media.mean()\n",
    "media.std()\n",
    "df_unido2['_budget_runtime_ratio']=(media-media.mean() )/media.std()\n",
    "df_unido2['_budget_year_ratio'] = df_cat['budget']/(df_cat['rd_year']*df_cat['rd_year'] )\n"
   ]
  },
  {
   "cell_type": "code",
   "execution_count": 184,
   "id": "42e196bf",
   "metadata": {
    "hidden": true
   },
   "outputs": [
    {
     "name": "stdout",
     "output_type": "stream",
     "text": [
      "Métricas:  [-4.93112446 -4.85255777 -4.51098439 -5.07632249 -3.91483526]\n",
      "Media métricas:  -4.657164876596376\n",
      "Media std:  0.41505357190195297\n"
     ]
    }
   ],
   "source": [
    "from sklearn.model_selection import cross_val_score\n",
    "from sklearn.model_selection import KFold\n",
    "\n",
    "variables3 = variables2 +['_budget_runtime_ratio']\n",
    "m = XGBRegressor(base_score=0.5, booster='gbtree',\n",
    "                              colsample_bylevel=1, colsample_bynode=1,\n",
    "                              colsample_bytree=1, enable_categorical=False,\n",
    "                              gamma=0.5, gpu_id=-1, importance_type=None,\n",
    "                              interaction_constraints='', learning_rate=0.01,\n",
    "                              max_delta_step=0, max_depth=3, min_child_weight=1,\n",
    "                               monotone_constraints='()',\n",
    "                              n_estimators=500, n_jobs=8, num_parallel_tree=1,\n",
    "                              predictor='auto', random_state=0, reg_alpha=0,\n",
    "                              reg_lambda=0.01, scale_pos_weight=1, subsample=1,\n",
    "                              tree_method='exact', validate_parameters=1,\n",
    "                              verbosity=None)\n",
    "\n",
    "kf = KFold(n_splits = 5)\n",
    "\n",
    "metricas_cv = cross_val_score(estimator = m,\n",
    "                              X = df_unido2[variables3],\n",
    "                              y = y,\n",
    "                              cv = kf,\n",
    "                              scoring = 'neg_mean_squared_error')\n",
    "\n",
    "print('Métricas: ', metricas_cv)\n",
    "print('Media métricas: ', metricas_cv.mean())\n",
    "print('Media std: ', metricas_cv.std())"
   ]
  },
  {
   "cell_type": "code",
   "execution_count": null,
   "id": "9a2b9698",
   "metadata": {
    "hidden": true
   },
   "outputs": [],
   "source": [
    "df['meanruntimeByYear'] = df.groupby(\"release_year\")[\"runtime\"].aggregate('mean')"
   ]
  },
  {
   "cell_type": "markdown",
   "id": "9642a0e2",
   "metadata": {},
   "source": [
    "# Test"
   ]
  },
  {
   "cell_type": "code",
   "execution_count": 78,
   "id": "a23ad2e7",
   "metadata": {},
   "outputs": [],
   "source": [
    "# DATOS ENTRENAMIENTO\n",
    "ruta_proyecto =  'C:/proyectos/03_PREDICCION_TAQUILLA'\n",
    "nombre_fichero_datos = 'train.csv'\n",
    "ruta_completa = ruta_proyecto + '/02_Datos/01_Originales/' + nombre_fichero_datos\n",
    "datos_train = pd.read_csv(ruta_completa)"
   ]
  },
  {
   "cell_type": "code",
   "execution_count": 79,
   "id": "0205876f",
   "metadata": {},
   "outputs": [],
   "source": [
    "stop = pd.read_csv(ruta_proyecto + '/01_Documentos/stop_words_english.txt',names = ['termino'])\n",
    "\n",
    "def quitar_tildes(palabra):\n",
    "    #Definimos la versión con tildes y símbolos y la sin\n",
    "    con = 'áéíóúüñÁÉÍÓÚÜÑ'\n",
    "    sin = 'aeiouunAEIOUUN'\n",
    "    #Creamos un traductor\n",
    "    traductor = str.maketrans(con,sin)\n",
    "    #Aplicamos el traductor y devolvemos la palabra limpia\n",
    "    return(palabra.translate(traductor))\n",
    "\n",
    "stop['limpias'] = stop.termino.transform(quitar_tildes)"
   ]
  },
  {
   "cell_type": "code",
   "execution_count": 80,
   "id": "9912676e",
   "metadata": {},
   "outputs": [],
   "source": [
    "# cat = pre_procesamiento(datos)\n",
    "cat = pre_procesamiento(datos_train)\n",
    "df_cat =  procesamiento(cat)\n",
    "df_cat2 = post_procesamiento_m1(df_cat)"
   ]
  },
  {
   "cell_type": "code",
   "execution_count": 81,
   "id": "f642717d",
   "metadata": {},
   "outputs": [],
   "source": [
    "y  = df_cat2['revenue'].transform(np.log1p)\n",
    "x = df_cat2.drop(columns=['revenue'])\n",
    "x['overview'].fillna('',inplace=True)"
   ]
  },
  {
   "cell_type": "code",
   "execution_count": 82,
   "id": "496b11c2",
   "metadata": {},
   "outputs": [],
   "source": [
    "var_reescalado_robusto = ['budget','popularity','rd_year','runtime',\n",
    "         'crew_freq','rd_mes','cast_genero_1','cast_genero_2',\n",
    "         'rd_dia_semana','cast_genero_0']\n",
    "reescalado_robusto = RobustScaler(quantile_range=(10.0, 90.0))\n",
    "\n",
    "tfidf = TfidfVectorizer(strip_accents = 'unicode',\n",
    "                     stop_words = stop.limpias.to_list(),\n",
    "                     max_df = 0.7,\n",
    "                     min_df = 50,\n",
    "                     ngram_range = (1,3),\n",
    "                     max_features = 50)\n",
    "\n",
    "\n",
    "def seleccionar_variables_tdidf(df_tfidf_i):\n",
    "    df_tfidf = pd.DataFrame.sparse.from_spmatrix(df_tfidf_i,columns = tfidf.get_feature_names())\n",
    "\n",
    "    palabras_elegidas = ['man',\n",
    " 'secret',\n",
    " 'family',\n",
    " 'time',\n",
    " 'police',\n",
    " 'woman',\n",
    " 'small',\n",
    " 'life',\n",
    " 'friend',\n",
    " 'war',\n",
    " 'years',\n",
    " 'friends',\n",
    " 'lives',\n",
    " 'love',\n",
    " 'mother',\n",
    " 'day',\n",
    " 'aos',\n",
    " 'team',\n",
    " 'boy',\n",
    " 'school',\n",
    " 'finds']\n",
    "    palabras_que_no_estan =[column for column in palabras_elegidas if column not in df_tfidf.columns]\n",
    "    for palabra in palabras_que_no_estan:\n",
    "        df_tfidf[palabra]=0\n",
    "    return df_tfidf[palabras_elegidas].sparse.to_dense()\n",
    "\n",
    "def selector_variables(df):\n",
    "    return df\n",
    "\n",
    "# FUNCIONES A TRANSFORMERS\n",
    "seleccionar_variables_tdidf_pipe=FunctionTransformer(seleccionar_variables_tdidf)\n",
    "selector_variables_pipe=FunctionTransformer(selector_variables)"
   ]
  },
  {
   "cell_type": "code",
   "execution_count": 83,
   "id": "cc30cae9",
   "metadata": {},
   "outputs": [],
   "source": [
    "#PIPELINE TEXTO\n",
    "text_features_pipe = make_pipeline(tfidf,seleccionar_variables_tdidf_pipe)\n",
    "\n",
    "text_features_pipe.fit_transform(x['overview'])\n",
    "text_features_pipe.named_steps.tfidfvectorizer.get_feature_names()\n",
    "\n",
    "variables_ohe=[ 'Keywords_freq',\n",
    "     'Keywords_independent film',\n",
    "     'Keywords_murder',\n",
    "     'production_companies_Paramount Pictures',\n",
    "     'production_countries_United States of America']\n",
    "\n",
    "# COLUMN TRANSFORM\n",
    "column_transformer_total = make_column_transformer(\n",
    "    (reescalado_robusto, var_reescalado_robusto),\n",
    "    (text_features_pipe,'overview'),\n",
    "    (selector_variables_pipe,variables_ohe),\n",
    "    remainder='drop')\n",
    "\n",
    "# variables tfidf\n",
    "palabras_elegidas = ['man',\n",
    " 'secret',\n",
    " 'family',\n",
    " 'time',\n",
    " 'police',\n",
    " 'woman',\n",
    " 'small',\n",
    " 'life',\n",
    " 'friend',\n",
    " 'war',\n",
    " 'years',\n",
    " 'friends',\n",
    " 'lives',\n",
    " 'love',\n",
    " 'mother',\n",
    " 'day',\n",
    " 'aos',\n",
    " 'team',\n",
    " 'boy',\n",
    " 'school',\n",
    " 'finds']\n",
    "\n",
    "\n",
    "variables = var_reescalado_robusto + palabras_elegidas +variables_ohe"
   ]
  },
  {
   "cell_type": "code",
   "execution_count": 84,
   "id": "dc9c5d0b",
   "metadata": {},
   "outputs": [
    {
     "data": {
      "text/plain": [
       "(3000, 36)"
      ]
     },
     "execution_count": 84,
     "metadata": {},
     "output_type": "execute_result"
    }
   ],
   "source": [
    "df = pd.DataFrame(column_transformer_total.fit_transform(x), columns=variables) \n",
    "df.shape"
   ]
  },
  {
   "cell_type": "code",
   "execution_count": 85,
   "id": "915bd8aa",
   "metadata": {},
   "outputs": [
    {
     "data": {
      "text/plain": [
       "['rd_mes',\n",
       " 'lives',\n",
       " 'genres_Comedy',\n",
       " 'production_countries_United States of America',\n",
       " 'crew_freq',\n",
       " 'Keywords_freq',\n",
       " 'time',\n",
       " 'rd_dia_semana',\n",
       " 'genres_Adventure',\n",
       " 'team',\n",
       " 'genres_Action',\n",
       " 'cast_genero_1',\n",
       " 'cast_genero_2',\n",
       " 'friends',\n",
       " 'boy',\n",
       " 'small',\n",
       " 'belongs_to_collection',\n",
       " 'secret',\n",
       " 'years',\n",
       " 'police',\n",
       " 'man',\n",
       " 'runtime',\n",
       " 'genres_Drama',\n",
       " 'woman',\n",
       " 'life',\n",
       " 'war',\n",
       " 'friend',\n",
       " 'rd_year',\n",
       " 'popularity',\n",
       " 'budget']"
      ]
     },
     "execution_count": 85,
     "metadata": {},
     "output_type": "execute_result"
    }
   ],
   "source": [
    "variables2"
   ]
  },
  {
   "cell_type": "code",
   "execution_count": 86,
   "id": "5ce5d45a",
   "metadata": {},
   "outputs": [
    {
     "data": {
      "text/plain": [
       "(3000, 23)"
      ]
     },
     "execution_count": 86,
     "metadata": {},
     "output_type": "execute_result"
    }
   ],
   "source": [
    "datos_train.shape"
   ]
  },
  {
   "cell_type": "code",
   "execution_count": 87,
   "id": "748de548",
   "metadata": {},
   "outputs": [],
   "source": [
    "is_from_collection = cat['belongs_to_collection'].fillna('').map(lambda x: sorted([d['name'] for d in get_dictionary(x)])).map(lambda x: 1 if len(x)>0 else 0)\n",
    "generos = show_top_items_unique(df_cat['genres'])\n",
    "df_generos_top = top_ohe_uniques(df_cat['genres'])"
   ]
  },
  {
   "cell_type": "code",
   "execution_count": 88,
   "id": "078e42ab",
   "metadata": {},
   "outputs": [],
   "source": [
    "df_train = pd.concat([df,is_from_collection,df_generos_top],axis=1)"
   ]
  },
  {
   "cell_type": "code",
   "execution_count": 89,
   "id": "fb057379",
   "metadata": {},
   "outputs": [],
   "source": [
    "m2 =  HistGradientBoostingRegressor(l2_regularization=0.75,\n",
    "                                               max_depth=5,\n",
    "                                               min_samples_leaf=100)"
   ]
  },
  {
   "cell_type": "code",
   "execution_count": 90,
   "id": "2cb1b1a5",
   "metadata": {},
   "outputs": [
    {
     "data": {
      "text/plain": [
       "(3000, 30)"
      ]
     },
     "execution_count": 90,
     "metadata": {},
     "output_type": "execute_result"
    }
   ],
   "source": [
    "df_train[variables2].shape"
   ]
  },
  {
   "cell_type": "code",
   "execution_count": 91,
   "id": "d2b1112a",
   "metadata": {},
   "outputs": [
    {
     "name": "stdout",
     "output_type": "stream",
     "text": [
      "-0.12307692307692308\n",
      "0.2190359093846104\n"
     ]
    }
   ],
   "source": [
    "df_prueba = df_train.copy()\n",
    "valor_minimo = df_prueba.budget.min()\n",
    "valor_medio = df_prueba.budget.mean()\n",
    "print(valor_minimo)\n",
    "print(valor_medio)\n",
    "indices = df_prueba.query('budget==@valor_minimo').index\n",
    "df_prueba.loc[indices,'budget'] = valor_medio"
   ]
  },
  {
   "cell_type": "code",
   "execution_count": 92,
   "id": "c328f559",
   "metadata": {},
   "outputs": [
    {
     "data": {
      "text/plain": [
       "HistGradientBoostingRegressor(l2_regularization=0.75, max_depth=5,\n",
       "                              min_samples_leaf=100)"
      ]
     },
     "execution_count": 92,
     "metadata": {},
     "output_type": "execute_result"
    }
   ],
   "source": [
    "m2.fit(df_prueba[variables2],y)"
   ]
  },
  {
   "cell_type": "code",
   "execution_count": null,
   "id": "630c3b49",
   "metadata": {},
   "outputs": [],
   "source": []
  },
  {
   "cell_type": "code",
   "execution_count": 93,
   "id": "385107f6",
   "metadata": {},
   "outputs": [],
   "source": [
    "# TEST\n",
    "nombre_fichero_datos = \"test.csv\"\n",
    "ruta_completa = ruta_proyecto + '/02_Datos/01_Originales/' + nombre_fichero_datos\n",
    "datos = pd.read_csv(ruta_completa)\n",
    "\n",
    "cat = pre_procesamiento(datos)\n",
    "df_cat =  procesamiento(cat)\n",
    "df_cat2 = post_procesamiento_m1(df_cat)\n",
    "df_cat2['overview'] = df_cat2['overview'].fillna('')\n",
    "\n",
    "#new\n",
    "# is_from_collection = cat['belongs_to_collection'].fillna('').map(lambda x: sorted([d['name'] for d in get_dictionary(x)])).map(lambda x: 1 if len(x)>0 else 0)\n",
    "is_from_collection = cat['belongs_to_collection'].fillna('').map(lambda x: sorted([d['name'] for d in get_dictionary(x)])).map(lambda x: 1 if len(x)>0 else 0)\n",
    "generos = show_top_items_unique(df_cat['genres'])\n",
    "df_generos_top = top_ohe_uniques(df_cat['genres'])"
   ]
  },
  {
   "cell_type": "code",
   "execution_count": 94,
   "id": "9009cf27",
   "metadata": {},
   "outputs": [],
   "source": [
    "x_test = pd.DataFrame(column_transformer_total.transform(x),columns=variables)"
   ]
  },
  {
   "cell_type": "code",
   "execution_count": 95,
   "id": "3e8c2415",
   "metadata": {},
   "outputs": [],
   "source": [
    "df_test = pd.concat([x_test,is_from_collection,df_generos_top],axis=1)"
   ]
  },
  {
   "cell_type": "code",
   "execution_count": 96,
   "id": "c842446f",
   "metadata": {},
   "outputs": [
    {
     "name": "stdout",
     "output_type": "stream",
     "text": [
      "-0.12307692307692308\n",
      "0.2190359093846104\n"
     ]
    }
   ],
   "source": [
    "df_test2 = df_test.copy()\n",
    "valor_minimo = df_test2.budget.min()\n",
    "valor_medio = df_test2.budget.mean()\n",
    "print(valor_minimo)\n",
    "print(valor_medio)\n",
    "indices = df_test2.query('budget==@valor_minimo').index\n",
    "df_test2.loc[indices,'budget'] = valor_medio"
   ]
  },
  {
   "cell_type": "code",
   "execution_count": 97,
   "id": "68a079bf",
   "metadata": {},
   "outputs": [],
   "source": [
    "predicciones = np.exp(m2.predict(df_test2[variables2]))-1\n",
    "predicciones\n",
    "\n",
    "def submit(prediction,dfid):\n",
    "    # la prediccion el modelo la hace log revenue. hay que cambiar\n",
    "\n",
    "    df_submit = pd.DataFrame({'revenue':prediction}, index=dfid)\n",
    "    nombre_cat = \"submit.csv\"\n",
    "    df_submit.to_csv(ruta_proyecto + '/03_Notebooks/03_Sistema/' + nombre_cat)\n",
    "    \n",
    "submit(predicciones,datos.id)"
   ]
  },
  {
   "cell_type": "code",
   "execution_count": null,
   "id": "a0520751",
   "metadata": {},
   "outputs": [],
   "source": []
  }
 ],
 "metadata": {
  "kernelspec": {
   "display_name": "Python 3 (ipykernel)",
   "language": "python",
   "name": "python3"
  },
  "language_info": {
   "codemirror_mode": {
    "name": "ipython",
    "version": 3
   },
   "file_extension": ".py",
   "mimetype": "text/x-python",
   "name": "python",
   "nbconvert_exporter": "python",
   "pygments_lexer": "ipython3",
   "version": "3.9.7"
  },
  "toc": {
   "base_numbering": 1,
   "nav_menu": {},
   "number_sections": true,
   "sideBar": true,
   "skip_h1_title": false,
   "title_cell": "Table of Contents",
   "title_sidebar": "Contents",
   "toc_cell": true,
   "toc_position": {
    "height": "calc(100% - 180px)",
    "left": "10px",
    "top": "150px",
    "width": "349.047px"
   },
   "toc_section_display": true,
   "toc_window_display": true
  },
  "varInspector": {
   "cols": {
    "lenName": 16,
    "lenType": 16,
    "lenVar": 40
   },
   "kernels_config": {
    "python": {
     "delete_cmd_postfix": "",
     "delete_cmd_prefix": "del ",
     "library": "var_list.py",
     "varRefreshCmd": "print(var_dic_list())"
    },
    "r": {
     "delete_cmd_postfix": ") ",
     "delete_cmd_prefix": "rm(",
     "library": "var_list.r",
     "varRefreshCmd": "cat(var_dic_list()) "
    }
   },
   "types_to_exclude": [
    "module",
    "function",
    "builtin_function_or_method",
    "instance",
    "_Feature"
   ],
   "window_display": false
  }
 },
 "nbformat": 4,
 "nbformat_minor": 5
}
